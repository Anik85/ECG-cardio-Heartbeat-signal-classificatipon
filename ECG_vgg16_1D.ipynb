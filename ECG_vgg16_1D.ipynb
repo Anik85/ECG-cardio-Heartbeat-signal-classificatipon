{
  "cells": [
    {
      "cell_type": "markdown",
      "metadata": {
        "id": "view-in-github",
        "colab_type": "text"
      },
      "source": [
        "<a href=\"https://colab.research.google.com/github/Anik85/Anik85/blob/main/ECG_vgg16_1D.ipynb\" target=\"_parent\"><img src=\"https://colab.research.google.com/assets/colab-badge.svg\" alt=\"Open In Colab\"/></a>"
      ]
    },
    {
      "cell_type": "code",
      "execution_count": 1,
      "metadata": {
        "id": "utYMIkmEThSr"
      },
      "outputs": [],
      "source": [
        "!mkdir -p ~/.kaggle\n",
        "!cp kaggle.json ~/.kaggle/"
      ]
    },
    {
      "cell_type": "code",
      "execution_count": 2,
      "metadata": {
        "colab": {
          "base_uri": "https://localhost:8080/"
        },
        "id": "DKnsPWyH5A-D",
        "outputId": "b9eaec39-9a9b-44c3-be99-7dbfc15ac2c6"
      },
      "outputs": [
        {
          "output_type": "stream",
          "name": "stdout",
          "text": [
            "Warning: Your Kaggle API key is readable by other users on this system! To fix this, you can run 'chmod 600 /root/.kaggle/kaggle.json'\n",
            "Downloading heartbeat.zip to /content\n",
            " 93% 92.0M/98.8M [00:00<00:00, 192MB/s]\n",
            "100% 98.8M/98.8M [00:00<00:00, 186MB/s]\n"
          ]
        }
      ],
      "source": [
        "!kaggle datasets download -d shayanfazeli/heartbeat"
      ]
    },
    {
      "cell_type": "code",
      "execution_count": 3,
      "metadata": {
        "id": "HmgQHnZw5Z98"
      },
      "outputs": [],
      "source": [
        "import zipfile\n",
        "zip_ref=zipfile.ZipFile('/content/heartbeat.zip','r')\n",
        "zip_ref.extractall('/content')\n",
        "zip_ref.close()"
      ]
    },
    {
      "cell_type": "code",
      "execution_count": 4,
      "metadata": {
        "id": "ROTOWE_66g89"
      },
      "outputs": [],
      "source": [
        "import os\n",
        "import numpy as np\n",
        "import pandas as pd\n",
        "import seaborn as sns\n",
        "import tensorflow as tf\n",
        "import matplotlib.pyplot as plt\n",
        "from sklearn.model_selection import train_test_split\n",
        "from keras.utils.np_utils import to_categorical\n",
        "from sklearn.utils import class_weight, resample\n",
        "from keras.layers import Conv1D, MaxPooling1D, Flatten, Dense, Dropout, BatchNormalization\n",
        "from keras.models import Sequential\n",
        "from keras.callbacks import EarlyStopping, ModelCheckpoint\n",
        "from sklearn.model_selection import train_test_split\n",
        "from sklearn.preprocessing import StandardScaler\n",
        "from keras.layers import Input,  Softmax, Add,  AveragePooling1D, ZeroPadding1D,Activation\n",
        "from keras import backend as K\n",
        "from keras.models import Model\n",
        "from keras.initializers import glorot_uniform"
      ]
    },
    {
      "cell_type": "code",
      "execution_count": 5,
      "metadata": {
        "id": "rj4Iqr6Nf41t"
      },
      "outputs": [],
      "source": [
        "train_df=pd.read_csv('/content/mitbih_train.csv',header=None)\n",
        "test_df=pd.read_csv('/content/mitbih_test.csv',header=None)"
      ]
    },
    {
      "cell_type": "code",
      "execution_count": 6,
      "metadata": {
        "colab": {
          "base_uri": "https://localhost:8080/"
        },
        "id": "42haKTh-W6gA",
        "outputId": "c3adeb6d-36ea-43c7-b205-62fa822062b3"
      },
      "outputs": [
        {
          "output_type": "execute_result",
          "data": {
            "text/plain": [
              "(87554, 188)"
            ]
          },
          "metadata": {},
          "execution_count": 6
        }
      ],
      "source": [
        "train_df.shape"
      ]
    },
    {
      "cell_type": "code",
      "execution_count": 7,
      "metadata": {
        "colab": {
          "base_uri": "https://localhost:8080/",
          "height": 300
        },
        "id": "YwBpd64ggRDO",
        "outputId": "f927bb48-4557-45b6-bc82-30dbb34fd421"
      },
      "outputs": [
        {
          "output_type": "execute_result",
          "data": {
            "text/plain": [
              "        0         1         2         3         4         5         6    \\\n",
              "0  1.000000  0.758264  0.111570  0.000000  0.080579  0.078512  0.066116   \n",
              "1  0.908425  0.783883  0.531136  0.362637  0.366300  0.344322  0.333333   \n",
              "2  0.730088  0.212389  0.000000  0.119469  0.101770  0.101770  0.110619   \n",
              "3  1.000000  0.910417  0.681250  0.472917  0.229167  0.068750  0.000000   \n",
              "4  0.570470  0.399329  0.238255  0.147651  0.000000  0.003356  0.040268   \n",
              "\n",
              "        7         8         9    ...  178  179  180  181  182  183  184  185  \\\n",
              "0  0.049587  0.047521  0.035124  ...  0.0  0.0  0.0  0.0  0.0  0.0  0.0  0.0   \n",
              "1  0.307692  0.296703  0.300366  ...  0.0  0.0  0.0  0.0  0.0  0.0  0.0  0.0   \n",
              "2  0.123894  0.115044  0.132743  ...  0.0  0.0  0.0  0.0  0.0  0.0  0.0  0.0   \n",
              "3  0.004167  0.014583  0.054167  ...  0.0  0.0  0.0  0.0  0.0  0.0  0.0  0.0   \n",
              "4  0.080537  0.070470  0.090604  ...  0.0  0.0  0.0  0.0  0.0  0.0  0.0  0.0   \n",
              "\n",
              "   186  187  \n",
              "0  0.0  0.0  \n",
              "1  0.0  0.0  \n",
              "2  0.0  0.0  \n",
              "3  0.0  0.0  \n",
              "4  0.0  0.0  \n",
              "\n",
              "[5 rows x 188 columns]"
            ],
            "text/html": [
              "\n",
              "  <div id=\"df-57410cd0-3383-434a-bca8-d6f4c81ccffa\">\n",
              "    <div class=\"colab-df-container\">\n",
              "      <div>\n",
              "<style scoped>\n",
              "    .dataframe tbody tr th:only-of-type {\n",
              "        vertical-align: middle;\n",
              "    }\n",
              "\n",
              "    .dataframe tbody tr th {\n",
              "        vertical-align: top;\n",
              "    }\n",
              "\n",
              "    .dataframe thead th {\n",
              "        text-align: right;\n",
              "    }\n",
              "</style>\n",
              "<table border=\"1\" class=\"dataframe\">\n",
              "  <thead>\n",
              "    <tr style=\"text-align: right;\">\n",
              "      <th></th>\n",
              "      <th>0</th>\n",
              "      <th>1</th>\n",
              "      <th>2</th>\n",
              "      <th>3</th>\n",
              "      <th>4</th>\n",
              "      <th>5</th>\n",
              "      <th>6</th>\n",
              "      <th>7</th>\n",
              "      <th>8</th>\n",
              "      <th>9</th>\n",
              "      <th>...</th>\n",
              "      <th>178</th>\n",
              "      <th>179</th>\n",
              "      <th>180</th>\n",
              "      <th>181</th>\n",
              "      <th>182</th>\n",
              "      <th>183</th>\n",
              "      <th>184</th>\n",
              "      <th>185</th>\n",
              "      <th>186</th>\n",
              "      <th>187</th>\n",
              "    </tr>\n",
              "  </thead>\n",
              "  <tbody>\n",
              "    <tr>\n",
              "      <th>0</th>\n",
              "      <td>1.000000</td>\n",
              "      <td>0.758264</td>\n",
              "      <td>0.111570</td>\n",
              "      <td>0.000000</td>\n",
              "      <td>0.080579</td>\n",
              "      <td>0.078512</td>\n",
              "      <td>0.066116</td>\n",
              "      <td>0.049587</td>\n",
              "      <td>0.047521</td>\n",
              "      <td>0.035124</td>\n",
              "      <td>...</td>\n",
              "      <td>0.0</td>\n",
              "      <td>0.0</td>\n",
              "      <td>0.0</td>\n",
              "      <td>0.0</td>\n",
              "      <td>0.0</td>\n",
              "      <td>0.0</td>\n",
              "      <td>0.0</td>\n",
              "      <td>0.0</td>\n",
              "      <td>0.0</td>\n",
              "      <td>0.0</td>\n",
              "    </tr>\n",
              "    <tr>\n",
              "      <th>1</th>\n",
              "      <td>0.908425</td>\n",
              "      <td>0.783883</td>\n",
              "      <td>0.531136</td>\n",
              "      <td>0.362637</td>\n",
              "      <td>0.366300</td>\n",
              "      <td>0.344322</td>\n",
              "      <td>0.333333</td>\n",
              "      <td>0.307692</td>\n",
              "      <td>0.296703</td>\n",
              "      <td>0.300366</td>\n",
              "      <td>...</td>\n",
              "      <td>0.0</td>\n",
              "      <td>0.0</td>\n",
              "      <td>0.0</td>\n",
              "      <td>0.0</td>\n",
              "      <td>0.0</td>\n",
              "      <td>0.0</td>\n",
              "      <td>0.0</td>\n",
              "      <td>0.0</td>\n",
              "      <td>0.0</td>\n",
              "      <td>0.0</td>\n",
              "    </tr>\n",
              "    <tr>\n",
              "      <th>2</th>\n",
              "      <td>0.730088</td>\n",
              "      <td>0.212389</td>\n",
              "      <td>0.000000</td>\n",
              "      <td>0.119469</td>\n",
              "      <td>0.101770</td>\n",
              "      <td>0.101770</td>\n",
              "      <td>0.110619</td>\n",
              "      <td>0.123894</td>\n",
              "      <td>0.115044</td>\n",
              "      <td>0.132743</td>\n",
              "      <td>...</td>\n",
              "      <td>0.0</td>\n",
              "      <td>0.0</td>\n",
              "      <td>0.0</td>\n",
              "      <td>0.0</td>\n",
              "      <td>0.0</td>\n",
              "      <td>0.0</td>\n",
              "      <td>0.0</td>\n",
              "      <td>0.0</td>\n",
              "      <td>0.0</td>\n",
              "      <td>0.0</td>\n",
              "    </tr>\n",
              "    <tr>\n",
              "      <th>3</th>\n",
              "      <td>1.000000</td>\n",
              "      <td>0.910417</td>\n",
              "      <td>0.681250</td>\n",
              "      <td>0.472917</td>\n",
              "      <td>0.229167</td>\n",
              "      <td>0.068750</td>\n",
              "      <td>0.000000</td>\n",
              "      <td>0.004167</td>\n",
              "      <td>0.014583</td>\n",
              "      <td>0.054167</td>\n",
              "      <td>...</td>\n",
              "      <td>0.0</td>\n",
              "      <td>0.0</td>\n",
              "      <td>0.0</td>\n",
              "      <td>0.0</td>\n",
              "      <td>0.0</td>\n",
              "      <td>0.0</td>\n",
              "      <td>0.0</td>\n",
              "      <td>0.0</td>\n",
              "      <td>0.0</td>\n",
              "      <td>0.0</td>\n",
              "    </tr>\n",
              "    <tr>\n",
              "      <th>4</th>\n",
              "      <td>0.570470</td>\n",
              "      <td>0.399329</td>\n",
              "      <td>0.238255</td>\n",
              "      <td>0.147651</td>\n",
              "      <td>0.000000</td>\n",
              "      <td>0.003356</td>\n",
              "      <td>0.040268</td>\n",
              "      <td>0.080537</td>\n",
              "      <td>0.070470</td>\n",
              "      <td>0.090604</td>\n",
              "      <td>...</td>\n",
              "      <td>0.0</td>\n",
              "      <td>0.0</td>\n",
              "      <td>0.0</td>\n",
              "      <td>0.0</td>\n",
              "      <td>0.0</td>\n",
              "      <td>0.0</td>\n",
              "      <td>0.0</td>\n",
              "      <td>0.0</td>\n",
              "      <td>0.0</td>\n",
              "      <td>0.0</td>\n",
              "    </tr>\n",
              "  </tbody>\n",
              "</table>\n",
              "<p>5 rows × 188 columns</p>\n",
              "</div>\n",
              "      <button class=\"colab-df-convert\" onclick=\"convertToInteractive('df-57410cd0-3383-434a-bca8-d6f4c81ccffa')\"\n",
              "              title=\"Convert this dataframe to an interactive table.\"\n",
              "              style=\"display:none;\">\n",
              "        \n",
              "  <svg xmlns=\"http://www.w3.org/2000/svg\" height=\"24px\"viewBox=\"0 0 24 24\"\n",
              "       width=\"24px\">\n",
              "    <path d=\"M0 0h24v24H0V0z\" fill=\"none\"/>\n",
              "    <path d=\"M18.56 5.44l.94 2.06.94-2.06 2.06-.94-2.06-.94-.94-2.06-.94 2.06-2.06.94zm-11 1L8.5 8.5l.94-2.06 2.06-.94-2.06-.94L8.5 2.5l-.94 2.06-2.06.94zm10 10l.94 2.06.94-2.06 2.06-.94-2.06-.94-.94-2.06-.94 2.06-2.06.94z\"/><path d=\"M17.41 7.96l-1.37-1.37c-.4-.4-.92-.59-1.43-.59-.52 0-1.04.2-1.43.59L10.3 9.45l-7.72 7.72c-.78.78-.78 2.05 0 2.83L4 21.41c.39.39.9.59 1.41.59.51 0 1.02-.2 1.41-.59l7.78-7.78 2.81-2.81c.8-.78.8-2.07 0-2.86zM5.41 20L4 18.59l7.72-7.72 1.47 1.35L5.41 20z\"/>\n",
              "  </svg>\n",
              "      </button>\n",
              "      \n",
              "  <style>\n",
              "    .colab-df-container {\n",
              "      display:flex;\n",
              "      flex-wrap:wrap;\n",
              "      gap: 12px;\n",
              "    }\n",
              "\n",
              "    .colab-df-convert {\n",
              "      background-color: #E8F0FE;\n",
              "      border: none;\n",
              "      border-radius: 50%;\n",
              "      cursor: pointer;\n",
              "      display: none;\n",
              "      fill: #1967D2;\n",
              "      height: 32px;\n",
              "      padding: 0 0 0 0;\n",
              "      width: 32px;\n",
              "    }\n",
              "\n",
              "    .colab-df-convert:hover {\n",
              "      background-color: #E2EBFA;\n",
              "      box-shadow: 0px 1px 2px rgba(60, 64, 67, 0.3), 0px 1px 3px 1px rgba(60, 64, 67, 0.15);\n",
              "      fill: #174EA6;\n",
              "    }\n",
              "\n",
              "    [theme=dark] .colab-df-convert {\n",
              "      background-color: #3B4455;\n",
              "      fill: #D2E3FC;\n",
              "    }\n",
              "\n",
              "    [theme=dark] .colab-df-convert:hover {\n",
              "      background-color: #434B5C;\n",
              "      box-shadow: 0px 1px 3px 1px rgba(0, 0, 0, 0.15);\n",
              "      filter: drop-shadow(0px 1px 2px rgba(0, 0, 0, 0.3));\n",
              "      fill: #FFFFFF;\n",
              "    }\n",
              "  </style>\n",
              "\n",
              "      <script>\n",
              "        const buttonEl =\n",
              "          document.querySelector('#df-57410cd0-3383-434a-bca8-d6f4c81ccffa button.colab-df-convert');\n",
              "        buttonEl.style.display =\n",
              "          google.colab.kernel.accessAllowed ? 'block' : 'none';\n",
              "\n",
              "        async function convertToInteractive(key) {\n",
              "          const element = document.querySelector('#df-57410cd0-3383-434a-bca8-d6f4c81ccffa');\n",
              "          const dataTable =\n",
              "            await google.colab.kernel.invokeFunction('convertToInteractive',\n",
              "                                                     [key], {});\n",
              "          if (!dataTable) return;\n",
              "\n",
              "          const docLinkHtml = 'Like what you see? Visit the ' +\n",
              "            '<a target=\"_blank\" href=https://colab.research.google.com/notebooks/data_table.ipynb>data table notebook</a>'\n",
              "            + ' to learn more about interactive tables.';\n",
              "          element.innerHTML = '';\n",
              "          dataTable['output_type'] = 'display_data';\n",
              "          await google.colab.output.renderOutput(dataTable, element);\n",
              "          const docLink = document.createElement('div');\n",
              "          docLink.innerHTML = docLinkHtml;\n",
              "          element.appendChild(docLink);\n",
              "        }\n",
              "      </script>\n",
              "    </div>\n",
              "  </div>\n",
              "  "
            ]
          },
          "metadata": {},
          "execution_count": 7
        }
      ],
      "source": [
        "test_df.head()"
      ]
    },
    {
      "cell_type": "code",
      "execution_count": 8,
      "metadata": {
        "colab": {
          "base_uri": "https://localhost:8080/"
        },
        "id": "yXSpQh4JgSmB",
        "outputId": "58377430-2d0c-40fd-fd2c-693ef3685819"
      },
      "outputs": [
        {
          "output_type": "execute_result",
          "data": {
            "text/plain": [
              "(21892, 188)"
            ]
          },
          "metadata": {},
          "execution_count": 8
        }
      ],
      "source": [
        "test_df.shape"
      ]
    },
    {
      "cell_type": "code",
      "execution_count": 9,
      "metadata": {
        "colab": {
          "base_uri": "https://localhost:8080/"
        },
        "id": "4ieba6lZ7-mR",
        "outputId": "62462048-f88c-4e85-e180-9f3da130b92b"
      },
      "outputs": [
        {
          "output_type": "execute_result",
          "data": {
            "text/plain": [
              "0      0\n",
              "1      0\n",
              "2      0\n",
              "3      0\n",
              "4      0\n",
              "      ..\n",
              "183    0\n",
              "184    0\n",
              "185    0\n",
              "186    0\n",
              "187    0\n",
              "Length: 188, dtype: int64"
            ]
          },
          "metadata": {},
          "execution_count": 9
        }
      ],
      "source": [
        "train_df.isnull().sum()"
      ]
    },
    {
      "cell_type": "code",
      "execution_count": 10,
      "metadata": {
        "colab": {
          "base_uri": "https://localhost:8080/"
        },
        "id": "tnUioK2Vg69E",
        "outputId": "280d61cd-4026-4d0c-f276-b3bd267e47d0"
      },
      "outputs": [
        {
          "output_type": "stream",
          "name": "stdout",
          "text": [
            "0.0    72471\n",
            "4.0     6431\n",
            "2.0     5788\n",
            "1.0     2223\n",
            "3.0      641\n",
            "Name: 187, dtype: int64\n"
          ]
        }
      ],
      "source": [
        "print(train_df[187].value_counts())"
      ]
    },
    {
      "cell_type": "code",
      "execution_count": 11,
      "metadata": {
        "colab": {
          "base_uri": "https://localhost:8080/",
          "height": 297
        },
        "id": "3s12Vs9x9gXg",
        "outputId": "a8921225-3a3f-487e-d946-ae8d343da4c5"
      },
      "outputs": [
        {
          "output_type": "execute_result",
          "data": {
            "text/plain": [
              "<matplotlib.axes._subplots.AxesSubplot at 0x7f76c97e0250>"
            ]
          },
          "metadata": {},
          "execution_count": 11
        },
        {
          "output_type": "display_data",
          "data": {
            "text/plain": [
              "<Figure size 432x288 with 1 Axes>"
            ],
            "image/png": "[encoded data removed]"
          },
          "metadata": {
            "needs_background": "light"
          }
        }
      ],
      "source": [
        "sns.countplot(x=187, data = train_df) "
      ]
    },
    {
      "cell_type": "code",
      "execution_count": 12,
      "metadata": {
        "colab": {
          "base_uri": "https://localhost:8080/",
          "height": 411
        },
        "id": "vnSD56cr-YE3",
        "outputId": "8d2aba35-c64b-46ce-8c82-aebb49084345"
      },
      "outputs": [
        {
          "output_type": "display_data",
          "data": {
            "text/plain": [
              "<Figure size 504x504 with 1 Axes>"
            ],
            "image/png": "[encoded data removed]"
          },
          "metadata": {}
        }
      ],
      "source": [
        "plt.figure(figsize=(7,7))\n",
        "explode = (0, 0.2,0.2,0.2,0.2)\n",
        "plt.pie(train_df[187].value_counts(), labels=['N','Q','V','S','F'], autopct='%1.1f%%', explode=explode)\n",
        "plt.show()"
      ]
    },
    {
      "cell_type": "code",
      "execution_count": 13,
      "metadata": {
        "colab": {
          "base_uri": "https://localhost:8080/"
        },
        "id": "cynusO-SALlr",
        "outputId": "898ec1ad-1790-4cab-f713-a7103ac2285b"
      },
      "outputs": [
        {
          "output_type": "stream",
          "name": "stdout",
          "text": [
            "(87554, 187)\n",
            "(87554,)\n"
          ]
        }
      ],
      "source": [
        "x = train_df.drop(187,axis=1)\n",
        "y = train_df[187].astype('int64')\n",
        "print(x.shape)\n",
        "print(y.shape)\n",
        "\n",
        "#x_test = test_df.drop(187,axis=1)\n",
        "#y_test = test_df[187].astype('int64')\n",
        "#print(x_test.shape)\n",
        "#print(y_test.shape)"
      ]
    },
    {
      "cell_type": "code",
      "execution_count": 14,
      "metadata": {
        "id": "v8fxirDIAT8k"
      },
      "outputs": [],
      "source": [
        "x_train,x_val,y_train,y_val = train_test_split(x,y.values,random_state=42,stratify=y.values,shuffle=True,train_size=0.75)"
      ]
    },
    {
      "cell_type": "code",
      "execution_count": 15,
      "metadata": {
        "colab": {
          "base_uri": "https://localhost:8080/"
        },
        "id": "wnWwGLcER6zf",
        "outputId": "4b4abaa8-fdfc-4a09-91ce-183c69716d84"
      },
      "outputs": [
        {
          "output_type": "stream",
          "name": "stdout",
          "text": [
            "The shape of training data :  (65665, 187) (65665,)\n",
            "The shape of validation data :  (21889, 187) (21889,)\n"
          ]
        }
      ],
      "source": [
        "print(\"The shape of training data : \",x_train.shape,y_train.shape)\n",
        "print(\"The shape of validation data : \",x_val.shape,y_val.shape)"
      ]
    },
    {
      "cell_type": "code",
      "execution_count": 16,
      "metadata": {
        "id": "q2dEUy-wwzEH"
      },
      "outputs": [],
      "source": [
        "scaler = StandardScaler().fit(x_train)\n",
        "x_train = scaler.transform(x_train)\n",
        "#x_test = scaler.transform(x_test)\n",
        "x_val = scaler.transform(x_val)"
      ]
    },
    {
      "cell_type": "code",
      "execution_count": 17,
      "metadata": {
        "id": "5onl0y5HXMAF"
      },
      "outputs": [],
      "source": [
        "y_train = tf.keras.utils.to_categorical(y_train)\n",
        "y_val = tf.keras.utils.to_categorical(y_val)\n",
        "#y_test = tf.keras.utils.to_categorical(y_test)"
      ]
    },
    {
      "cell_type": "code",
      "execution_count": 18,
      "metadata": {
        "colab": {
          "base_uri": "https://localhost:8080/"
        },
        "id": "UxVRx4XaXLu2",
        "outputId": "dfe65afb-c890-4007-9b89-0ad531ae4bb9"
      },
      "outputs": [
        {
          "output_type": "stream",
          "name": "stdout",
          "text": [
            "The shape of training data :  (65665, 187, 1) (65665, 5)\n",
            "The shape of validation data :  (21889, 187, 1) (21889, 5)\n"
          ]
        }
      ],
      "source": [
        "x_train = np.expand_dims(x_train, 2)\n",
        "x_val = np.expand_dims(x_val, 2)\n",
        "#x_test = np.expand_dims(x_test, 2)\n",
        "print(\"The shape of training data : \",x_train.shape,y_train.shape)\n",
        "print(\"The shape of validation data : \",x_val.shape,y_val.shape)\n",
        "#print(\"The shape of testing data : \",x_test.shape,y_test.shape)"
      ]
    },
    {
      "cell_type": "code",
      "execution_count": 19,
      "metadata": {
        "colab": {
          "base_uri": "https://localhost:8080/"
        },
        "id": "5Lz9AYPuXLTQ",
        "outputId": "474626e5-5eff-46d2-90f5-5dd58d6ee0a9"
      },
      "outputs": [
        {
          "output_type": "stream",
          "name": "stdout",
          "text": [
            "Model: \"sequential\"\n",
            "_________________________________________________________________\n",
            " Layer (type)                Output Shape              Param #   \n",
            "=================================================================\n",
            " conv1d (Conv1D)             (None, 187, 64)           256       \n",
            "                                                                 \n",
            " conv1d_1 (Conv1D)           (None, 187, 64)           12352     \n",
            "                                                                 \n",
            " max_pooling1d (MaxPooling1D  (None, 94, 64)           0         \n",
            " )                                                               \n",
            "                                                                 \n",
            " conv1d_2 (Conv1D)           (None, 94, 128)           24704     \n",
            "                                                                 \n",
            " conv1d_3 (Conv1D)           (None, 94, 128)           49280     \n",
            "                                                                 \n",
            " max_pooling1d_1 (MaxPooling  (None, 47, 128)          0         \n",
            " 1D)                                                             \n",
            "                                                                 \n",
            " conv1d_4 (Conv1D)           (None, 47, 256)           98560     \n",
            "                                                                 \n",
            " conv1d_5 (Conv1D)           (None, 47, 256)           196864    \n",
            "                                                                 \n",
            " conv1d_6 (Conv1D)           (None, 47, 256)           196864    \n",
            "                                                                 \n",
            " max_pooling1d_2 (MaxPooling  (None, 24, 256)          0         \n",
            " 1D)                                                             \n",
            "                                                                 \n",
            " conv1d_7 (Conv1D)           (None, 24, 512)           393728    \n",
            "                                                                 \n",
            " conv1d_8 (Conv1D)           (None, 24, 512)           786944    \n",
            "                                                                 \n",
            " conv1d_9 (Conv1D)           (None, 24, 512)           786944    \n",
            "                                                                 \n",
            " max_pooling1d_3 (MaxPooling  (None, 12, 512)          0         \n",
            " 1D)                                                             \n",
            "                                                                 \n",
            " conv1d_10 (Conv1D)          (None, 12, 512)           786944    \n",
            "                                                                 \n",
            " conv1d_11 (Conv1D)          (None, 12, 512)           786944    \n",
            "                                                                 \n",
            " conv1d_12 (Conv1D)          (None, 12, 512)           786944    \n",
            "                                                                 \n",
            " max_pooling1d_4 (MaxPooling  (None, 6, 512)           0         \n",
            " 1D)                                                             \n",
            "                                                                 \n",
            " flatten (Flatten)           (None, 3072)              0         \n",
            "                                                                 \n",
            " dense (Dense)               (None, 4096)              12587008  \n",
            "                                                                 \n",
            " dense_1 (Dense)             (None, 4096)              16781312  \n",
            "                                                                 \n",
            " dense_2 (Dense)             (None, 5)                 20485     \n",
            "                                                                 \n",
            "=================================================================\n",
            "Total params: 34,296,133\n",
            "Trainable params: 34,296,133\n",
            "Non-trainable params: 0\n",
            "_________________________________________________________________\n"
          ]
        }
      ],
      "source": [
        "def create_vgg16_model():\n",
        "    model = Sequential([\n",
        "    # 1st Conv Block\n",
        "        Conv1D (filters =64, kernel_size =3, padding ='same',input_shape=(x_train.shape[1],1), activation='relu'),\n",
        "        Conv1D (filters =64, kernel_size =3, padding ='same', activation='relu'),\n",
        "        MaxPooling1D(pool_size =2, strides =2, padding ='same'),\n",
        "    \n",
        "    # 2nd Conv Block\n",
        "        Conv1D (filters =128, kernel_size =3, padding ='same', activation='relu'),\n",
        "        Conv1D (filters =128, kernel_size =3, padding ='same', activation='relu'),\n",
        "        MaxPooling1D(pool_size =2, strides =2, padding ='same'),\n",
        "    \n",
        "    # 3rd Conv block  \n",
        "        Conv1D (filters =256, kernel_size =3, padding ='same', activation='relu'),\n",
        "        Conv1D (filters =256, kernel_size =3, padding ='same', activation='relu'),\n",
        "        Conv1D (filters =256, kernel_size =3, padding ='same', activation='relu'),\n",
        "        MaxPooling1D(pool_size =2, strides =2, padding ='same'),\n",
        "    \n",
        "    # 4th Conv block\n",
        "        Conv1D (filters =512, kernel_size =3, padding ='same', activation='relu'),\n",
        "        Conv1D (filters =512, kernel_size =3, padding ='same', activation='relu'),\n",
        "        Conv1D (filters =512, kernel_size =3, padding ='same', activation='relu'),\n",
        "        MaxPooling1D(pool_size =2, strides =2, padding ='same'),\n",
        "\n",
        "    # 5th Conv block\n",
        "        Conv1D (filters =512, kernel_size =3, padding ='same', activation='relu'),\n",
        "        Conv1D (filters =512, kernel_size =3, padding ='same', activation='relu'),\n",
        "        Conv1D (filters =512, kernel_size =3, padding ='same', activation='relu'),\n",
        "        MaxPooling1D(pool_size =2, strides =2, padding ='same'),\n",
        "    \n",
        "    # Fully connected layers  \n",
        "        Flatten(),\n",
        "        Dense(units = 4096, activation ='relu'),\n",
        "        Dense(units = 4096, activation ='relu'), \n",
        "        Dense(units = 5, activation ='softmax')\n",
        "    ])\n",
        "    \n",
        "    return model\n",
        "\n",
        "vgg16_model = create_vgg16_model()\n",
        "vgg16_model.summary()"
      ]
    },
    {
      "cell_type": "code",
      "source": [
        "callbacks = [EarlyStopping(monitor='val_loss', patience=8), ModelCheckpoint(filepath='best_weights.h5', monitor='val_loss', save_best_only=True)]"
      ],
      "metadata": {
        "id": "u6xrgXAspa06"
      },
      "execution_count": 20,
      "outputs": []
    },
    {
      "cell_type": "code",
      "execution_count": 21,
      "metadata": {
        "colab": {
          "base_uri": "https://localhost:8080/"
        },
        "id": "jSulGvafXLDx",
        "outputId": "d12a6d38-61e9-4f19-8e1d-9e8e51fb8038"
      },
      "outputs": [
        {
          "output_type": "stream",
          "name": "stdout",
          "text": [
            "Epoch 1/30\n",
            "2053/2053 [==============================] - 59s 23ms/step - loss: 0.2665 - accuracy: 0.9297 - val_loss: 0.1755 - val_accuracy: 0.9520\n",
            "Epoch 2/30\n",
            "2053/2053 [==============================] - 49s 24ms/step - loss: 0.1471 - accuracy: 0.9605 - val_loss: 0.1198 - val_accuracy: 0.9681\n",
            "Epoch 3/30\n",
            "2053/2053 [==============================] - 48s 24ms/step - loss: 0.1227 - accuracy: 0.9674 - val_loss: 0.1001 - val_accuracy: 0.9715\n",
            "Epoch 4/30\n",
            "2053/2053 [==============================] - 46s 22ms/step - loss: 0.1126 - accuracy: 0.9700 - val_loss: 0.1036 - val_accuracy: 0.9719\n",
            "Epoch 5/30\n",
            "2053/2053 [==============================] - 46s 22ms/step - loss: 0.1048 - accuracy: 0.9717 - val_loss: 0.1411 - val_accuracy: 0.9595\n",
            "Epoch 6/30\n",
            "2053/2053 [==============================] - 47s 23ms/step - loss: 0.0954 - accuracy: 0.9741 - val_loss: 0.1047 - val_accuracy: 0.9725\n",
            "Epoch 7/30\n",
            "2053/2053 [==============================] - 46s 22ms/step - loss: 0.0873 - accuracy: 0.9763 - val_loss: 0.1069 - val_accuracy: 0.9698\n",
            "Epoch 8/30\n",
            "2053/2053 [==============================] - 46s 22ms/step - loss: 0.0875 - accuracy: 0.9752 - val_loss: 0.1234 - val_accuracy: 0.9746\n",
            "Epoch 9/30\n",
            "2053/2053 [==============================] - 46s 22ms/step - loss: 0.0813 - accuracy: 0.9779 - val_loss: 0.1122 - val_accuracy: 0.9752\n",
            "Epoch 10/30\n",
            "2053/2053 [==============================] - 48s 24ms/step - loss: 0.0809 - accuracy: 0.9785 - val_loss: 0.0959 - val_accuracy: 0.9732\n",
            "Epoch 11/30\n",
            "2053/2053 [==============================] - 49s 24ms/step - loss: 0.0764 - accuracy: 0.9788 - val_loss: 0.0841 - val_accuracy: 0.9770\n",
            "Epoch 12/30\n",
            "2053/2053 [==============================] - 48s 23ms/step - loss: 0.0767 - accuracy: 0.9788 - val_loss: 0.0791 - val_accuracy: 0.9789\n",
            "Epoch 13/30\n",
            "2053/2053 [==============================] - 46s 22ms/step - loss: 0.0688 - accuracy: 0.9806 - val_loss: 0.1140 - val_accuracy: 0.9699\n",
            "Epoch 14/30\n",
            "2053/2053 [==============================] - 48s 23ms/step - loss: 0.0744 - accuracy: 0.9796 - val_loss: 0.0762 - val_accuracy: 0.9804\n",
            "Epoch 15/30\n",
            "2053/2053 [==============================] - 47s 23ms/step - loss: 0.0634 - accuracy: 0.9820 - val_loss: 0.0716 - val_accuracy: 0.9803\n",
            "Epoch 16/30\n",
            "2053/2053 [==============================] - 46s 23ms/step - loss: 0.0642 - accuracy: 0.9821 - val_loss: 0.0867 - val_accuracy: 0.9776\n",
            "Epoch 17/30\n",
            "2053/2053 [==============================] - 46s 22ms/step - loss: 0.0672 - accuracy: 0.9809 - val_loss: 0.0775 - val_accuracy: 0.9797\n",
            "Epoch 18/30\n",
            "2053/2053 [==============================] - 47s 23ms/step - loss: 0.0583 - accuracy: 0.9833 - val_loss: 0.1986 - val_accuracy: 0.9640\n",
            "Epoch 19/30\n",
            "2053/2053 [==============================] - 46s 22ms/step - loss: 0.0974 - accuracy: 0.9779 - val_loss: 0.0720 - val_accuracy: 0.9811\n",
            "Epoch 20/30\n",
            "2053/2053 [==============================] - 45s 22ms/step - loss: 0.0574 - accuracy: 0.9832 - val_loss: 0.0747 - val_accuracy: 0.9816\n",
            "Epoch 21/30\n",
            "2053/2053 [==============================] - 47s 23ms/step - loss: 0.0559 - accuracy: 0.9835 - val_loss: 0.0684 - val_accuracy: 0.9827\n",
            "Epoch 22/30\n",
            "2053/2053 [==============================] - 46s 22ms/step - loss: 0.0535 - accuracy: 0.9841 - val_loss: 0.0746 - val_accuracy: 0.9789\n",
            "Epoch 23/30\n",
            "2053/2053 [==============================] - 46s 22ms/step - loss: 0.0559 - accuracy: 0.9837 - val_loss: 0.1654 - val_accuracy: 0.9603\n",
            "Epoch 24/30\n",
            "2053/2053 [==============================] - 46s 23ms/step - loss: 0.0646 - accuracy: 0.9820 - val_loss: 0.0703 - val_accuracy: 0.9825\n",
            "Epoch 25/30\n",
            "2053/2053 [==============================] - 47s 23ms/step - loss: 0.0492 - accuracy: 0.9854 - val_loss: 0.0708 - val_accuracy: 0.9839\n",
            "Epoch 26/30\n",
            "2053/2053 [==============================] - 47s 23ms/step - loss: 0.0492 - accuracy: 0.9852 - val_loss: 0.0616 - val_accuracy: 0.9835\n",
            "Epoch 27/30\n",
            "2053/2053 [==============================] - 47s 23ms/step - loss: 0.0540 - accuracy: 0.9843 - val_loss: 0.0739 - val_accuracy: 0.9810\n",
            "Epoch 28/30\n",
            "2053/2053 [==============================] - 46s 23ms/step - loss: 0.0594 - accuracy: 0.9836 - val_loss: 0.0702 - val_accuracy: 0.9811\n",
            "Epoch 29/30\n",
            "2053/2053 [==============================] - 45s 22ms/step - loss: 0.0492 - accuracy: 0.9856 - val_loss: 0.0704 - val_accuracy: 0.9827\n",
            "Epoch 30/30\n",
            "2053/2053 [==============================] - 46s 22ms/step - loss: 0.0498 - accuracy: 0.9856 - val_loss: 0.0772 - val_accuracy: 0.9813\n"
          ]
        }
      ],
      "source": [
        "vgg16_model.compile(optimizer=tf.keras.optimizers.Adam(learning_rate=0.001),\n",
        "              loss='categorical_crossentropy',\n",
        "              metrics=['accuracy'])\n",
        "vgg16_history = vgg16_model.fit(x=x_train,y= y_train,batch_size=32, epochs=30,callbacks=callbacks, verbose=1, validation_data=(x_val, y_val), shuffle=True)"
      ]
    },
    {
      "cell_type": "code",
      "source": [
        "classes = []\n",
        "sns.countplot(x=187, data = test_df)"
      ],
      "metadata": {
        "id": "Z8KaU8_8UFHC",
        "colab": {
          "base_uri": "https://localhost:8080/",
          "height": 297
        },
        "outputId": "ae2a18b1-44be-4c10-f6ae-d8f02a7ff39e"
      },
      "execution_count": 22,
      "outputs": [
        {
          "output_type": "execute_result",
          "data": {
            "text/plain": [
              "<matplotlib.axes._subplots.AxesSubplot at 0x7f76c00ec550>"
            ]
          },
          "metadata": {},
          "execution_count": 22
        },
        {
          "output_type": "display_data",
          "data": {
            "text/plain": [
              "<Figure size 432x288 with 1 Axes>"
            ],
            "image/png": "[encoded data removed]"
          },
          "metadata": {
            "needs_background": "light"
          }
        }
      ]
    },
    {
      "cell_type": "code",
      "source": [
        "print(test_df[187].value_counts())"
      ],
      "metadata": {
        "id": "rPzdHy-lUFEi",
        "colab": {
          "base_uri": "https://localhost:8080/"
        },
        "outputId": "64e0d13f-8776-448d-8b14-47523f3e116a"
      },
      "execution_count": 23,
      "outputs": [
        {
          "output_type": "stream",
          "name": "stdout",
          "text": [
            "0.0    18118\n",
            "4.0     1608\n",
            "2.0     1448\n",
            "1.0      556\n",
            "3.0      162\n",
            "Name: 187, dtype: int64\n"
          ]
        }
      ]
    },
    {
      "cell_type": "code",
      "source": [
        "class_1 = test_df[test_df[187]==1.0]\n",
        "class_2 = test_df[test_df[187]==2.0]\n",
        "class_3 = test_df[test_df[187]==3.0]\n",
        "class_4 = test_df[test_df[187]==4.0]\n",
        "class_0 = test_df[test_df[187]==0.0].sample(n = 1400)\n",
        "\n",
        "#class_1=resample(class_1, replace=True, n_samples=1400, random_state=1)\n",
        "#class_2=resample(class_2, replace=True, n_samples=2000, random_state=1)\n",
        "class_3=resample(class_3, replace=True, n_samples=600, random_state=1)\n",
        "#class_4=resample(class_4, replace=True, n_samples=2000, random_state=1)"
      ],
      "metadata": {
        "id": "5JyTJxIFUFBT"
      },
      "execution_count": 24,
      "outputs": []
    },
    {
      "cell_type": "code",
      "source": [
        "new_test_df = pd.concat([class_0, class_1, class_2, class_3, class_4])"
      ],
      "metadata": {
        "id": "UkGRIyj9UE-n"
      },
      "execution_count": 25,
      "outputs": []
    },
    {
      "cell_type": "code",
      "source": [
        "sns.countplot(x=187, data = new_test_df) "
      ],
      "metadata": {
        "id": "8sSEdTZSUE0F",
        "colab": {
          "base_uri": "https://localhost:8080/",
          "height": 297
        },
        "outputId": "5a25c0e2-da3a-438f-adb6-922915e4b946"
      },
      "execution_count": 26,
      "outputs": [
        {
          "output_type": "execute_result",
          "data": {
            "text/plain": [
              "<matplotlib.axes._subplots.AxesSubplot at 0x7f76c96d3550>"
            ]
          },
          "metadata": {},
          "execution_count": 26
        },
        {
          "output_type": "display_data",
          "data": {
            "text/plain": [
              "<Figure size 432x288 with 1 Axes>"
            ],
            "image/png": "[encoded data removed]"
          },
          "metadata": {
            "needs_background": "light"
          }
        }
      ]
    },
    {
      "cell_type": "code",
      "source": [
        "x_test = new_test_df.drop(187,axis=1)\n",
        "y_test = new_test_df[187].astype('int64')\n",
        "print(x_test.shape)\n",
        "print(y_test.shape)"
      ],
      "metadata": {
        "id": "zx8qfE0IUEuT",
        "colab": {
          "base_uri": "https://localhost:8080/"
        },
        "outputId": "e0ac5382-cced-43a4-e876-42e710538f1a"
      },
      "execution_count": 27,
      "outputs": [
        {
          "output_type": "stream",
          "name": "stdout",
          "text": [
            "(5612, 187)\n",
            "(5612,)\n"
          ]
        }
      ]
    },
    {
      "cell_type": "code",
      "source": [
        "x_test = scaler.transform(x_test)"
      ],
      "metadata": {
        "id": "iHACTw9hV3Ca"
      },
      "execution_count": 28,
      "outputs": []
    },
    {
      "cell_type": "code",
      "source": [
        "y_test = tf.keras.utils.to_categorical(y_test)"
      ],
      "metadata": {
        "id": "OW45yYBJV2pQ"
      },
      "execution_count": 29,
      "outputs": []
    },
    {
      "cell_type": "code",
      "source": [
        "x_test = np.expand_dims(x_test, 2)\n",
        "print(\"The shape of testing data : \",x_test.shape,y_test.shape)"
      ],
      "metadata": {
        "id": "xkb4pKfVWECe",
        "colab": {
          "base_uri": "https://localhost:8080/"
        },
        "outputId": "2b1b7b35-4bac-437d-8629-f06ebef7a916"
      },
      "execution_count": 30,
      "outputs": [
        {
          "output_type": "stream",
          "name": "stdout",
          "text": [
            "The shape of testing data :  (5612, 187, 1) (5612, 5)\n"
          ]
        }
      ]
    },
    {
      "cell_type": "code",
      "execution_count": 31,
      "metadata": {
        "id": "o1La0K0WXK6R",
        "colab": {
          "base_uri": "https://localhost:8080/"
        },
        "outputId": "e2cde274-27f2-41e1-8cf4-ad43971faecc"
      },
      "outputs": [
        {
          "output_type": "stream",
          "name": "stdout",
          "text": [
            "176/176 [==============================] - 2s 10ms/step - loss: 0.3128 - accuracy: 0.9182\n",
            "Test Loss: 0.31276\n",
            "Test Accuracy: 91.82%\n"
          ]
        }
      ],
      "source": [
        "from keras.models import load_model\n",
        "best_model=load_model('best_weights.h5')\n",
        "results = best_model.evaluate(x_test,y_test)\n",
        "\n",
        "print(\"Test Loss: {:.5f}\".format(results[0]))\n",
        "print(\"Test Accuracy: {:.2f}%\".format(results[1] * 100))"
      ]
    },
    {
      "cell_type": "code",
      "source": [
        "results2 = vgg16_model.evaluate(x_test,y_test, verbose=0)\n",
        "\n",
        "print(\"     Test Loss: {:.5f}\".format(results2[0]))\n",
        "print(\" Test Accuracy: {:.2f}%\".format(results2[1] * 100))"
      ],
      "metadata": {
        "id": "Z90877CeUelW",
        "colab": {
          "base_uri": "https://localhost:8080/"
        },
        "outputId": "01fe0c34-b8d3-4507-9b63-7632f4a6bafe"
      },
      "execution_count": 32,
      "outputs": [
        {
          "output_type": "stream",
          "name": "stdout",
          "text": [
            "     Test Loss: 0.36168\n",
            " Test Accuracy: 92.05%\n"
          ]
        }
      ]
    },
    {
      "cell_type": "code",
      "source": [
        "pd.DataFrame(vgg16_history.history)\n",
        "pd.DataFrame(vgg16_history.history)[['accuracy', 'val_accuracy']].plot()\n",
        "pd.DataFrame(vgg16_history.history)[['loss', 'val_loss']].plot()"
      ],
      "metadata": {
        "colab": {
          "base_uri": "https://localhost:8080/",
          "height": 531
        },
        "id": "e9WFgBlAocas",
        "outputId": "ccecb9db-ad7d-49bd-963b-403507ae1b72"
      },
      "execution_count": 33,
      "outputs": [
        {
          "output_type": "execute_result",
          "data": {
            "text/plain": [
              "<matplotlib.axes._subplots.AxesSubplot at 0x7f766454c2e0>"
            ]
          },
          "metadata": {},
          "execution_count": 33
        },
        {
          "output_type": "display_data",
          "data": {
            "text/plain": [
              "<Figure size 432x288 with 1 Axes>"
            ],
            "image/png": "[encoded data removed]"
          },
          "metadata": {
            "needs_background": "light"
          }
        },
        {
          "output_type": "display_data",
          "data": {
            "text/plain": [
              "<Figure size 432x288 with 1 Axes>"
            ],
            "image/png": "[encoded data removed]"
          },
          "metadata": {
            "needs_background": "light"
          }
        }
      ]
    },
    {
      "cell_type": "code",
      "source": [
        "from sklearn.metrics import confusion_matrix\n",
        "import seaborn as sns\n",
        "\n",
        "Y_pred = vgg16_model.predict(x_test)\n",
        "Y_pred_classes = np.argmax(Y_pred,axis = 1) \n",
        "Y_true = np.argmax(y_test,axis = 1) \n",
        "\n",
        "confusion_mtx = confusion_matrix(Y_true, Y_pred_classes) \n",
        "\n",
        "f,ax = plt.subplots(figsize=(8, 8))\n",
        "sns.heatmap(confusion_mtx, annot=True, linewidths=0.01,cmap=\"Oranges\",linecolor=\"gray\", fmt= '.1f',ax=ax)\n",
        "plt.xlabel(\"Predicted Label\")\n",
        "plt.ylabel(\"True Label\")\n",
        "plt.title(\"Confusion Matrix\")\n",
        "plt.show()"
      ],
      "metadata": {
        "colab": {
          "base_uri": "https://localhost:8080/",
          "height": 531
        },
        "id": "P0NBOowM4Ysz",
        "outputId": "55c16fc1-11b6-4073-f99e-8fc0677f0f9e"
      },
      "execution_count": 34,
      "outputs": [
        {
          "output_type": "stream",
          "name": "stdout",
          "text": [
            "176/176 [==============================] - 1s 5ms/step\n"
          ]
        },
        {
          "output_type": "display_data",
          "data": {
            "text/plain": [
              "<Figure size 576x576 with 2 Axes>"
            ],
            "image/png": "[encoded data removed]"
          },
          "metadata": {
            "needs_background": "light"
          }
        }
      ]
    },
    {
      "cell_type": "code",
      "source": [
        "from sklearn.metrics import classification_report\n",
        "print(classification_report(Y_true, Y_pred_classes))"
      ],
      "metadata": {
        "id": "1201RStv4oM_",
        "colab": {
          "base_uri": "https://localhost:8080/"
        },
        "outputId": "37ad0cdf-b858-468a-ddd6-9f4d30d46e13"
      },
      "execution_count": 36,
      "outputs": [
        {
          "output_type": "stream",
          "name": "stdout",
          "text": [
            "              precision    recall  f1-score   support\n",
            "\n",
            "           0       0.81      0.99      0.89      1400\n",
            "           1       0.94      0.69      0.80       556\n",
            "           2       0.96      0.93      0.95      1448\n",
            "           3       0.93      0.81      0.86       600\n",
            "           4       1.00      0.97      0.98      1608\n",
            "\n",
            "    accuracy                           0.92      5612\n",
            "   macro avg       0.93      0.88      0.90      5612\n",
            "weighted avg       0.93      0.92      0.92      5612\n",
            "\n"
          ]
        }
      ]
    },
    {
      "cell_type": "code",
      "source": [],
      "metadata": {
        "id": "mHNUn2X0chyx"
      },
      "execution_count": null,
      "outputs": []
    }
  ],
  "metadata": {
    "accelerator": "GPU",
    "colab": {
      "provenance": [],
      "include_colab_link": true
    },
    "gpuClass": "standard",
    "kernelspec": {
      "display_name": "Python 3",
      "name": "python3"
    },
    "language_info": {
      "name": "python"
    }
  },
  "nbformat": 4,
  "nbformat_minor": 0
}
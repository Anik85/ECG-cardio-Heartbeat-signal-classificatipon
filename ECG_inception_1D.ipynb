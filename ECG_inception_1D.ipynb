{
  "cells": [
    {
      "cell_type": "markdown",
      "metadata": {
        "id": "view-in-github",
        "colab_type": "text"
      },
      "source": [
        "<a href=\"https://colab.research.google.com/github/Anik85/Anik85/blob/main/ECG_inception_1D.ipynb\" target=\"_parent\"><img src=\"https://colab.research.google.com/assets/colab-badge.svg\" alt=\"Open In Colab\"/></a>"
      ]
    },
    {
      "cell_type": "code",
      "execution_count": 1,
      "metadata": {
        "id": "utYMIkmEThSr"
      },
      "outputs": [],
      "source": [
        "!mkdir -p ~/.kaggle\n",
        "!cp kaggle.json ~/.kaggle/"
      ]
    },
    {
      "cell_type": "code",
      "execution_count": 2,
      "metadata": {
        "colab": {
          "base_uri": "https://localhost:8080/"
        },
        "id": "DKnsPWyH5A-D",
        "outputId": "67adbdd6-cc6c-4eb5-de69-302c2682f2ca"
      },
      "outputs": [
        {
          "output_type": "stream",
          "name": "stdout",
          "text": [
            "Warning: Your Kaggle API key is readable by other users on this system! To fix this, you can run 'chmod 600 /root/.kaggle/kaggle.json'\n",
            "Downloading heartbeat.zip to /content\n",
            " 99% 98.0M/98.8M [00:05<00:00, 22.1MB/s]\n",
            "100% 98.8M/98.8M [00:05<00:00, 18.3MB/s]\n"
          ]
        }
      ],
      "source": [
        "!kaggle datasets download -d shayanfazeli/heartbeat"
      ]
    },
    {
      "cell_type": "code",
      "execution_count": 3,
      "metadata": {
        "id": "HmgQHnZw5Z98"
      },
      "outputs": [],
      "source": [
        "import zipfile\n",
        "zip_ref=zipfile.ZipFile('/content/heartbeat.zip','r')\n",
        "zip_ref.extractall('/content')\n",
        "zip_ref.close()"
      ]
    },
    {
      "cell_type": "code",
      "execution_count": 4,
      "metadata": {
        "id": "ROTOWE_66g89"
      },
      "outputs": [],
      "source": [
        "import os\n",
        "import numpy as np\n",
        "import pandas as pd\n",
        "import seaborn as sns\n",
        "import tensorflow as tf\n",
        "import matplotlib.pyplot as plt\n",
        "from sklearn.model_selection import train_test_split\n",
        "from keras.utils.np_utils import to_categorical\n",
        "from sklearn.utils import class_weight, resample\n",
        "from keras.layers import Conv1D, MaxPooling1D, Flatten, Dense, Dropout, BatchNormalization\n",
        "from keras.models import Sequential\n",
        "from keras.callbacks import EarlyStopping, ModelCheckpoint\n",
        "from sklearn.model_selection import train_test_split\n",
        "from sklearn.preprocessing import StandardScaler\n",
        "from keras.layers import Input,  Softmax, Add,  AveragePooling1D, ZeroPadding1D,Activation\n",
        "from keras import backend as K\n",
        "from keras.models import Model\n",
        "from keras.initializers import glorot_uniform"
      ]
    },
    {
      "cell_type": "code",
      "execution_count": 5,
      "metadata": {
        "id": "rj4Iqr6Nf41t"
      },
      "outputs": [],
      "source": [
        "train_df=pd.read_csv('/content/mitbih_train.csv',header=None)\n",
        "test_df=pd.read_csv('/content/mitbih_test.csv',header=None)"
      ]
    },
    {
      "cell_type": "code",
      "execution_count": 6,
      "metadata": {
        "colab": {
          "base_uri": "https://localhost:8080/"
        },
        "id": "42haKTh-W6gA",
        "outputId": "b72c777e-60ce-4657-8e3d-0af96f51308e"
      },
      "outputs": [
        {
          "output_type": "execute_result",
          "data": {
            "text/plain": [
              "(87554, 188)"
            ]
          },
          "metadata": {},
          "execution_count": 6
        }
      ],
      "source": [
        "train_df.shape"
      ]
    },
    {
      "cell_type": "code",
      "execution_count": 7,
      "metadata": {
        "colab": {
          "base_uri": "https://localhost:8080/",
          "height": 300
        },
        "id": "YwBpd64ggRDO",
        "outputId": "f39d913d-5339-47e8-e432-cb53b0611ae1"
      },
      "outputs": [
        {
          "output_type": "execute_result",
          "data": {
            "text/plain": [
              "        0         1         2         3         4         5         6    \\\n",
              "0  1.000000  0.758264  0.111570  0.000000  0.080579  0.078512  0.066116   \n",
              "1  0.908425  0.783883  0.531136  0.362637  0.366300  0.344322  0.333333   \n",
              "2  0.730088  0.212389  0.000000  0.119469  0.101770  0.101770  0.110619   \n",
              "3  1.000000  0.910417  0.681250  0.472917  0.229167  0.068750  0.000000   \n",
              "4  0.570470  0.399329  0.238255  0.147651  0.000000  0.003356  0.040268   \n",
              "\n",
              "        7         8         9    ...  178  179  180  181  182  183  184  185  \\\n",
              "0  0.049587  0.047521  0.035124  ...  0.0  0.0  0.0  0.0  0.0  0.0  0.0  0.0   \n",
              "1  0.307692  0.296703  0.300366  ...  0.0  0.0  0.0  0.0  0.0  0.0  0.0  0.0   \n",
              "2  0.123894  0.115044  0.132743  ...  0.0  0.0  0.0  0.0  0.0  0.0  0.0  0.0   \n",
              "3  0.004167  0.014583  0.054167  ...  0.0  0.0  0.0  0.0  0.0  0.0  0.0  0.0   \n",
              "4  0.080537  0.070470  0.090604  ...  0.0  0.0  0.0  0.0  0.0  0.0  0.0  0.0   \n",
              "\n",
              "   186  187  \n",
              "0  0.0  0.0  \n",
              "1  0.0  0.0  \n",
              "2  0.0  0.0  \n",
              "3  0.0  0.0  \n",
              "4  0.0  0.0  \n",
              "\n",
              "[5 rows x 188 columns]"
            ],
            "text/html": [
              "\n",
              "  <div id=\"df-5741dfd3-27da-418b-93cb-cfd77fd07fc7\">\n",
              "    <div class=\"colab-df-container\">\n",
              "      <div>\n",
              "<style scoped>\n",
              "    .dataframe tbody tr th:only-of-type {\n",
              "        vertical-align: middle;\n",
              "    }\n",
              "\n",
              "    .dataframe tbody tr th {\n",
              "        vertical-align: top;\n",
              "    }\n",
              "\n",
              "    .dataframe thead th {\n",
              "        text-align: right;\n",
              "    }\n",
              "</style>\n",
              "<table border=\"1\" class=\"dataframe\">\n",
              "  <thead>\n",
              "    <tr style=\"text-align: right;\">\n",
              "      <th></th>\n",
              "      <th>0</th>\n",
              "      <th>1</th>\n",
              "      <th>2</th>\n",
              "      <th>3</th>\n",
              "      <th>4</th>\n",
              "      <th>5</th>\n",
              "      <th>6</th>\n",
              "      <th>7</th>\n",
              "      <th>8</th>\n",
              "      <th>9</th>\n",
              "      <th>...</th>\n",
              "      <th>178</th>\n",
              "      <th>179</th>\n",
              "      <th>180</th>\n",
              "      <th>181</th>\n",
              "      <th>182</th>\n",
              "      <th>183</th>\n",
              "      <th>184</th>\n",
              "      <th>185</th>\n",
              "      <th>186</th>\n",
              "      <th>187</th>\n",
              "    </tr>\n",
              "  </thead>\n",
              "  <tbody>\n",
              "    <tr>\n",
              "      <th>0</th>\n",
              "      <td>1.000000</td>\n",
              "      <td>0.758264</td>\n",
              "      <td>0.111570</td>\n",
              "      <td>0.000000</td>\n",
              "      <td>0.080579</td>\n",
              "      <td>0.078512</td>\n",
              "      <td>0.066116</td>\n",
              "      <td>0.049587</td>\n",
              "      <td>0.047521</td>\n",
              "      <td>0.035124</td>\n",
              "      <td>...</td>\n",
              "      <td>0.0</td>\n",
              "      <td>0.0</td>\n",
              "      <td>0.0</td>\n",
              "      <td>0.0</td>\n",
              "      <td>0.0</td>\n",
              "      <td>0.0</td>\n",
              "      <td>0.0</td>\n",
              "      <td>0.0</td>\n",
              "      <td>0.0</td>\n",
              "      <td>0.0</td>\n",
              "    </tr>\n",
              "    <tr>\n",
              "      <th>1</th>\n",
              "      <td>0.908425</td>\n",
              "      <td>0.783883</td>\n",
              "      <td>0.531136</td>\n",
              "      <td>0.362637</td>\n",
              "      <td>0.366300</td>\n",
              "      <td>0.344322</td>\n",
              "      <td>0.333333</td>\n",
              "      <td>0.307692</td>\n",
              "      <td>0.296703</td>\n",
              "      <td>0.300366</td>\n",
              "      <td>...</td>\n",
              "      <td>0.0</td>\n",
              "      <td>0.0</td>\n",
              "      <td>0.0</td>\n",
              "      <td>0.0</td>\n",
              "      <td>0.0</td>\n",
              "      <td>0.0</td>\n",
              "      <td>0.0</td>\n",
              "      <td>0.0</td>\n",
              "      <td>0.0</td>\n",
              "      <td>0.0</td>\n",
              "    </tr>\n",
              "    <tr>\n",
              "      <th>2</th>\n",
              "      <td>0.730088</td>\n",
              "      <td>0.212389</td>\n",
              "      <td>0.000000</td>\n",
              "      <td>0.119469</td>\n",
              "      <td>0.101770</td>\n",
              "      <td>0.101770</td>\n",
              "      <td>0.110619</td>\n",
              "      <td>0.123894</td>\n",
              "      <td>0.115044</td>\n",
              "      <td>0.132743</td>\n",
              "      <td>...</td>\n",
              "      <td>0.0</td>\n",
              "      <td>0.0</td>\n",
              "      <td>0.0</td>\n",
              "      <td>0.0</td>\n",
              "      <td>0.0</td>\n",
              "      <td>0.0</td>\n",
              "      <td>0.0</td>\n",
              "      <td>0.0</td>\n",
              "      <td>0.0</td>\n",
              "      <td>0.0</td>\n",
              "    </tr>\n",
              "    <tr>\n",
              "      <th>3</th>\n",
              "      <td>1.000000</td>\n",
              "      <td>0.910417</td>\n",
              "      <td>0.681250</td>\n",
              "      <td>0.472917</td>\n",
              "      <td>0.229167</td>\n",
              "      <td>0.068750</td>\n",
              "      <td>0.000000</td>\n",
              "      <td>0.004167</td>\n",
              "      <td>0.014583</td>\n",
              "      <td>0.054167</td>\n",
              "      <td>...</td>\n",
              "      <td>0.0</td>\n",
              "      <td>0.0</td>\n",
              "      <td>0.0</td>\n",
              "      <td>0.0</td>\n",
              "      <td>0.0</td>\n",
              "      <td>0.0</td>\n",
              "      <td>0.0</td>\n",
              "      <td>0.0</td>\n",
              "      <td>0.0</td>\n",
              "      <td>0.0</td>\n",
              "    </tr>\n",
              "    <tr>\n",
              "      <th>4</th>\n",
              "      <td>0.570470</td>\n",
              "      <td>0.399329</td>\n",
              "      <td>0.238255</td>\n",
              "      <td>0.147651</td>\n",
              "      <td>0.000000</td>\n",
              "      <td>0.003356</td>\n",
              "      <td>0.040268</td>\n",
              "      <td>0.080537</td>\n",
              "      <td>0.070470</td>\n",
              "      <td>0.090604</td>\n",
              "      <td>...</td>\n",
              "      <td>0.0</td>\n",
              "      <td>0.0</td>\n",
              "      <td>0.0</td>\n",
              "      <td>0.0</td>\n",
              "      <td>0.0</td>\n",
              "      <td>0.0</td>\n",
              "      <td>0.0</td>\n",
              "      <td>0.0</td>\n",
              "      <td>0.0</td>\n",
              "      <td>0.0</td>\n",
              "    </tr>\n",
              "  </tbody>\n",
              "</table>\n",
              "<p>5 rows × 188 columns</p>\n",
              "</div>\n",
              "      <button class=\"colab-df-convert\" onclick=\"convertToInteractive('df-5741dfd3-27da-418b-93cb-cfd77fd07fc7')\"\n",
              "              title=\"Convert this dataframe to an interactive table.\"\n",
              "              style=\"display:none;\">\n",
              "        \n",
              "  <svg xmlns=\"http://www.w3.org/2000/svg\" height=\"24px\"viewBox=\"0 0 24 24\"\n",
              "       width=\"24px\">\n",
              "    <path d=\"M0 0h24v24H0V0z\" fill=\"none\"/>\n",
              "    <path d=\"M18.56 5.44l.94 2.06.94-2.06 2.06-.94-2.06-.94-.94-2.06-.94 2.06-2.06.94zm-11 1L8.5 8.5l.94-2.06 2.06-.94-2.06-.94L8.5 2.5l-.94 2.06-2.06.94zm10 10l.94 2.06.94-2.06 2.06-.94-2.06-.94-.94-2.06-.94 2.06-2.06.94z\"/><path d=\"M17.41 7.96l-1.37-1.37c-.4-.4-.92-.59-1.43-.59-.52 0-1.04.2-1.43.59L10.3 9.45l-7.72 7.72c-.78.78-.78 2.05 0 2.83L4 21.41c.39.39.9.59 1.41.59.51 0 1.02-.2 1.41-.59l7.78-7.78 2.81-2.81c.8-.78.8-2.07 0-2.86zM5.41 20L4 18.59l7.72-7.72 1.47 1.35L5.41 20z\"/>\n",
              "  </svg>\n",
              "      </button>\n",
              "      \n",
              "  <style>\n",
              "    .colab-df-container {\n",
              "      display:flex;\n",
              "      flex-wrap:wrap;\n",
              "      gap: 12px;\n",
              "    }\n",
              "\n",
              "    .colab-df-convert {\n",
              "      background-color: #E8F0FE;\n",
              "      border: none;\n",
              "      border-radius: 50%;\n",
              "      cursor: pointer;\n",
              "      display: none;\n",
              "      fill: #1967D2;\n",
              "      height: 32px;\n",
              "      padding: 0 0 0 0;\n",
              "      width: 32px;\n",
              "    }\n",
              "\n",
              "    .colab-df-convert:hover {\n",
              "      background-color: #E2EBFA;\n",
              "      box-shadow: 0px 1px 2px rgba(60, 64, 67, 0.3), 0px 1px 3px 1px rgba(60, 64, 67, 0.15);\n",
              "      fill: #174EA6;\n",
              "    }\n",
              "\n",
              "    [theme=dark] .colab-df-convert {\n",
              "      background-color: #3B4455;\n",
              "      fill: #D2E3FC;\n",
              "    }\n",
              "\n",
              "    [theme=dark] .colab-df-convert:hover {\n",
              "      background-color: #434B5C;\n",
              "      box-shadow: 0px 1px 3px 1px rgba(0, 0, 0, 0.15);\n",
              "      filter: drop-shadow(0px 1px 2px rgba(0, 0, 0, 0.3));\n",
              "      fill: #FFFFFF;\n",
              "    }\n",
              "  </style>\n",
              "\n",
              "      <script>\n",
              "        const buttonEl =\n",
              "          document.querySelector('#df-5741dfd3-27da-418b-93cb-cfd77fd07fc7 button.colab-df-convert');\n",
              "        buttonEl.style.display =\n",
              "          google.colab.kernel.accessAllowed ? 'block' : 'none';\n",
              "\n",
              "        async function convertToInteractive(key) {\n",
              "          const element = document.querySelector('#df-5741dfd3-27da-418b-93cb-cfd77fd07fc7');\n",
              "          const dataTable =\n",
              "            await google.colab.kernel.invokeFunction('convertToInteractive',\n",
              "                                                     [key], {});\n",
              "          if (!dataTable) return;\n",
              "\n",
              "          const docLinkHtml = 'Like what you see? Visit the ' +\n",
              "            '<a target=\"_blank\" href=https://colab.research.google.com/notebooks/data_table.ipynb>data table notebook</a>'\n",
              "            + ' to learn more about interactive tables.';\n",
              "          element.innerHTML = '';\n",
              "          dataTable['output_type'] = 'display_data';\n",
              "          await google.colab.output.renderOutput(dataTable, element);\n",
              "          const docLink = document.createElement('div');\n",
              "          docLink.innerHTML = docLinkHtml;\n",
              "          element.appendChild(docLink);\n",
              "        }\n",
              "      </script>\n",
              "    </div>\n",
              "  </div>\n",
              "  "
            ]
          },
          "metadata": {},
          "execution_count": 7
        }
      ],
      "source": [
        "test_df.head()"
      ]
    },
    {
      "cell_type": "code",
      "execution_count": 8,
      "metadata": {
        "colab": {
          "base_uri": "https://localhost:8080/"
        },
        "id": "yXSpQh4JgSmB",
        "outputId": "39e5a225-ac59-4148-b517-030328454957"
      },
      "outputs": [
        {
          "output_type": "execute_result",
          "data": {
            "text/plain": [
              "(21892, 188)"
            ]
          },
          "metadata": {},
          "execution_count": 8
        }
      ],
      "source": [
        "test_df.shape"
      ]
    },
    {
      "cell_type": "code",
      "execution_count": 9,
      "metadata": {
        "colab": {
          "base_uri": "https://localhost:8080/"
        },
        "id": "4ieba6lZ7-mR",
        "outputId": "503af0f7-f79d-4834-e125-9fa61b77f9a4"
      },
      "outputs": [
        {
          "output_type": "execute_result",
          "data": {
            "text/plain": [
              "0      0\n",
              "1      0\n",
              "2      0\n",
              "3      0\n",
              "4      0\n",
              "      ..\n",
              "183    0\n",
              "184    0\n",
              "185    0\n",
              "186    0\n",
              "187    0\n",
              "Length: 188, dtype: int64"
            ]
          },
          "metadata": {},
          "execution_count": 9
        }
      ],
      "source": [
        "train_df.isnull().sum()"
      ]
    },
    {
      "cell_type": "code",
      "execution_count": 10,
      "metadata": {
        "colab": {
          "base_uri": "https://localhost:8080/"
        },
        "id": "tnUioK2Vg69E",
        "outputId": "cfddc8a0-0d5f-4f09-b662-a843810b0c19"
      },
      "outputs": [
        {
          "output_type": "stream",
          "name": "stdout",
          "text": [
            "0.0    72471\n",
            "4.0     6431\n",
            "2.0     5788\n",
            "1.0     2223\n",
            "3.0      641\n",
            "Name: 187, dtype: int64\n"
          ]
        }
      ],
      "source": [
        "print(train_df[187].value_counts())"
      ]
    },
    {
      "cell_type": "code",
      "execution_count": 11,
      "metadata": {
        "colab": {
          "base_uri": "https://localhost:8080/",
          "height": 297
        },
        "id": "3s12Vs9x9gXg",
        "outputId": "5ad85abc-2ed1-47d7-b46a-9b110e9e8f8a"
      },
      "outputs": [
        {
          "output_type": "execute_result",
          "data": {
            "text/plain": [
              "<matplotlib.axes._subplots.AxesSubplot at 0x7f6942868550>"
            ]
          },
          "metadata": {},
          "execution_count": 11
        },
        {
          "output_type": "display_data",
          "data": {
            "text/plain": [
              "<Figure size 432x288 with 1 Axes>"
            ],
            "image/png": "[encoded data removed]"
          },
          "metadata": {
            "needs_background": "light"
          }
        }
      ],
      "source": [
        "sns.countplot(x=187, data = train_df) "
      ]
    },
    {
      "cell_type": "code",
      "execution_count": 12,
      "metadata": {
        "colab": {
          "base_uri": "https://localhost:8080/",
          "height": 411
        },
        "id": "vnSD56cr-YE3",
        "outputId": "8973cce4-aa35-4af0-d600-d41ed7937675"
      },
      "outputs": [
        {
          "output_type": "display_data",
          "data": {
            "text/plain": [
              "<Figure size 504x504 with 1 Axes>"
            ],
            "image/png": "[encoded data removed]"
          },
          "metadata": {}
        }
      ],
      "source": [
        "plt.figure(figsize=(7,7))\n",
        "explode = (0, 0.2,0.2,0.2,0.2)\n",
        "plt.pie(train_df[187].value_counts(), labels=['N','Q','V','S','F'], autopct='%1.1f%%', explode=explode)\n",
        "plt.show()"
      ]
    },
    {
      "cell_type": "code",
      "execution_count": 13,
      "metadata": {
        "colab": {
          "base_uri": "https://localhost:8080/"
        },
        "id": "cynusO-SALlr",
        "outputId": "14469a0f-0ad6-4610-95e9-a6eb8e78c5c2"
      },
      "outputs": [
        {
          "output_type": "stream",
          "name": "stdout",
          "text": [
            "(87554, 187)\n",
            "(87554,)\n"
          ]
        }
      ],
      "source": [
        "x = train_df.drop(187,axis=1)\n",
        "y = train_df[187].astype('int64')\n",
        "print(x.shape)\n",
        "print(y.shape)\n",
        "\n",
        "#x_test = test_df.drop(187,axis=1)\n",
        "#y_test = test_df[187].astype('int64')\n",
        "#print(x_test.shape)\n",
        "#print(y_test.shape)"
      ]
    },
    {
      "cell_type": "code",
      "execution_count": 14,
      "metadata": {
        "id": "v8fxirDIAT8k"
      },
      "outputs": [],
      "source": [
        "x_train,x_val,y_train,y_val = train_test_split(x,y.values,random_state=42,stratify=y.values,shuffle=True,train_size=0.75)"
      ]
    },
    {
      "cell_type": "code",
      "execution_count": 15,
      "metadata": {
        "colab": {
          "base_uri": "https://localhost:8080/"
        },
        "id": "wnWwGLcER6zf",
        "outputId": "7ef58425-3863-4ff3-9ed9-061bdf0bf341"
      },
      "outputs": [
        {
          "output_type": "stream",
          "name": "stdout",
          "text": [
            "The shape of training data :  (65665, 187) (65665,)\n",
            "The shape of validation data :  (21889, 187) (21889,)\n"
          ]
        }
      ],
      "source": [
        "print(\"The shape of training data : \",x_train.shape,y_train.shape)\n",
        "print(\"The shape of validation data : \",x_val.shape,y_val.shape)"
      ]
    },
    {
      "cell_type": "code",
      "execution_count": 16,
      "metadata": {
        "id": "q2dEUy-wwzEH"
      },
      "outputs": [],
      "source": [
        "scaler = StandardScaler().fit(x_train)\n",
        "x_train = scaler.transform(x_train)\n",
        "#x_test = scaler.transform(x_test)\n",
        "x_val = scaler.transform(x_val)"
      ]
    },
    {
      "cell_type": "code",
      "execution_count": 17,
      "metadata": {
        "id": "5onl0y5HXMAF"
      },
      "outputs": [],
      "source": [
        "y_train = tf.keras.utils.to_categorical(y_train)\n",
        "y_val = tf.keras.utils.to_categorical(y_val)\n",
        "#y_test = tf.keras.utils.to_categorical(y_test)"
      ]
    },
    {
      "cell_type": "code",
      "execution_count": 18,
      "metadata": {
        "colab": {
          "base_uri": "https://localhost:8080/"
        },
        "id": "UxVRx4XaXLu2",
        "outputId": "6fdb69b9-5b73-4aae-9660-66d609745caa"
      },
      "outputs": [
        {
          "output_type": "stream",
          "name": "stdout",
          "text": [
            "The shape of training data :  (65665, 187, 1) (65665, 5)\n",
            "The shape of validation data :  (21889, 187, 1) (21889, 5)\n"
          ]
        }
      ],
      "source": [
        "x_train = np.expand_dims(x_train, 2)\n",
        "x_val = np.expand_dims(x_val, 2)\n",
        "#x_test = np.expand_dims(x_test, 2)\n",
        "print(\"The shape of training data : \",x_train.shape,y_train.shape)\n",
        "print(\"The shape of validation data : \",x_val.shape,y_val.shape)\n",
        "#print(\"The shape of testing data : \",x_test.shape,y_test.shape)"
      ]
    },
    {
      "cell_type": "code",
      "source": [
        "Classes_index = {\n",
        "    'N': 0, \n",
        "    'S': 1, \n",
        "    'V': 2, \n",
        "    'F': 3, \n",
        "    'Q': 4\n",
        "}"
      ],
      "metadata": {
        "id": "aoWkfLciloqU"
      },
      "execution_count": 19,
      "outputs": []
    },
    {
      "cell_type": "code",
      "execution_count": 33,
      "metadata": {
        "id": "5Lz9AYPuXLTQ"
      },
      "outputs": [],
      "source": [
        "import keras\n",
        "class Classifier_INCEPTION:\n",
        "    def __init__(self, weights_directory, input_shape, nb_classes, verbose=False, build=True, batch_size=64,\n",
        "                 nb_filters=32, use_residual=True, use_bottleneck=True, depth=10, kernel_size=41, nb_epochs=20):\n",
        "        self.weights_directory = weights_directory\n",
        "        self.nb_filters = nb_filters\n",
        "        self.use_residual = use_residual\n",
        "        self.use_bottleneck = use_bottleneck\n",
        "        self.depth = depth\n",
        "        self.kernel_size = kernel_size - 1\n",
        "        self.callbacks = None\n",
        "        self.batch_size = batch_size\n",
        "        self.bottleneck_size = 32\n",
        "        self.nb_epochs = nb_epochs\n",
        "\n",
        "        if build == True:\n",
        "            self.model = self.build_model(input_shape, nb_classes)\n",
        "            if (verbose == True):\n",
        "                self.model.summary()\n",
        "            self.verbose = verbose\n",
        "\n",
        "    def _inception_module(self, input_tensor, stride=1, activation='linear'):\n",
        "\n",
        "        if self.use_bottleneck and int(input_tensor.shape[-1]) > 1:\n",
        "            input_inception = Conv1D(filters=self.bottleneck_size, kernel_size=1,\n",
        "                                     padding='same', activation=activation, use_bias=False)(input_tensor)\n",
        "        else:\n",
        "            input_inception = input_tensor\n",
        "\n",
        "        kernel_size_s = [self.kernel_size // (2 ** i) for i in range(3)]\n",
        "\n",
        "        conv_list = []\n",
        "\n",
        "        for i in range(len(kernel_size_s)):\n",
        "            conv_list.append(Conv1D(filters=self.nb_filters, kernel_size=kernel_size_s[i],\n",
        "                                    strides=stride, padding='same', activation=activation, use_bias=False)(\n",
        "                input_inception))\n",
        "\n",
        "        max_pool_1 = MaxPool1D(pool_size=3, strides=stride, padding='same')(input_tensor)\n",
        "\n",
        "        conv_6 = Conv1D(filters=self.nb_filters, kernel_size=1,\n",
        "                        padding='same', activation=activation, use_bias=False)(max_pool_1)\n",
        "\n",
        "        conv_list.append(conv_6)\n",
        "\n",
        "        x = Concatenate(axis=2)(conv_list)\n",
        "        x = BatchNormalization()(x)\n",
        "        x = Activation(activation='relu')(x)\n",
        "        return x\n",
        "\n",
        "    def _shortcut_layer(self, input_tensor, out_tensor):\n",
        "        shortcut_y = Conv1D(filters=int(out_tensor.shape[-1]), kernel_size=1,\n",
        "                            padding='same', use_bias=False)(input_tensor)\n",
        "        shortcut_y = BatchNormalization()(shortcut_y)\n",
        "\n",
        "        x = Add()([shortcut_y, out_tensor])\n",
        "        x = Activation('relu')(x)\n",
        "        return x\n",
        "\n",
        "    def build_model(self, input_shape, nb_classes):\n",
        "        input_layer = Input(input_shape)\n",
        "\n",
        "        x = input_layer\n",
        "        input_res = input_layer\n",
        "\n",
        "        for d in range(self.depth):\n",
        "\n",
        "            x = self._inception_module(x)\n",
        "\n",
        "            if self.use_residual and d % 3 == 2:\n",
        "                x = self._shortcut_layer(input_res, x)\n",
        "                input_res = x\n",
        "\n",
        "        gap_layer = GlobalAveragePooling1D()(x)\n",
        "\n",
        "        output_layer = Dense(nb_classes, activation='softmax')(gap_layer)\n",
        "\n",
        "        model = Model(inputs=input_layer, outputs=output_layer)\n",
        "\n",
        "        model.compile(loss='categorical_crossentropy', \n",
        "                      optimizer=Adam(),\n",
        "                      metrics=['accuracy', Precision(), Recall()])\n",
        "\n",
        "        reduce_lr = ReduceLROnPlateau(monitor='val_accuracy', \n",
        "                                      factor=0.5, \n",
        "                                      patience=int(self.nb_epochs/20),\n",
        "                                      min_lr=0.0001)\n",
        "        \n",
        "        file_path = os.path.join(self.weights_directory,\"best_weights.h5\")\n",
        "        model_checkpoint = ModelCheckpoint(filepath=file_path, \n",
        "                                           monitor='val_accuracy',\n",
        "                                           mode=\"max\",\n",
        "                                           save_best_only=True)\n",
        "        \n",
        "        early_stopping = EarlyStopping(monitor=\"val_accuracy\", \n",
        "                                       mode=\"max\", \n",
        "                                       verbose=1, \n",
        "                                       patience=int(self.nb_epochs/10))\n",
        "        plotlosses = PlotLossesKeras()\n",
        "        self.callbacks = [reduce_lr, model_checkpoint, early_stopping,plotlosses]\n",
        "        return model\n",
        "\n",
        "    def fit(self, x_train, y_train, x_val, y_val, class_weights=None):       \n",
        "        if self.batch_size is None:\n",
        "            mini_batch_size = int(min(x_train.shape[0] / 10, 16))\n",
        "        else:\n",
        "            mini_batch_size = self.batch_size\n",
        "\n",
        "        start_time = time.time()\n",
        "        hist = self.model.fit(x_train, y_train, \n",
        "                              batch_size=mini_batch_size, \n",
        "                              epochs=self.nb_epochs,\n",
        "                              verbose=self.verbose, \n",
        "                              validation_data=(x_val, y_val), \n",
        "                              callbacks=self.callbacks)\n",
        "        \n",
        "        duration = time.time() - start_time\n",
        "        keras.backend.clear_session()\n",
        "        print(\"Model take {} S to train \".format(duration))\n",
        "        return hist "
      ]
    },
    {
      "cell_type": "code",
      "source": [
        "!pip install livelossplot"
      ],
      "metadata": {
        "colab": {
          "base_uri": "https://localhost:8080/"
        },
        "id": "vPsXmjgHmwuP",
        "outputId": "ca03c06e-b564-4834-b7da-c3da223d98fb"
      },
      "execution_count": 34,
      "outputs": [
        {
          "output_type": "stream",
          "name": "stdout",
          "text": [
            "Looking in indexes: https://pypi.org/simple, https://us-python.pkg.dev/colab-wheels/public/simple/\n",
            "Requirement already satisfied: livelossplot in /usr/local/lib/python3.8/dist-packages (0.5.5)\n",
            "Requirement already satisfied: bokeh in /usr/local/lib/python3.8/dist-packages (from livelossplot) (2.3.3)\n",
            "Requirement already satisfied: matplotlib in /usr/local/lib/python3.8/dist-packages (from livelossplot) (3.2.2)\n",
            "Requirement already satisfied: typing-extensions>=3.7.4 in /usr/local/lib/python3.8/dist-packages (from bokeh->livelossplot) (4.4.0)\n",
            "Requirement already satisfied: Jinja2>=2.9 in /usr/local/lib/python3.8/dist-packages (from bokeh->livelossplot) (2.11.3)\n",
            "Requirement already satisfied: tornado>=5.1 in /usr/local/lib/python3.8/dist-packages (from bokeh->livelossplot) (6.0.4)\n",
            "Requirement already satisfied: numpy>=1.11.3 in /usr/local/lib/python3.8/dist-packages (from bokeh->livelossplot) (1.21.6)\n",
            "Requirement already satisfied: packaging>=16.8 in /usr/local/lib/python3.8/dist-packages (from bokeh->livelossplot) (21.3)\n",
            "Requirement already satisfied: python-dateutil>=2.1 in /usr/local/lib/python3.8/dist-packages (from bokeh->livelossplot) (2.8.2)\n",
            "Requirement already satisfied: pillow>=7.1.0 in /usr/local/lib/python3.8/dist-packages (from bokeh->livelossplot) (7.1.2)\n",
            "Requirement already satisfied: PyYAML>=3.10 in /usr/local/lib/python3.8/dist-packages (from bokeh->livelossplot) (6.0)\n",
            "Requirement already satisfied: kiwisolver>=1.0.1 in /usr/local/lib/python3.8/dist-packages (from matplotlib->livelossplot) (1.4.4)\n",
            "Requirement already satisfied: cycler>=0.10 in /usr/local/lib/python3.8/dist-packages (from matplotlib->livelossplot) (0.11.0)\n",
            "Requirement already satisfied: pyparsing!=2.0.4,!=2.1.2,!=2.1.6,>=2.0.1 in /usr/local/lib/python3.8/dist-packages (from matplotlib->livelossplot) (3.0.9)\n",
            "Requirement already satisfied: MarkupSafe>=0.23 in /usr/local/lib/python3.8/dist-packages (from Jinja2>=2.9->bokeh->livelossplot) (2.0.1)\n",
            "Requirement already satisfied: six>=1.5 in /usr/local/lib/python3.8/dist-packages (from python-dateutil>=2.1->bokeh->livelossplot) (1.15.0)\n"
          ]
        }
      ]
    },
    {
      "cell_type": "code",
      "source": [
        "from keras.layers import Activation,Input,Concatenate, Add, \\\n",
        "                         GlobalAveragePooling1D,MaxPool1D\n",
        "from keras.models import Model\n",
        "from tensorflow.keras.optimizers import Adam\n",
        "from tensorflow.keras.metrics import Recall, Precision\n",
        "from keras.callbacks import ModelCheckpoint, ReduceLROnPlateau\n",
        "from livelossplot import PlotLossesKeras\n",
        "\n",
        "weights_directory = \"./\"\n",
        "inception = Classifier_INCEPTION(weights_directory, x_train.shape[1:], len(Classes_index.keys()), 1, \n",
        "                                 batch_size=256, build=True)\n",
        "\n"
      ],
      "metadata": {
        "colab": {
          "base_uri": "https://localhost:8080/"
        },
        "id": "StE3M8pAltOu",
        "outputId": "79e0b23f-3d23-4204-e4ca-6022c02389b0"
      },
      "execution_count": 35,
      "outputs": [
        {
          "output_type": "stream",
          "name": "stdout",
          "text": [
            "Model: \"model_2\"\n",
            "__________________________________________________________________________________________________\n",
            " Layer (type)                   Output Shape         Param #     Connected to                     \n",
            "==================================================================================================\n",
            " input_4 (InputLayer)           [(None, 187, 1)]     0           []                               \n",
            "                                                                                                  \n",
            " max_pooling1d_20 (MaxPooling1D  (None, 187, 1)      0           ['input_4[0][0]']                \n",
            " )                                                                                                \n",
            "                                                                                                  \n",
            " conv1d_107 (Conv1D)            (None, 187, 32)      1280        ['input_4[0][0]']                \n",
            "                                                                                                  \n",
            " conv1d_108 (Conv1D)            (None, 187, 32)      640         ['input_4[0][0]']                \n",
            "                                                                                                  \n",
            " conv1d_109 (Conv1D)            (None, 187, 32)      320         ['input_4[0][0]']                \n",
            "                                                                                                  \n",
            " conv1d_110 (Conv1D)            (None, 187, 32)      32          ['max_pooling1d_20[0][0]']       \n",
            "                                                                                                  \n",
            " concatenate_20 (Concatenate)   (None, 187, 128)     0           ['conv1d_107[0][0]',             \n",
            "                                                                  'conv1d_108[0][0]',             \n",
            "                                                                  'conv1d_109[0][0]',             \n",
            "                                                                  'conv1d_110[0][0]']             \n",
            "                                                                                                  \n",
            " batch_normalization_26 (BatchN  (None, 187, 128)    512         ['concatenate_20[0][0]']         \n",
            " ormalization)                                                                                    \n",
            "                                                                                                  \n",
            " activation_26 (Activation)     (None, 187, 128)     0           ['batch_normalization_26[0][0]'] \n",
            "                                                                                                  \n",
            " conv1d_111 (Conv1D)            (None, 187, 32)      4096        ['activation_26[0][0]']          \n",
            "                                                                                                  \n",
            " max_pooling1d_21 (MaxPooling1D  (None, 187, 128)    0           ['activation_26[0][0]']          \n",
            " )                                                                                                \n",
            "                                                                                                  \n",
            " conv1d_112 (Conv1D)            (None, 187, 32)      40960       ['conv1d_111[0][0]']             \n",
            "                                                                                                  \n",
            " conv1d_113 (Conv1D)            (None, 187, 32)      20480       ['conv1d_111[0][0]']             \n",
            "                                                                                                  \n",
            " conv1d_114 (Conv1D)            (None, 187, 32)      10240       ['conv1d_111[0][0]']             \n",
            "                                                                                                  \n",
            " conv1d_115 (Conv1D)            (None, 187, 32)      4096        ['max_pooling1d_21[0][0]']       \n",
            "                                                                                                  \n",
            " concatenate_21 (Concatenate)   (None, 187, 128)     0           ['conv1d_112[0][0]',             \n",
            "                                                                  'conv1d_113[0][0]',             \n",
            "                                                                  'conv1d_114[0][0]',             \n",
            "                                                                  'conv1d_115[0][0]']             \n",
            "                                                                                                  \n",
            " batch_normalization_27 (BatchN  (None, 187, 128)    512         ['concatenate_21[0][0]']         \n",
            " ormalization)                                                                                    \n",
            "                                                                                                  \n",
            " activation_27 (Activation)     (None, 187, 128)     0           ['batch_normalization_27[0][0]'] \n",
            "                                                                                                  \n",
            " conv1d_116 (Conv1D)            (None, 187, 32)      4096        ['activation_27[0][0]']          \n",
            "                                                                                                  \n",
            " max_pooling1d_22 (MaxPooling1D  (None, 187, 128)    0           ['activation_27[0][0]']          \n",
            " )                                                                                                \n",
            "                                                                                                  \n",
            " conv1d_117 (Conv1D)            (None, 187, 32)      40960       ['conv1d_116[0][0]']             \n",
            "                                                                                                  \n",
            " conv1d_118 (Conv1D)            (None, 187, 32)      20480       ['conv1d_116[0][0]']             \n",
            "                                                                                                  \n",
            " conv1d_119 (Conv1D)            (None, 187, 32)      10240       ['conv1d_116[0][0]']             \n",
            "                                                                                                  \n",
            " conv1d_120 (Conv1D)            (None, 187, 32)      4096        ['max_pooling1d_22[0][0]']       \n",
            "                                                                                                  \n",
            " concatenate_22 (Concatenate)   (None, 187, 128)     0           ['conv1d_117[0][0]',             \n",
            "                                                                  'conv1d_118[0][0]',             \n",
            "                                                                  'conv1d_119[0][0]',             \n",
            "                                                                  'conv1d_120[0][0]']             \n",
            "                                                                                                  \n",
            " conv1d_121 (Conv1D)            (None, 187, 128)     128         ['input_4[0][0]']                \n",
            "                                                                                                  \n",
            " batch_normalization_28 (BatchN  (None, 187, 128)    512         ['concatenate_22[0][0]']         \n",
            " ormalization)                                                                                    \n",
            "                                                                                                  \n",
            " batch_normalization_29 (BatchN  (None, 187, 128)    512         ['conv1d_121[0][0]']             \n",
            " ormalization)                                                                                    \n",
            "                                                                                                  \n",
            " activation_28 (Activation)     (None, 187, 128)     0           ['batch_normalization_28[0][0]'] \n",
            "                                                                                                  \n",
            " add_6 (Add)                    (None, 187, 128)     0           ['batch_normalization_29[0][0]', \n",
            "                                                                  'activation_28[0][0]']          \n",
            "                                                                                                  \n",
            " activation_29 (Activation)     (None, 187, 128)     0           ['add_6[0][0]']                  \n",
            "                                                                                                  \n",
            " conv1d_122 (Conv1D)            (None, 187, 32)      4096        ['activation_29[0][0]']          \n",
            "                                                                                                  \n",
            " max_pooling1d_23 (MaxPooling1D  (None, 187, 128)    0           ['activation_29[0][0]']          \n",
            " )                                                                                                \n",
            "                                                                                                  \n",
            " conv1d_123 (Conv1D)            (None, 187, 32)      40960       ['conv1d_122[0][0]']             \n",
            "                                                                                                  \n",
            " conv1d_124 (Conv1D)            (None, 187, 32)      20480       ['conv1d_122[0][0]']             \n",
            "                                                                                                  \n",
            " conv1d_125 (Conv1D)            (None, 187, 32)      10240       ['conv1d_122[0][0]']             \n",
            "                                                                                                  \n",
            " conv1d_126 (Conv1D)            (None, 187, 32)      4096        ['max_pooling1d_23[0][0]']       \n",
            "                                                                                                  \n",
            " concatenate_23 (Concatenate)   (None, 187, 128)     0           ['conv1d_123[0][0]',             \n",
            "                                                                  'conv1d_124[0][0]',             \n",
            "                                                                  'conv1d_125[0][0]',             \n",
            "                                                                  'conv1d_126[0][0]']             \n",
            "                                                                                                  \n",
            " batch_normalization_30 (BatchN  (None, 187, 128)    512         ['concatenate_23[0][0]']         \n",
            " ormalization)                                                                                    \n",
            "                                                                                                  \n",
            " activation_30 (Activation)     (None, 187, 128)     0           ['batch_normalization_30[0][0]'] \n",
            "                                                                                                  \n",
            " conv1d_127 (Conv1D)            (None, 187, 32)      4096        ['activation_30[0][0]']          \n",
            "                                                                                                  \n",
            " max_pooling1d_24 (MaxPooling1D  (None, 187, 128)    0           ['activation_30[0][0]']          \n",
            " )                                                                                                \n",
            "                                                                                                  \n",
            " conv1d_128 (Conv1D)            (None, 187, 32)      40960       ['conv1d_127[0][0]']             \n",
            "                                                                                                  \n",
            " conv1d_129 (Conv1D)            (None, 187, 32)      20480       ['conv1d_127[0][0]']             \n",
            "                                                                                                  \n",
            " conv1d_130 (Conv1D)            (None, 187, 32)      10240       ['conv1d_127[0][0]']             \n",
            "                                                                                                  \n",
            " conv1d_131 (Conv1D)            (None, 187, 32)      4096        ['max_pooling1d_24[0][0]']       \n",
            "                                                                                                  \n",
            " concatenate_24 (Concatenate)   (None, 187, 128)     0           ['conv1d_128[0][0]',             \n",
            "                                                                  'conv1d_129[0][0]',             \n",
            "                                                                  'conv1d_130[0][0]',             \n",
            "                                                                  'conv1d_131[0][0]']             \n",
            "                                                                                                  \n",
            " batch_normalization_31 (BatchN  (None, 187, 128)    512         ['concatenate_24[0][0]']         \n",
            " ormalization)                                                                                    \n",
            "                                                                                                  \n",
            " activation_31 (Activation)     (None, 187, 128)     0           ['batch_normalization_31[0][0]'] \n",
            "                                                                                                  \n",
            " conv1d_132 (Conv1D)            (None, 187, 32)      4096        ['activation_31[0][0]']          \n",
            "                                                                                                  \n",
            " max_pooling1d_25 (MaxPooling1D  (None, 187, 128)    0           ['activation_31[0][0]']          \n",
            " )                                                                                                \n",
            "                                                                                                  \n",
            " conv1d_133 (Conv1D)            (None, 187, 32)      40960       ['conv1d_132[0][0]']             \n",
            "                                                                                                  \n",
            " conv1d_134 (Conv1D)            (None, 187, 32)      20480       ['conv1d_132[0][0]']             \n",
            "                                                                                                  \n",
            " conv1d_135 (Conv1D)            (None, 187, 32)      10240       ['conv1d_132[0][0]']             \n",
            "                                                                                                  \n",
            " conv1d_136 (Conv1D)            (None, 187, 32)      4096        ['max_pooling1d_25[0][0]']       \n",
            "                                                                                                  \n",
            " concatenate_25 (Concatenate)   (None, 187, 128)     0           ['conv1d_133[0][0]',             \n",
            "                                                                  'conv1d_134[0][0]',             \n",
            "                                                                  'conv1d_135[0][0]',             \n",
            "                                                                  'conv1d_136[0][0]']             \n",
            "                                                                                                  \n",
            " conv1d_137 (Conv1D)            (None, 187, 128)     16384       ['activation_29[0][0]']          \n",
            "                                                                                                  \n",
            " batch_normalization_32 (BatchN  (None, 187, 128)    512         ['concatenate_25[0][0]']         \n",
            " ormalization)                                                                                    \n",
            "                                                                                                  \n",
            " batch_normalization_33 (BatchN  (None, 187, 128)    512         ['conv1d_137[0][0]']             \n",
            " ormalization)                                                                                    \n",
            "                                                                                                  \n",
            " activation_32 (Activation)     (None, 187, 128)     0           ['batch_normalization_32[0][0]'] \n",
            "                                                                                                  \n",
            " add_7 (Add)                    (None, 187, 128)     0           ['batch_normalization_33[0][0]', \n",
            "                                                                  'activation_32[0][0]']          \n",
            "                                                                                                  \n",
            " activation_33 (Activation)     (None, 187, 128)     0           ['add_7[0][0]']                  \n",
            "                                                                                                  \n",
            " conv1d_138 (Conv1D)            (None, 187, 32)      4096        ['activation_33[0][0]']          \n",
            "                                                                                                  \n",
            " max_pooling1d_26 (MaxPooling1D  (None, 187, 128)    0           ['activation_33[0][0]']          \n",
            " )                                                                                                \n",
            "                                                                                                  \n",
            " conv1d_139 (Conv1D)            (None, 187, 32)      40960       ['conv1d_138[0][0]']             \n",
            "                                                                                                  \n",
            " conv1d_140 (Conv1D)            (None, 187, 32)      20480       ['conv1d_138[0][0]']             \n",
            "                                                                                                  \n",
            " conv1d_141 (Conv1D)            (None, 187, 32)      10240       ['conv1d_138[0][0]']             \n",
            "                                                                                                  \n",
            " conv1d_142 (Conv1D)            (None, 187, 32)      4096        ['max_pooling1d_26[0][0]']       \n",
            "                                                                                                  \n",
            " concatenate_26 (Concatenate)   (None, 187, 128)     0           ['conv1d_139[0][0]',             \n",
            "                                                                  'conv1d_140[0][0]',             \n",
            "                                                                  'conv1d_141[0][0]',             \n",
            "                                                                  'conv1d_142[0][0]']             \n",
            "                                                                                                  \n",
            " batch_normalization_34 (BatchN  (None, 187, 128)    512         ['concatenate_26[0][0]']         \n",
            " ormalization)                                                                                    \n",
            "                                                                                                  \n",
            " activation_34 (Activation)     (None, 187, 128)     0           ['batch_normalization_34[0][0]'] \n",
            "                                                                                                  \n",
            " conv1d_143 (Conv1D)            (None, 187, 32)      4096        ['activation_34[0][0]']          \n",
            "                                                                                                  \n",
            " max_pooling1d_27 (MaxPooling1D  (None, 187, 128)    0           ['activation_34[0][0]']          \n",
            " )                                                                                                \n",
            "                                                                                                  \n",
            " conv1d_144 (Conv1D)            (None, 187, 32)      40960       ['conv1d_143[0][0]']             \n",
            "                                                                                                  \n",
            " conv1d_145 (Conv1D)            (None, 187, 32)      20480       ['conv1d_143[0][0]']             \n",
            "                                                                                                  \n",
            " conv1d_146 (Conv1D)            (None, 187, 32)      10240       ['conv1d_143[0][0]']             \n",
            "                                                                                                  \n",
            " conv1d_147 (Conv1D)            (None, 187, 32)      4096        ['max_pooling1d_27[0][0]']       \n",
            "                                                                                                  \n",
            " concatenate_27 (Concatenate)   (None, 187, 128)     0           ['conv1d_144[0][0]',             \n",
            "                                                                  'conv1d_145[0][0]',             \n",
            "                                                                  'conv1d_146[0][0]',             \n",
            "                                                                  'conv1d_147[0][0]']             \n",
            "                                                                                                  \n",
            " batch_normalization_35 (BatchN  (None, 187, 128)    512         ['concatenate_27[0][0]']         \n",
            " ormalization)                                                                                    \n",
            "                                                                                                  \n",
            " activation_35 (Activation)     (None, 187, 128)     0           ['batch_normalization_35[0][0]'] \n",
            "                                                                                                  \n",
            " conv1d_148 (Conv1D)            (None, 187, 32)      4096        ['activation_35[0][0]']          \n",
            "                                                                                                  \n",
            " max_pooling1d_28 (MaxPooling1D  (None, 187, 128)    0           ['activation_35[0][0]']          \n",
            " )                                                                                                \n",
            "                                                                                                  \n",
            " conv1d_149 (Conv1D)            (None, 187, 32)      40960       ['conv1d_148[0][0]']             \n",
            "                                                                                                  \n",
            " conv1d_150 (Conv1D)            (None, 187, 32)      20480       ['conv1d_148[0][0]']             \n",
            "                                                                                                  \n",
            " conv1d_151 (Conv1D)            (None, 187, 32)      10240       ['conv1d_148[0][0]']             \n",
            "                                                                                                  \n",
            " conv1d_152 (Conv1D)            (None, 187, 32)      4096        ['max_pooling1d_28[0][0]']       \n",
            "                                                                                                  \n",
            " concatenate_28 (Concatenate)   (None, 187, 128)     0           ['conv1d_149[0][0]',             \n",
            "                                                                  'conv1d_150[0][0]',             \n",
            "                                                                  'conv1d_151[0][0]',             \n",
            "                                                                  'conv1d_152[0][0]']             \n",
            "                                                                                                  \n",
            " conv1d_153 (Conv1D)            (None, 187, 128)     16384       ['activation_33[0][0]']          \n",
            "                                                                                                  \n",
            " batch_normalization_36 (BatchN  (None, 187, 128)    512         ['concatenate_28[0][0]']         \n",
            " ormalization)                                                                                    \n",
            "                                                                                                  \n",
            " batch_normalization_37 (BatchN  (None, 187, 128)    512         ['conv1d_153[0][0]']             \n",
            " ormalization)                                                                                    \n",
            "                                                                                                  \n",
            " activation_36 (Activation)     (None, 187, 128)     0           ['batch_normalization_36[0][0]'] \n",
            "                                                                                                  \n",
            " add_8 (Add)                    (None, 187, 128)     0           ['batch_normalization_37[0][0]', \n",
            "                                                                  'activation_36[0][0]']          \n",
            "                                                                                                  \n",
            " activation_37 (Activation)     (None, 187, 128)     0           ['add_8[0][0]']                  \n",
            "                                                                                                  \n",
            " conv1d_154 (Conv1D)            (None, 187, 32)      4096        ['activation_37[0][0]']          \n",
            "                                                                                                  \n",
            " max_pooling1d_29 (MaxPooling1D  (None, 187, 128)    0           ['activation_37[0][0]']          \n",
            " )                                                                                                \n",
            "                                                                                                  \n",
            " conv1d_155 (Conv1D)            (None, 187, 32)      40960       ['conv1d_154[0][0]']             \n",
            "                                                                                                  \n",
            " conv1d_156 (Conv1D)            (None, 187, 32)      20480       ['conv1d_154[0][0]']             \n",
            "                                                                                                  \n",
            " conv1d_157 (Conv1D)            (None, 187, 32)      10240       ['conv1d_154[0][0]']             \n",
            "                                                                                                  \n",
            " conv1d_158 (Conv1D)            (None, 187, 32)      4096        ['max_pooling1d_29[0][0]']       \n",
            "                                                                                                  \n",
            " concatenate_29 (Concatenate)   (None, 187, 128)     0           ['conv1d_155[0][0]',             \n",
            "                                                                  'conv1d_156[0][0]',             \n",
            "                                                                  'conv1d_157[0][0]',             \n",
            "                                                                  'conv1d_158[0][0]']             \n",
            "                                                                                                  \n",
            " batch_normalization_38 (BatchN  (None, 187, 128)    512         ['concatenate_29[0][0]']         \n",
            " ormalization)                                                                                    \n",
            "                                                                                                  \n",
            " activation_38 (Activation)     (None, 187, 128)     0           ['batch_normalization_38[0][0]'] \n",
            "                                                                                                  \n",
            " global_average_pooling1d_2 (Gl  (None, 128)         0           ['activation_38[0][0]']          \n",
            " obalAveragePooling1D)                                                                            \n",
            "                                                                                                  \n",
            " dense_2 (Dense)                (None, 5)            645         ['global_average_pooling1d_2[0][0\n",
            "                                                                 ]']                              \n",
            "                                                                                                  \n",
            "==================================================================================================\n",
            "Total params: 761,317\n",
            "Trainable params: 757,989\n",
            "Non-trainable params: 3,328\n",
            "__________________________________________________________________________________________________\n"
          ]
        }
      ]
    },
    {
      "cell_type": "code",
      "source": [
        "import time\n",
        "history = inception.fit(x_train, y_train, x_val, y_val)"
      ],
      "metadata": {
        "id": "u6xrgXAspa06",
        "colab": {
          "base_uri": "https://localhost:8080/",
          "height": 1000
        },
        "outputId": "19cefa82-9191-4146-b3b0-568fb9a1761f"
      },
      "execution_count": 36,
      "outputs": [
        {
          "output_type": "display_data",
          "data": {
            "text/plain": [
              "<Figure size 864x1152 with 6 Axes>"
            ],
            "image/png": "[encoded data removed]"
          },
          "metadata": {
            "needs_background": "light"
          }
        },
        {
          "output_type": "stream",
          "name": "stdout",
          "text": [
            "accuracy\n",
            "\ttraining         \t (min:    0.953, max:    0.998, cur:    0.998)\n",
            "\tvalidation       \t (min:    0.907, max:    0.989, cur:    0.988)\n",
            "Loss\n",
            "\ttraining         \t (min:    0.007, max:    0.183, cur:    0.007)\n",
            "\tvalidation       \t (min:    0.040, max:    0.341, cur:    0.047)\n",
            "lr\n",
            "\tlr               \t (min:    0.000, max:    0.001, cur:    0.000)\n",
            "precision_2\n",
            "\ttraining         \t (min:    0.961, max:    0.998, cur:    0.998)\n",
            "\tvalidation       \t (min:    0.916, max:    0.990, cur:    0.988)\n",
            "recall_2\n",
            "\ttraining         \t (min:    0.941, max:    0.998, cur:    0.998)\n",
            "\tvalidation       \t (min:    0.899, max:    0.989, cur:    0.987)\n",
            "\b\b\b\b\b\b\b\b\b\b\b\b\b\b\b\b\b\b\b\b\b\b\b\b\b\b\b\b\b\b\b\b\b\b\b\b\b\b\b\b\b\b\b\b\b\b\b\b\b\b\b\b\b\b\b\b\b\b\b\b\b\b\b\b\b\b\b\b\b\b\b\b\b\b\b\b\b\b\b\b\b\b\b\b\b\b\b\b\b\b\b\b\b\b\b\b\b\b\b\b\b\b\b\b\b\b\b\b\b\b\b\b\b\b\b\b\b\b\b\b\b\b\b\b\b\r257/257 [==============================] - 52s 202ms/step - loss: 0.0068 - accuracy: 0.9979 - precision_2: 0.9981 - recall_2: 0.9978 - val_loss: 0.0473 - val_accuracy: 0.9878 - val_precision_2: 0.9880 - val_recall_2: 0.9872 - lr: 1.0000e-04\n",
            "Epoch 15: early stopping\n",
            "Model take 789.4181535243988 S to train \n"
          ]
        }
      ]
    },
    {
      "cell_type": "code",
      "source": [
        "inception.model.load_weights(\"./best_weights.h5\")"
      ],
      "metadata": {
        "id": "ONI7QXGsoSk9"
      },
      "execution_count": 37,
      "outputs": []
    },
    {
      "cell_type": "code",
      "source": [
        "classes = []\n",
        "sns.countplot(x=187, data = test_df)"
      ],
      "metadata": {
        "colab": {
          "base_uri": "https://localhost:8080/",
          "height": 297
        },
        "id": "-uynxSXatSty",
        "outputId": "496d8c50-02b6-4f94-8b83-3c043c0beed2"
      },
      "execution_count": 38,
      "outputs": [
        {
          "output_type": "execute_result",
          "data": {
            "text/plain": [
              "<matplotlib.axes._subplots.AxesSubplot at 0x7f68a00555b0>"
            ]
          },
          "metadata": {},
          "execution_count": 38
        },
        {
          "output_type": "display_data",
          "data": {
            "text/plain": [
              "<Figure size 432x288 with 1 Axes>"
            ],
            "image/png": "[encoded data removed]"
          },
          "metadata": {
            "needs_background": "light"
          }
        }
      ]
    },
    {
      "cell_type": "code",
      "source": [
        "print(test_df[187].value_counts())"
      ],
      "metadata": {
        "colab": {
          "base_uri": "https://localhost:8080/"
        },
        "id": "QHRxijnAtSmj",
        "outputId": "6cbf27a9-6ad8-467f-f6cf-d29a639fcdc8"
      },
      "execution_count": 39,
      "outputs": [
        {
          "output_type": "stream",
          "name": "stdout",
          "text": [
            "0.0    18118\n",
            "4.0     1608\n",
            "2.0     1448\n",
            "1.0      556\n",
            "3.0      162\n",
            "Name: 187, dtype: int64\n"
          ]
        }
      ]
    },
    {
      "cell_type": "code",
      "source": [
        "class_1 = test_df[test_df[187]==1.0]\n",
        "class_2 = test_df[test_df[187]==2.0]\n",
        "class_3 = test_df[test_df[187]==3.0]\n",
        "class_4 = test_df[test_df[187]==4.0]\n",
        "class_0 = test_df[test_df[187]==0.0].sample(n = 1400)\n",
        "\n",
        "class_1=resample(class_1, replace=True, n_samples=600, random_state=1)\n",
        "#class_2=resample(class_2, replace=True, n_samples=2000, random_state=1)\n",
        "class_3=resample(class_3, replace=True, n_samples=500, random_state=1)\n",
        "#class_4=resample(class_4, replace=True, n_samples=2000, random_state=1)"
      ],
      "metadata": {
        "id": "6CyF9B7AtSDB"
      },
      "execution_count": 40,
      "outputs": []
    },
    {
      "cell_type": "code",
      "source": [
        "new_test_df = pd.concat([class_0, class_1, class_2, class_3, class_4])"
      ],
      "metadata": {
        "id": "CCoUMdIptXI1"
      },
      "execution_count": 41,
      "outputs": []
    },
    {
      "cell_type": "code",
      "source": [
        "sns.countplot(x=187, data = new_test_df) "
      ],
      "metadata": {
        "colab": {
          "base_uri": "https://localhost:8080/",
          "height": 297
        },
        "id": "IqM391tUtXFh",
        "outputId": "0892d943-4a3e-47f9-c8f7-c4f18ace4a36"
      },
      "execution_count": 42,
      "outputs": [
        {
          "output_type": "execute_result",
          "data": {
            "text/plain": [
              "<matplotlib.axes._subplots.AxesSubplot at 0x7f686a19a4f0>"
            ]
          },
          "metadata": {},
          "execution_count": 42
        },
        {
          "output_type": "display_data",
          "data": {
            "text/plain": [
              "<Figure size 432x288 with 1 Axes>"
            ],
            "image/png": "[encoded data removed]"
          },
          "metadata": {
            "needs_background": "light"
          }
        }
      ]
    },
    {
      "cell_type": "code",
      "source": [
        "x_test = new_test_df.drop(187,axis=1)\n",
        "y_test = new_test_df[187].astype('int64')\n",
        "print(x_test.shape)\n",
        "print(y_test.shape)"
      ],
      "metadata": {
        "colab": {
          "base_uri": "https://localhost:8080/"
        },
        "id": "kpn_wEqWoi4Q",
        "outputId": "f76fe526-94b2-47fd-ced1-fd8a1756b602"
      },
      "execution_count": 43,
      "outputs": [
        {
          "output_type": "stream",
          "name": "stdout",
          "text": [
            "(5556, 187)\n",
            "(5556,)\n"
          ]
        }
      ]
    },
    {
      "cell_type": "code",
      "source": [
        "x_test = scaler.transform(x_test)"
      ],
      "metadata": {
        "id": "18o0EUaooiwI"
      },
      "execution_count": 44,
      "outputs": []
    },
    {
      "cell_type": "code",
      "source": [
        "y_test = tf.keras.utils.to_categorical(y_test)"
      ],
      "metadata": {
        "id": "Dt_uizNtoitS"
      },
      "execution_count": 45,
      "outputs": []
    },
    {
      "cell_type": "code",
      "source": [
        "x_test = np.expand_dims(x_test, 2)\n",
        "print(\"The shape of testing data : \",x_test.shape,y_test.shape)"
      ],
      "metadata": {
        "colab": {
          "base_uri": "https://localhost:8080/"
        },
        "id": "AS7O4ue1oiqI",
        "outputId": "a934de76-8e8a-4fdf-8961-38adde2a754d"
      },
      "execution_count": 46,
      "outputs": [
        {
          "output_type": "stream",
          "name": "stdout",
          "text": [
            "The shape of testing data :  (5556, 187, 1) (5556, 5)\n"
          ]
        }
      ]
    },
    {
      "cell_type": "code",
      "execution_count": 47,
      "metadata": {
        "id": "o1La0K0WXK6R",
        "colab": {
          "base_uri": "https://localhost:8080/"
        },
        "outputId": "9c44e5d1-512b-479a-e458-017847b24457"
      },
      "outputs": [
        {
          "output_type": "stream",
          "name": "stdout",
          "text": [
            "174/174 [==============================] - 3s 13ms/step - loss: 0.2041 - accuracy: 0.9512 - precision_2: 0.9537 - recall_2: 0.9501\n"
          ]
        },
        {
          "output_type": "execute_result",
          "data": {
            "text/plain": [
              "[0.20414333045482635,\n",
              " 0.9512239098548889,\n",
              " 0.953748881816864,\n",
              " 0.9501439929008484]"
            ]
          },
          "metadata": {},
          "execution_count": 47
        }
      ],
      "source": [
        "inception.model.evaluate(x_test, y_test)"
      ]
    },
    {
      "cell_type": "code",
      "source": [
        "plt.plot(history.history['accuracy'])\n",
        "plt.plot(history.history['val_accuracy'])\n",
        "plt.legend(['Training', 'Validation'])\n",
        "plt.title('Training and Validation accuracy')\n",
        "plt.xlabel('epoch')\n",
        "plt.ylabel('accuracy')"
      ],
      "metadata": {
        "colab": {
          "base_uri": "https://localhost:8080/",
          "height": 313
        },
        "id": "e9WFgBlAocas",
        "outputId": "3c647856-a93c-486d-8e74-3204db2ff237"
      },
      "execution_count": 55,
      "outputs": [
        {
          "output_type": "execute_result",
          "data": {
            "text/plain": [
              "Text(0, 0.5, 'accuracy')"
            ]
          },
          "metadata": {},
          "execution_count": 55
        },
        {
          "output_type": "display_data",
          "data": {
            "text/plain": [
              "<Figure size 432x288 with 1 Axes>"
            ],
            "image/png": "[encoded data removed]"
          },
          "metadata": {
            "needs_background": "light"
          }
        }
      ]
    },
    {
      "cell_type": "code",
      "source": [
        "plt.plot(history.history['loss'])\n",
        "plt.plot(history.history['val_loss'])\n",
        "plt.legend(['Training', 'Validation'])\n",
        "plt.title('Training and Validation losses')\n",
        "plt.xlabel('epoch')\n",
        "plt.ylabel('loss')"
      ],
      "metadata": {
        "colab": {
          "base_uri": "https://localhost:8080/",
          "height": 313
        },
        "id": "6ts3lduT3_FG",
        "outputId": "c1af8c1d-3dc1-4643-d268-6855518b7524"
      },
      "execution_count": 56,
      "outputs": [
        {
          "output_type": "execute_result",
          "data": {
            "text/plain": [
              "Text(0, 0.5, 'loss')"
            ]
          },
          "metadata": {},
          "execution_count": 56
        },
        {
          "output_type": "display_data",
          "data": {
            "text/plain": [
              "<Figure size 432x288 with 1 Axes>"
            ],
            "image/png": "[encoded data removed]"
          },
          "metadata": {
            "needs_background": "light"
          }
        }
      ]
    },
    {
      "cell_type": "code",
      "source": [
        "from sklearn.metrics import confusion_matrix,classification_report\n",
        "import seaborn as sns\n",
        "\n",
        "Y_pred = inception.model.predict(x_test)\n",
        "Y_pred_classes = np.argmax(Y_pred,axis = 1) \n",
        "Y_true = np.argmax(y_test,axis = 1) \n",
        "\n",
        "confusion_mtx = confusion_matrix(Y_true, Y_pred_classes) \n",
        "\n",
        "f,ax = plt.subplots(figsize=(8, 8))\n",
        "sns.heatmap(confusion_mtx, annot=True, linewidths=0.01,cmap=\"Oranges\",linecolor=\"gray\", fmt= '.1f',ax=ax)\n",
        "plt.xlabel(\"Predicted Label\")\n",
        "plt.ylabel(\"True Label\")\n",
        "plt.title(\"Confusion Matrix\")\n",
        "plt.show()"
      ],
      "metadata": {
        "colab": {
          "base_uri": "https://localhost:8080/",
          "height": 531
        },
        "id": "P0NBOowM4Ysz",
        "outputId": "1da72ea1-1414-494b-c806-06057ba7f447"
      },
      "execution_count": 52,
      "outputs": [
        {
          "output_type": "stream",
          "name": "stdout",
          "text": [
            "174/174 [==============================] - 5s 16ms/step\n"
          ]
        },
        {
          "output_type": "display_data",
          "data": {
            "text/plain": [
              "<Figure size 576x576 with 2 Axes>"
            ],
            "image/png": "[encoded data removed]"
          },
          "metadata": {
            "needs_background": "light"
          }
        }
      ]
    },
    {
      "cell_type": "code",
      "source": [
        "print(classification_report(Y_true, Y_pred_classes))"
      ],
      "metadata": {
        "id": "1201RStv4oM_",
        "colab": {
          "base_uri": "https://localhost:8080/"
        },
        "outputId": "27d19728-7eb1-4a03-b692-6bdbb90d831a"
      },
      "execution_count": 53,
      "outputs": [
        {
          "output_type": "stream",
          "name": "stdout",
          "text": [
            "              precision    recall  f1-score   support\n",
            "\n",
            "           0       0.88      1.00      0.93      1400\n",
            "           1       0.99      0.80      0.89       600\n",
            "           2       0.97      0.96      0.96      1448\n",
            "           3       0.96      0.84      0.89       500\n",
            "           4       1.00      0.99      1.00      1608\n",
            "\n",
            "    accuracy                           0.95      5556\n",
            "   macro avg       0.96      0.92      0.93      5556\n",
            "weighted avg       0.95      0.95      0.95      5556\n",
            "\n"
          ]
        }
      ]
    }
  ],
  "metadata": {
    "accelerator": "GPU",
    "colab": {
      "provenance": [],
      "authorship_tag": "ABX9TyOZI/8IpM8Voo5XReoltLs3",
      "include_colab_link": true
    },
    "gpuClass": "standard",
    "kernelspec": {
      "display_name": "Python 3",
      "name": "python3"
    },
    "language_info": {
      "name": "python"
    }
  },
  "nbformat": 4,
  "nbformat_minor": 0
}
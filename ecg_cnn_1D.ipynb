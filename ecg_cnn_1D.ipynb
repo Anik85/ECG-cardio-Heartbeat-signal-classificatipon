{
  "cells": [
    {
      "cell_type": "markdown",
      "metadata": {
        "id": "view-in-github",
        "colab_type": "text"
      },
      "source": [
        "<a href=\"https://colab.research.google.com/github/Anik85/Anik85/blob/main/ecg_cnn_1D.ipynb\" target=\"_parent\"><img src=\"https://colab.research.google.com/assets/colab-badge.svg\" alt=\"Open In Colab\"/></a>"
      ]
    },
    {
      "cell_type": "code",
      "source": [
        "!mkdir -p ~/.kaggle\n",
        "!cp kaggle.json ~/.kaggle/"
      ],
      "metadata": {
        "id": "Ek5cdP0p1-WS"
      },
      "id": "Ek5cdP0p1-WS",
      "execution_count": 1,
      "outputs": []
    },
    {
      "cell_type": "code",
      "source": [
        "!kaggle datasets download -d shayanfazeli/heartbeat"
      ],
      "metadata": {
        "colab": {
          "base_uri": "https://localhost:8080/"
        },
        "id": "TIE1M_OR1-SE",
        "outputId": "be102653-1bec-4041-87df-a00a37392335"
      },
      "id": "TIE1M_OR1-SE",
      "execution_count": 2,
      "outputs": [
        {
          "output_type": "stream",
          "name": "stdout",
          "text": [
            "Warning: Your Kaggle API key is readable by other users on this system! To fix this, you can run 'chmod 600 /root/.kaggle/kaggle.json'\n",
            "Downloading heartbeat.zip to /content\n",
            " 98% 97.0M/98.8M [00:04<00:00, 31.4MB/s]\n",
            "100% 98.8M/98.8M [00:04<00:00, 25.0MB/s]\n"
          ]
        }
      ]
    },
    {
      "cell_type": "code",
      "source": [
        "import zipfile\n",
        "zip_ref=zipfile.ZipFile('/content/heartbeat.zip','r')\n",
        "zip_ref.extractall('/content')\n",
        "zip_ref.close()"
      ],
      "metadata": {
        "id": "Hi_f2JAI1-Nq"
      },
      "id": "Hi_f2JAI1-Nq",
      "execution_count": 3,
      "outputs": []
    },
    {
      "cell_type": "code",
      "execution_count": 4,
      "id": "c7b917c4",
      "metadata": {
        "id": "c7b917c4"
      },
      "outputs": [],
      "source": [
        "import os\n",
        "import numpy as np\n",
        "import pandas as pd\n",
        "import seaborn as sns\n",
        "import tensorflow as tf\n",
        "import matplotlib.pyplot as plt\n",
        "from sklearn.model_selection import train_test_split\n",
        "from keras.utils.np_utils import to_categorical\n",
        "from sklearn.utils import class_weight, resample\n",
        "from keras.layers import Conv1D, MaxPooling1D, Flatten, Dense, Dropout, BatchNormalization\n",
        "from keras.models import Sequential\n",
        "from keras.callbacks import EarlyStopping, ModelCheckpoint\n",
        "from sklearn.model_selection import train_test_split\n",
        "from sklearn.preprocessing import StandardScaler\n",
        "from keras.layers import Input,  Softmax, Add,  AveragePooling1D, ZeroPadding1D,Activation\n",
        "from keras import backend as K\n",
        "from keras.models import Model\n",
        "from keras.initializers import glorot_uniform"
      ]
    },
    {
      "cell_type": "code",
      "execution_count": 5,
      "id": "538ef6a3",
      "metadata": {
        "id": "538ef6a3"
      },
      "outputs": [],
      "source": [
        "train_df=pd.read_csv('/content/mitbih_train.csv',header=None)\n",
        "test_df=pd.read_csv('/content/mitbih_test.csv',header=None)"
      ]
    },
    {
      "cell_type": "code",
      "execution_count": 6,
      "id": "de5df0db",
      "metadata": {
        "colab": {
          "base_uri": "https://localhost:8080/",
          "height": 300
        },
        "id": "de5df0db",
        "outputId": "8ae36699-be6f-4ab0-c50c-2bbe64344a9f"
      },
      "outputs": [
        {
          "output_type": "execute_result",
          "data": {
            "text/plain": [
              "        0         1         2         3         4         5         6    \\\n",
              "0  0.977941  0.926471  0.681373  0.245098  0.154412  0.191176  0.151961   \n",
              "1  0.960114  0.863248  0.461538  0.196581  0.094017  0.125356  0.099715   \n",
              "2  1.000000  0.659459  0.186486  0.070270  0.070270  0.059459  0.056757   \n",
              "3  0.925414  0.665746  0.541436  0.276243  0.196133  0.077348  0.071823   \n",
              "4  0.967136  1.000000  0.830986  0.586854  0.356808  0.248826  0.145540   \n",
              "\n",
              "        7         8         9    ...  178  179  180  181  182  183  184  185  \\\n",
              "0  0.085784  0.058824  0.049020  ...  0.0  0.0  0.0  0.0  0.0  0.0  0.0  0.0   \n",
              "1  0.088319  0.074074  0.082621  ...  0.0  0.0  0.0  0.0  0.0  0.0  0.0  0.0   \n",
              "2  0.043243  0.054054  0.045946  ...  0.0  0.0  0.0  0.0  0.0  0.0  0.0  0.0   \n",
              "3  0.060773  0.066298  0.058011  ...  0.0  0.0  0.0  0.0  0.0  0.0  0.0  0.0   \n",
              "4  0.089202  0.117371  0.150235  ...  0.0  0.0  0.0  0.0  0.0  0.0  0.0  0.0   \n",
              "\n",
              "   186  187  \n",
              "0  0.0  0.0  \n",
              "1  0.0  0.0  \n",
              "2  0.0  0.0  \n",
              "3  0.0  0.0  \n",
              "4  0.0  0.0  \n",
              "\n",
              "[5 rows x 188 columns]"
            ],
            "text/html": [
              "\n",
              "  <div id=\"df-1ec6d21e-88ac-4c30-ad7d-4eb6a551a76f\">\n",
              "    <div class=\"colab-df-container\">\n",
              "      <div>\n",
              "<style scoped>\n",
              "    .dataframe tbody tr th:only-of-type {\n",
              "        vertical-align: middle;\n",
              "    }\n",
              "\n",
              "    .dataframe tbody tr th {\n",
              "        vertical-align: top;\n",
              "    }\n",
              "\n",
              "    .dataframe thead th {\n",
              "        text-align: right;\n",
              "    }\n",
              "</style>\n",
              "<table border=\"1\" class=\"dataframe\">\n",
              "  <thead>\n",
              "    <tr style=\"text-align: right;\">\n",
              "      <th></th>\n",
              "      <th>0</th>\n",
              "      <th>1</th>\n",
              "      <th>2</th>\n",
              "      <th>3</th>\n",
              "      <th>4</th>\n",
              "      <th>5</th>\n",
              "      <th>6</th>\n",
              "      <th>7</th>\n",
              "      <th>8</th>\n",
              "      <th>9</th>\n",
              "      <th>...</th>\n",
              "      <th>178</th>\n",
              "      <th>179</th>\n",
              "      <th>180</th>\n",
              "      <th>181</th>\n",
              "      <th>182</th>\n",
              "      <th>183</th>\n",
              "      <th>184</th>\n",
              "      <th>185</th>\n",
              "      <th>186</th>\n",
              "      <th>187</th>\n",
              "    </tr>\n",
              "  </thead>\n",
              "  <tbody>\n",
              "    <tr>\n",
              "      <th>0</th>\n",
              "      <td>0.977941</td>\n",
              "      <td>0.926471</td>\n",
              "      <td>0.681373</td>\n",
              "      <td>0.245098</td>\n",
              "      <td>0.154412</td>\n",
              "      <td>0.191176</td>\n",
              "      <td>0.151961</td>\n",
              "      <td>0.085784</td>\n",
              "      <td>0.058824</td>\n",
              "      <td>0.049020</td>\n",
              "      <td>...</td>\n",
              "      <td>0.0</td>\n",
              "      <td>0.0</td>\n",
              "      <td>0.0</td>\n",
              "      <td>0.0</td>\n",
              "      <td>0.0</td>\n",
              "      <td>0.0</td>\n",
              "      <td>0.0</td>\n",
              "      <td>0.0</td>\n",
              "      <td>0.0</td>\n",
              "      <td>0.0</td>\n",
              "    </tr>\n",
              "    <tr>\n",
              "      <th>1</th>\n",
              "      <td>0.960114</td>\n",
              "      <td>0.863248</td>\n",
              "      <td>0.461538</td>\n",
              "      <td>0.196581</td>\n",
              "      <td>0.094017</td>\n",
              "      <td>0.125356</td>\n",
              "      <td>0.099715</td>\n",
              "      <td>0.088319</td>\n",
              "      <td>0.074074</td>\n",
              "      <td>0.082621</td>\n",
              "      <td>...</td>\n",
              "      <td>0.0</td>\n",
              "      <td>0.0</td>\n",
              "      <td>0.0</td>\n",
              "      <td>0.0</td>\n",
              "      <td>0.0</td>\n",
              "      <td>0.0</td>\n",
              "      <td>0.0</td>\n",
              "      <td>0.0</td>\n",
              "      <td>0.0</td>\n",
              "      <td>0.0</td>\n",
              "    </tr>\n",
              "    <tr>\n",
              "      <th>2</th>\n",
              "      <td>1.000000</td>\n",
              "      <td>0.659459</td>\n",
              "      <td>0.186486</td>\n",
              "      <td>0.070270</td>\n",
              "      <td>0.070270</td>\n",
              "      <td>0.059459</td>\n",
              "      <td>0.056757</td>\n",
              "      <td>0.043243</td>\n",
              "      <td>0.054054</td>\n",
              "      <td>0.045946</td>\n",
              "      <td>...</td>\n",
              "      <td>0.0</td>\n",
              "      <td>0.0</td>\n",
              "      <td>0.0</td>\n",
              "      <td>0.0</td>\n",
              "      <td>0.0</td>\n",
              "      <td>0.0</td>\n",
              "      <td>0.0</td>\n",
              "      <td>0.0</td>\n",
              "      <td>0.0</td>\n",
              "      <td>0.0</td>\n",
              "    </tr>\n",
              "    <tr>\n",
              "      <th>3</th>\n",
              "      <td>0.925414</td>\n",
              "      <td>0.665746</td>\n",
              "      <td>0.541436</td>\n",
              "      <td>0.276243</td>\n",
              "      <td>0.196133</td>\n",
              "      <td>0.077348</td>\n",
              "      <td>0.071823</td>\n",
              "      <td>0.060773</td>\n",
              "      <td>0.066298</td>\n",
              "      <td>0.058011</td>\n",
              "      <td>...</td>\n",
              "      <td>0.0</td>\n",
              "      <td>0.0</td>\n",
              "      <td>0.0</td>\n",
              "      <td>0.0</td>\n",
              "      <td>0.0</td>\n",
              "      <td>0.0</td>\n",
              "      <td>0.0</td>\n",
              "      <td>0.0</td>\n",
              "      <td>0.0</td>\n",
              "      <td>0.0</td>\n",
              "    </tr>\n",
              "    <tr>\n",
              "      <th>4</th>\n",
              "      <td>0.967136</td>\n",
              "      <td>1.000000</td>\n",
              "      <td>0.830986</td>\n",
              "      <td>0.586854</td>\n",
              "      <td>0.356808</td>\n",
              "      <td>0.248826</td>\n",
              "      <td>0.145540</td>\n",
              "      <td>0.089202</td>\n",
              "      <td>0.117371</td>\n",
              "      <td>0.150235</td>\n",
              "      <td>...</td>\n",
              "      <td>0.0</td>\n",
              "      <td>0.0</td>\n",
              "      <td>0.0</td>\n",
              "      <td>0.0</td>\n",
              "      <td>0.0</td>\n",
              "      <td>0.0</td>\n",
              "      <td>0.0</td>\n",
              "      <td>0.0</td>\n",
              "      <td>0.0</td>\n",
              "      <td>0.0</td>\n",
              "    </tr>\n",
              "  </tbody>\n",
              "</table>\n",
              "<p>5 rows × 188 columns</p>\n",
              "</div>\n",
              "      <button class=\"colab-df-convert\" onclick=\"convertToInteractive('df-1ec6d21e-88ac-4c30-ad7d-4eb6a551a76f')\"\n",
              "              title=\"Convert this dataframe to an interactive table.\"\n",
              "              style=\"display:none;\">\n",
              "        \n",
              "  <svg xmlns=\"http://www.w3.org/2000/svg\" height=\"24px\"viewBox=\"0 0 24 24\"\n",
              "       width=\"24px\">\n",
              "    <path d=\"M0 0h24v24H0V0z\" fill=\"none\"/>\n",
              "    <path d=\"M18.56 5.44l.94 2.06.94-2.06 2.06-.94-2.06-.94-.94-2.06-.94 2.06-2.06.94zm-11 1L8.5 8.5l.94-2.06 2.06-.94-2.06-.94L8.5 2.5l-.94 2.06-2.06.94zm10 10l.94 2.06.94-2.06 2.06-.94-2.06-.94-.94-2.06-.94 2.06-2.06.94z\"/><path d=\"M17.41 7.96l-1.37-1.37c-.4-.4-.92-.59-1.43-.59-.52 0-1.04.2-1.43.59L10.3 9.45l-7.72 7.72c-.78.78-.78 2.05 0 2.83L4 21.41c.39.39.9.59 1.41.59.51 0 1.02-.2 1.41-.59l7.78-7.78 2.81-2.81c.8-.78.8-2.07 0-2.86zM5.41 20L4 18.59l7.72-7.72 1.47 1.35L5.41 20z\"/>\n",
              "  </svg>\n",
              "      </button>\n",
              "      \n",
              "  <style>\n",
              "    .colab-df-container {\n",
              "      display:flex;\n",
              "      flex-wrap:wrap;\n",
              "      gap: 12px;\n",
              "    }\n",
              "\n",
              "    .colab-df-convert {\n",
              "      background-color: #E8F0FE;\n",
              "      border: none;\n",
              "      border-radius: 50%;\n",
              "      cursor: pointer;\n",
              "      display: none;\n",
              "      fill: #1967D2;\n",
              "      height: 32px;\n",
              "      padding: 0 0 0 0;\n",
              "      width: 32px;\n",
              "    }\n",
              "\n",
              "    .colab-df-convert:hover {\n",
              "      background-color: #E2EBFA;\n",
              "      box-shadow: 0px 1px 2px rgba(60, 64, 67, 0.3), 0px 1px 3px 1px rgba(60, 64, 67, 0.15);\n",
              "      fill: #174EA6;\n",
              "    }\n",
              "\n",
              "    [theme=dark] .colab-df-convert {\n",
              "      background-color: #3B4455;\n",
              "      fill: #D2E3FC;\n",
              "    }\n",
              "\n",
              "    [theme=dark] .colab-df-convert:hover {\n",
              "      background-color: #434B5C;\n",
              "      box-shadow: 0px 1px 3px 1px rgba(0, 0, 0, 0.15);\n",
              "      filter: drop-shadow(0px 1px 2px rgba(0, 0, 0, 0.3));\n",
              "      fill: #FFFFFF;\n",
              "    }\n",
              "  </style>\n",
              "\n",
              "      <script>\n",
              "        const buttonEl =\n",
              "          document.querySelector('#df-1ec6d21e-88ac-4c30-ad7d-4eb6a551a76f button.colab-df-convert');\n",
              "        buttonEl.style.display =\n",
              "          google.colab.kernel.accessAllowed ? 'block' : 'none';\n",
              "\n",
              "        async function convertToInteractive(key) {\n",
              "          const element = document.querySelector('#df-1ec6d21e-88ac-4c30-ad7d-4eb6a551a76f');\n",
              "          const dataTable =\n",
              "            await google.colab.kernel.invokeFunction('convertToInteractive',\n",
              "                                                     [key], {});\n",
              "          if (!dataTable) return;\n",
              "\n",
              "          const docLinkHtml = 'Like what you see? Visit the ' +\n",
              "            '<a target=\"_blank\" href=https://colab.research.google.com/notebooks/data_table.ipynb>data table notebook</a>'\n",
              "            + ' to learn more about interactive tables.';\n",
              "          element.innerHTML = '';\n",
              "          dataTable['output_type'] = 'display_data';\n",
              "          await google.colab.output.renderOutput(dataTable, element);\n",
              "          const docLink = document.createElement('div');\n",
              "          docLink.innerHTML = docLinkHtml;\n",
              "          element.appendChild(docLink);\n",
              "        }\n",
              "      </script>\n",
              "    </div>\n",
              "  </div>\n",
              "  "
            ]
          },
          "metadata": {},
          "execution_count": 6
        }
      ],
      "source": [
        "train_df.head()"
      ]
    },
    {
      "cell_type": "code",
      "execution_count": 7,
      "id": "7b54faec",
      "metadata": {
        "colab": {
          "base_uri": "https://localhost:8080/"
        },
        "id": "7b54faec",
        "outputId": "cc8a5732-82ae-43e3-d7d3-9bd2ba123b93"
      },
      "outputs": [
        {
          "output_type": "execute_result",
          "data": {
            "text/plain": [
              "(87554, 188)"
            ]
          },
          "metadata": {},
          "execution_count": 7
        }
      ],
      "source": [
        "train_df.shape"
      ]
    },
    {
      "cell_type": "code",
      "execution_count": 8,
      "id": "3cf07ca8",
      "metadata": {
        "colab": {
          "base_uri": "https://localhost:8080/",
          "height": 300
        },
        "id": "3cf07ca8",
        "outputId": "472c7069-92ce-413d-9e64-c315e806cd7c"
      },
      "outputs": [
        {
          "output_type": "execute_result",
          "data": {
            "text/plain": [
              "        0         1         2         3         4         5         6    \\\n",
              "0  1.000000  0.758264  0.111570  0.000000  0.080579  0.078512  0.066116   \n",
              "1  0.908425  0.783883  0.531136  0.362637  0.366300  0.344322  0.333333   \n",
              "2  0.730088  0.212389  0.000000  0.119469  0.101770  0.101770  0.110619   \n",
              "3  1.000000  0.910417  0.681250  0.472917  0.229167  0.068750  0.000000   \n",
              "4  0.570470  0.399329  0.238255  0.147651  0.000000  0.003356  0.040268   \n",
              "\n",
              "        7         8         9    ...  178  179  180  181  182  183  184  185  \\\n",
              "0  0.049587  0.047521  0.035124  ...  0.0  0.0  0.0  0.0  0.0  0.0  0.0  0.0   \n",
              "1  0.307692  0.296703  0.300366  ...  0.0  0.0  0.0  0.0  0.0  0.0  0.0  0.0   \n",
              "2  0.123894  0.115044  0.132743  ...  0.0  0.0  0.0  0.0  0.0  0.0  0.0  0.0   \n",
              "3  0.004167  0.014583  0.054167  ...  0.0  0.0  0.0  0.0  0.0  0.0  0.0  0.0   \n",
              "4  0.080537  0.070470  0.090604  ...  0.0  0.0  0.0  0.0  0.0  0.0  0.0  0.0   \n",
              "\n",
              "   186  187  \n",
              "0  0.0  0.0  \n",
              "1  0.0  0.0  \n",
              "2  0.0  0.0  \n",
              "3  0.0  0.0  \n",
              "4  0.0  0.0  \n",
              "\n",
              "[5 rows x 188 columns]"
            ],
            "text/html": [
              "\n",
              "  <div id=\"df-0ae290fa-b89f-4579-b4fa-4710ec09db50\">\n",
              "    <div class=\"colab-df-container\">\n",
              "      <div>\n",
              "<style scoped>\n",
              "    .dataframe tbody tr th:only-of-type {\n",
              "        vertical-align: middle;\n",
              "    }\n",
              "\n",
              "    .dataframe tbody tr th {\n",
              "        vertical-align: top;\n",
              "    }\n",
              "\n",
              "    .dataframe thead th {\n",
              "        text-align: right;\n",
              "    }\n",
              "</style>\n",
              "<table border=\"1\" class=\"dataframe\">\n",
              "  <thead>\n",
              "    <tr style=\"text-align: right;\">\n",
              "      <th></th>\n",
              "      <th>0</th>\n",
              "      <th>1</th>\n",
              "      <th>2</th>\n",
              "      <th>3</th>\n",
              "      <th>4</th>\n",
              "      <th>5</th>\n",
              "      <th>6</th>\n",
              "      <th>7</th>\n",
              "      <th>8</th>\n",
              "      <th>9</th>\n",
              "      <th>...</th>\n",
              "      <th>178</th>\n",
              "      <th>179</th>\n",
              "      <th>180</th>\n",
              "      <th>181</th>\n",
              "      <th>182</th>\n",
              "      <th>183</th>\n",
              "      <th>184</th>\n",
              "      <th>185</th>\n",
              "      <th>186</th>\n",
              "      <th>187</th>\n",
              "    </tr>\n",
              "  </thead>\n",
              "  <tbody>\n",
              "    <tr>\n",
              "      <th>0</th>\n",
              "      <td>1.000000</td>\n",
              "      <td>0.758264</td>\n",
              "      <td>0.111570</td>\n",
              "      <td>0.000000</td>\n",
              "      <td>0.080579</td>\n",
              "      <td>0.078512</td>\n",
              "      <td>0.066116</td>\n",
              "      <td>0.049587</td>\n",
              "      <td>0.047521</td>\n",
              "      <td>0.035124</td>\n",
              "      <td>...</td>\n",
              "      <td>0.0</td>\n",
              "      <td>0.0</td>\n",
              "      <td>0.0</td>\n",
              "      <td>0.0</td>\n",
              "      <td>0.0</td>\n",
              "      <td>0.0</td>\n",
              "      <td>0.0</td>\n",
              "      <td>0.0</td>\n",
              "      <td>0.0</td>\n",
              "      <td>0.0</td>\n",
              "    </tr>\n",
              "    <tr>\n",
              "      <th>1</th>\n",
              "      <td>0.908425</td>\n",
              "      <td>0.783883</td>\n",
              "      <td>0.531136</td>\n",
              "      <td>0.362637</td>\n",
              "      <td>0.366300</td>\n",
              "      <td>0.344322</td>\n",
              "      <td>0.333333</td>\n",
              "      <td>0.307692</td>\n",
              "      <td>0.296703</td>\n",
              "      <td>0.300366</td>\n",
              "      <td>...</td>\n",
              "      <td>0.0</td>\n",
              "      <td>0.0</td>\n",
              "      <td>0.0</td>\n",
              "      <td>0.0</td>\n",
              "      <td>0.0</td>\n",
              "      <td>0.0</td>\n",
              "      <td>0.0</td>\n",
              "      <td>0.0</td>\n",
              "      <td>0.0</td>\n",
              "      <td>0.0</td>\n",
              "    </tr>\n",
              "    <tr>\n",
              "      <th>2</th>\n",
              "      <td>0.730088</td>\n",
              "      <td>0.212389</td>\n",
              "      <td>0.000000</td>\n",
              "      <td>0.119469</td>\n",
              "      <td>0.101770</td>\n",
              "      <td>0.101770</td>\n",
              "      <td>0.110619</td>\n",
              "      <td>0.123894</td>\n",
              "      <td>0.115044</td>\n",
              "      <td>0.132743</td>\n",
              "      <td>...</td>\n",
              "      <td>0.0</td>\n",
              "      <td>0.0</td>\n",
              "      <td>0.0</td>\n",
              "      <td>0.0</td>\n",
              "      <td>0.0</td>\n",
              "      <td>0.0</td>\n",
              "      <td>0.0</td>\n",
              "      <td>0.0</td>\n",
              "      <td>0.0</td>\n",
              "      <td>0.0</td>\n",
              "    </tr>\n",
              "    <tr>\n",
              "      <th>3</th>\n",
              "      <td>1.000000</td>\n",
              "      <td>0.910417</td>\n",
              "      <td>0.681250</td>\n",
              "      <td>0.472917</td>\n",
              "      <td>0.229167</td>\n",
              "      <td>0.068750</td>\n",
              "      <td>0.000000</td>\n",
              "      <td>0.004167</td>\n",
              "      <td>0.014583</td>\n",
              "      <td>0.054167</td>\n",
              "      <td>...</td>\n",
              "      <td>0.0</td>\n",
              "      <td>0.0</td>\n",
              "      <td>0.0</td>\n",
              "      <td>0.0</td>\n",
              "      <td>0.0</td>\n",
              "      <td>0.0</td>\n",
              "      <td>0.0</td>\n",
              "      <td>0.0</td>\n",
              "      <td>0.0</td>\n",
              "      <td>0.0</td>\n",
              "    </tr>\n",
              "    <tr>\n",
              "      <th>4</th>\n",
              "      <td>0.570470</td>\n",
              "      <td>0.399329</td>\n",
              "      <td>0.238255</td>\n",
              "      <td>0.147651</td>\n",
              "      <td>0.000000</td>\n",
              "      <td>0.003356</td>\n",
              "      <td>0.040268</td>\n",
              "      <td>0.080537</td>\n",
              "      <td>0.070470</td>\n",
              "      <td>0.090604</td>\n",
              "      <td>...</td>\n",
              "      <td>0.0</td>\n",
              "      <td>0.0</td>\n",
              "      <td>0.0</td>\n",
              "      <td>0.0</td>\n",
              "      <td>0.0</td>\n",
              "      <td>0.0</td>\n",
              "      <td>0.0</td>\n",
              "      <td>0.0</td>\n",
              "      <td>0.0</td>\n",
              "      <td>0.0</td>\n",
              "    </tr>\n",
              "  </tbody>\n",
              "</table>\n",
              "<p>5 rows × 188 columns</p>\n",
              "</div>\n",
              "      <button class=\"colab-df-convert\" onclick=\"convertToInteractive('df-0ae290fa-b89f-4579-b4fa-4710ec09db50')\"\n",
              "              title=\"Convert this dataframe to an interactive table.\"\n",
              "              style=\"display:none;\">\n",
              "        \n",
              "  <svg xmlns=\"http://www.w3.org/2000/svg\" height=\"24px\"viewBox=\"0 0 24 24\"\n",
              "       width=\"24px\">\n",
              "    <path d=\"M0 0h24v24H0V0z\" fill=\"none\"/>\n",
              "    <path d=\"M18.56 5.44l.94 2.06.94-2.06 2.06-.94-2.06-.94-.94-2.06-.94 2.06-2.06.94zm-11 1L8.5 8.5l.94-2.06 2.06-.94-2.06-.94L8.5 2.5l-.94 2.06-2.06.94zm10 10l.94 2.06.94-2.06 2.06-.94-2.06-.94-.94-2.06-.94 2.06-2.06.94z\"/><path d=\"M17.41 7.96l-1.37-1.37c-.4-.4-.92-.59-1.43-.59-.52 0-1.04.2-1.43.59L10.3 9.45l-7.72 7.72c-.78.78-.78 2.05 0 2.83L4 21.41c.39.39.9.59 1.41.59.51 0 1.02-.2 1.41-.59l7.78-7.78 2.81-2.81c.8-.78.8-2.07 0-2.86zM5.41 20L4 18.59l7.72-7.72 1.47 1.35L5.41 20z\"/>\n",
              "  </svg>\n",
              "      </button>\n",
              "      \n",
              "  <style>\n",
              "    .colab-df-container {\n",
              "      display:flex;\n",
              "      flex-wrap:wrap;\n",
              "      gap: 12px;\n",
              "    }\n",
              "\n",
              "    .colab-df-convert {\n",
              "      background-color: #E8F0FE;\n",
              "      border: none;\n",
              "      border-radius: 50%;\n",
              "      cursor: pointer;\n",
              "      display: none;\n",
              "      fill: #1967D2;\n",
              "      height: 32px;\n",
              "      padding: 0 0 0 0;\n",
              "      width: 32px;\n",
              "    }\n",
              "\n",
              "    .colab-df-convert:hover {\n",
              "      background-color: #E2EBFA;\n",
              "      box-shadow: 0px 1px 2px rgba(60, 64, 67, 0.3), 0px 1px 3px 1px rgba(60, 64, 67, 0.15);\n",
              "      fill: #174EA6;\n",
              "    }\n",
              "\n",
              "    [theme=dark] .colab-df-convert {\n",
              "      background-color: #3B4455;\n",
              "      fill: #D2E3FC;\n",
              "    }\n",
              "\n",
              "    [theme=dark] .colab-df-convert:hover {\n",
              "      background-color: #434B5C;\n",
              "      box-shadow: 0px 1px 3px 1px rgba(0, 0, 0, 0.15);\n",
              "      filter: drop-shadow(0px 1px 2px rgba(0, 0, 0, 0.3));\n",
              "      fill: #FFFFFF;\n",
              "    }\n",
              "  </style>\n",
              "\n",
              "      <script>\n",
              "        const buttonEl =\n",
              "          document.querySelector('#df-0ae290fa-b89f-4579-b4fa-4710ec09db50 button.colab-df-convert');\n",
              "        buttonEl.style.display =\n",
              "          google.colab.kernel.accessAllowed ? 'block' : 'none';\n",
              "\n",
              "        async function convertToInteractive(key) {\n",
              "          const element = document.querySelector('#df-0ae290fa-b89f-4579-b4fa-4710ec09db50');\n",
              "          const dataTable =\n",
              "            await google.colab.kernel.invokeFunction('convertToInteractive',\n",
              "                                                     [key], {});\n",
              "          if (!dataTable) return;\n",
              "\n",
              "          const docLinkHtml = 'Like what you see? Visit the ' +\n",
              "            '<a target=\"_blank\" href=https://colab.research.google.com/notebooks/data_table.ipynb>data table notebook</a>'\n",
              "            + ' to learn more about interactive tables.';\n",
              "          element.innerHTML = '';\n",
              "          dataTable['output_type'] = 'display_data';\n",
              "          await google.colab.output.renderOutput(dataTable, element);\n",
              "          const docLink = document.createElement('div');\n",
              "          docLink.innerHTML = docLinkHtml;\n",
              "          element.appendChild(docLink);\n",
              "        }\n",
              "      </script>\n",
              "    </div>\n",
              "  </div>\n",
              "  "
            ]
          },
          "metadata": {},
          "execution_count": 8
        }
      ],
      "source": [
        "test_df.head()"
      ]
    },
    {
      "cell_type": "code",
      "execution_count": 9,
      "id": "402fde27",
      "metadata": {
        "colab": {
          "base_uri": "https://localhost:8080/"
        },
        "id": "402fde27",
        "outputId": "8e7568dd-639d-497e-81d3-f0e2b0e56de9"
      },
      "outputs": [
        {
          "output_type": "execute_result",
          "data": {
            "text/plain": [
              "(21892, 188)"
            ]
          },
          "metadata": {},
          "execution_count": 9
        }
      ],
      "source": [
        "test_df.shape"
      ]
    },
    {
      "cell_type": "code",
      "execution_count": 10,
      "id": "26265d8c",
      "metadata": {
        "colab": {
          "base_uri": "https://localhost:8080/"
        },
        "id": "26265d8c",
        "outputId": "4983e3e9-e56b-43f5-f043-eb7b84bc4309"
      },
      "outputs": [
        {
          "output_type": "execute_result",
          "data": {
            "text/plain": [
              "0      0\n",
              "1      0\n",
              "2      0\n",
              "3      0\n",
              "4      0\n",
              "      ..\n",
              "183    0\n",
              "184    0\n",
              "185    0\n",
              "186    0\n",
              "187    0\n",
              "Length: 188, dtype: int64"
            ]
          },
          "metadata": {},
          "execution_count": 10
        }
      ],
      "source": [
        "train_df.isnull().sum()"
      ]
    },
    {
      "cell_type": "code",
      "execution_count": 11,
      "id": "df6f202b",
      "metadata": {
        "colab": {
          "base_uri": "https://localhost:8080/"
        },
        "id": "df6f202b",
        "outputId": "9e301517-90c9-42b6-f234-a08e05ab1ddf"
      },
      "outputs": [
        {
          "output_type": "stream",
          "name": "stdout",
          "text": [
            "0.0    72471\n",
            "4.0     6431\n",
            "2.0     5788\n",
            "1.0     2223\n",
            "3.0      641\n",
            "Name: 187, dtype: int64\n"
          ]
        }
      ],
      "source": [
        "print(train_df[187].value_counts())"
      ]
    },
    {
      "cell_type": "code",
      "execution_count": 12,
      "id": "4c3a3eb5",
      "metadata": {
        "colab": {
          "base_uri": "https://localhost:8080/",
          "height": 297
        },
        "id": "4c3a3eb5",
        "outputId": "b4dd436e-e890-40fa-f67e-2a7d969d8e45"
      },
      "outputs": [
        {
          "output_type": "execute_result",
          "data": {
            "text/plain": [
              "<matplotlib.axes._subplots.AxesSubplot at 0x7fa8dfae1d00>"
            ]
          },
          "metadata": {},
          "execution_count": 12
        },
        {
          "output_type": "display_data",
          "data": {
            "text/plain": [
              "<Figure size 432x288 with 1 Axes>"
            ],
            "image/png": "[encoded data removed]"
          },
          "metadata": {
            "needs_background": "light"
          }
        }
      ],
      "source": [
        "sns.countplot(x=187, data = train_df) "
      ]
    },
    {
      "cell_type": "code",
      "execution_count": 13,
      "id": "eb11f90e",
      "metadata": {
        "colab": {
          "base_uri": "https://localhost:8080/",
          "height": 411
        },
        "id": "eb11f90e",
        "outputId": "e79b8c78-733d-45f3-e2e4-49a28734c472"
      },
      "outputs": [
        {
          "output_type": "display_data",
          "data": {
            "text/plain": [
              "<Figure size 504x504 with 1 Axes>"
            ],
            "image/png": "[encoded data removed]"
          },
          "metadata": {}
        }
      ],
      "source": [
        "plt.figure(figsize=(7,7))\n",
        "explode = (0, 0.2,0.2,0.2,0.2)\n",
        "plt.pie(train_df[187].value_counts(), labels=['N','Q','V','S','F'], autopct='%1.1f%%', explode=explode)\n",
        "plt.show()"
      ]
    },
    {
      "cell_type": "code",
      "execution_count": 14,
      "id": "7760ce81",
      "metadata": {
        "colab": {
          "base_uri": "https://localhost:8080/"
        },
        "id": "7760ce81",
        "outputId": "c19e0f83-9b8c-4cf2-e3c0-88c1f22c4c24"
      },
      "outputs": [
        {
          "output_type": "stream",
          "name": "stdout",
          "text": [
            "(87554, 187)\n",
            "(87554,)\n"
          ]
        }
      ],
      "source": [
        "x = train_df.drop(187,axis=1)\n",
        "y = train_df[187].astype('int64')\n",
        "print(x.shape)\n",
        "print(y.shape)"
      ]
    },
    {
      "cell_type": "code",
      "execution_count": 15,
      "id": "f9bcdd9d",
      "metadata": {
        "id": "f9bcdd9d"
      },
      "outputs": [],
      "source": [
        "x_train,x_val,y_train,y_val = train_test_split(x,y.values,random_state=42,stratify=y.values,shuffle=True,train_size=0.75)"
      ]
    },
    {
      "cell_type": "code",
      "execution_count": 16,
      "id": "2065b7c1",
      "metadata": {
        "colab": {
          "base_uri": "https://localhost:8080/"
        },
        "id": "2065b7c1",
        "outputId": "cdacce0e-0fb3-4b78-e804-b34b92df6549"
      },
      "outputs": [
        {
          "output_type": "stream",
          "name": "stdout",
          "text": [
            "The shape of training data :  (65665, 187) (65665,)\n",
            "The shape of validation data :  (21889, 187) (21889,)\n"
          ]
        }
      ],
      "source": [
        "print(\"The shape of training data : \",x_train.shape,y_train.shape)\n",
        "print(\"The shape of validation data : \",x_val.shape,y_val.shape)"
      ]
    },
    {
      "cell_type": "code",
      "execution_count": 17,
      "id": "dced7aa3",
      "metadata": {
        "id": "dced7aa3"
      },
      "outputs": [],
      "source": [
        "scaler = StandardScaler().fit(x_train)\n",
        "x_train = scaler.transform(x_train)\n",
        "\n",
        "x_val = scaler.transform(x_val)"
      ]
    },
    {
      "cell_type": "code",
      "execution_count": 18,
      "id": "f81d5de4",
      "metadata": {
        "id": "f81d5de4"
      },
      "outputs": [],
      "source": [
        "y_train = tf.keras.utils.to_categorical(y_train)\n",
        "y_val = tf.keras.utils.to_categorical(y_val)\n"
      ]
    },
    {
      "cell_type": "code",
      "execution_count": 19,
      "id": "0b888958",
      "metadata": {
        "colab": {
          "base_uri": "https://localhost:8080/"
        },
        "id": "0b888958",
        "outputId": "95cd35fa-0bbf-4d6e-dd29-502faca975f8"
      },
      "outputs": [
        {
          "output_type": "stream",
          "name": "stdout",
          "text": [
            "The shape of training data :  (65665, 187, 1) (65665, 5)\n",
            "The shape of validation data :  (21889, 187, 1) (21889, 5)\n"
          ]
        }
      ],
      "source": [
        "x_train = np.expand_dims(x_train, 2)\n",
        "x_val = np.expand_dims(x_val, 2)\n",
        "\n",
        "print(\"The shape of training data : \",x_train.shape,y_train.shape)\n",
        "print(\"The shape of validation data : \",x_val.shape,y_val.shape)\n"
      ]
    },
    {
      "cell_type": "code",
      "execution_count": 20,
      "id": "e39e82be",
      "metadata": {
        "id": "e39e82be"
      },
      "outputs": [],
      "source": [
        "cnn = Sequential()\n",
        "cnn.add(Conv1D(128,3,input_shape=(x_train.shape[1],1), activation='relu'))\n",
        "cnn.add(BatchNormalization())\n",
        "cnn.add(MaxPooling1D(pool_size=2))\n",
        "cnn.add(Conv1D(64,3, activation='relu'))\n",
        "cnn.add(BatchNormalization())\n",
        "cnn.add(MaxPooling1D(pool_size=2))\n",
        "cnn.add(Conv1D(64,2, activation='relu'))\n",
        "cnn.add(BatchNormalization())\n",
        "cnn.add(MaxPooling1D(pool_size=2))\n",
        "cnn.add(Conv1D(64,2, activation='relu'))\n",
        "cnn.add(Flatten())\n",
        "cnn.add(Dense(128, activation='relu'))\n",
        "cnn.add(Dropout(0.5))\n",
        "cnn.add(Dense(64, activation='relu'))\n",
        "cnn.add(Dense(5, activation='softmax'))"
      ]
    },
    {
      "cell_type": "code",
      "execution_count": 21,
      "id": "e36e8a4d",
      "metadata": {
        "colab": {
          "base_uri": "https://localhost:8080/"
        },
        "id": "e36e8a4d",
        "outputId": "8e055cf9-c938-4c5d-eca5-9f36ae651353"
      },
      "outputs": [
        {
          "output_type": "stream",
          "name": "stdout",
          "text": [
            "Model: \"sequential\"\n",
            "_________________________________________________________________\n",
            " Layer (type)                Output Shape              Param #   \n",
            "=================================================================\n",
            " conv1d (Conv1D)             (None, 185, 128)          512       \n",
            "                                                                 \n",
            " batch_normalization (BatchN  (None, 185, 128)         512       \n",
            " ormalization)                                                   \n",
            "                                                                 \n",
            " max_pooling1d (MaxPooling1D  (None, 92, 128)          0         \n",
            " )                                                               \n",
            "                                                                 \n",
            " conv1d_1 (Conv1D)           (None, 90, 64)            24640     \n",
            "                                                                 \n",
            " batch_normalization_1 (Batc  (None, 90, 64)           256       \n",
            " hNormalization)                                                 \n",
            "                                                                 \n",
            " max_pooling1d_1 (MaxPooling  (None, 45, 64)           0         \n",
            " 1D)                                                             \n",
            "                                                                 \n",
            " conv1d_2 (Conv1D)           (None, 44, 64)            8256      \n",
            "                                                                 \n",
            " batch_normalization_2 (Batc  (None, 44, 64)           256       \n",
            " hNormalization)                                                 \n",
            "                                                                 \n",
            " max_pooling1d_2 (MaxPooling  (None, 22, 64)           0         \n",
            " 1D)                                                             \n",
            "                                                                 \n",
            " conv1d_3 (Conv1D)           (None, 21, 64)            8256      \n",
            "                                                                 \n",
            " flatten (Flatten)           (None, 1344)              0         \n",
            "                                                                 \n",
            " dense (Dense)               (None, 128)               172160    \n",
            "                                                                 \n",
            " dropout (Dropout)           (None, 128)               0         \n",
            "                                                                 \n",
            " dense_1 (Dense)             (None, 64)                8256      \n",
            "                                                                 \n",
            " dense_2 (Dense)             (None, 5)                 325       \n",
            "                                                                 \n",
            "=================================================================\n",
            "Total params: 223,429\n",
            "Trainable params: 222,917\n",
            "Non-trainable params: 512\n",
            "_________________________________________________________________\n"
          ]
        }
      ],
      "source": [
        "cnn.summary()"
      ]
    },
    {
      "cell_type": "code",
      "execution_count": 22,
      "id": "8e9ec5c7",
      "metadata": {
        "id": "8e9ec5c7"
      },
      "outputs": [],
      "source": [
        "callbacks = [EarlyStopping(monitor='val_loss', patience=8), ModelCheckpoint(filepath='best_weights.h5', monitor='val_loss', save_best_only=True)]"
      ]
    },
    {
      "cell_type": "code",
      "execution_count": 23,
      "id": "a73fd4eb",
      "metadata": {
        "id": "a73fd4eb"
      },
      "outputs": [],
      "source": [
        "cnn.compile(loss='categorical_crossentropy',optimizer='adam',metrics=['accuracy'])"
      ]
    },
    {
      "cell_type": "code",
      "execution_count": 24,
      "id": "c4332380",
      "metadata": {
        "scrolled": false,
        "colab": {
          "base_uri": "https://localhost:8080/"
        },
        "id": "c4332380",
        "outputId": "169d4ea9-30bc-4431-cbe0-5d0d9ddaa928"
      },
      "outputs": [
        {
          "output_type": "stream",
          "name": "stdout",
          "text": [
            "Epoch 1/20\n",
            "2053/2053 [==============================] - 132s 64ms/step - loss: 0.1855 - accuracy: 0.9499 - val_loss: 0.1057 - val_accuracy: 0.9717\n",
            "Epoch 2/20\n",
            "2053/2053 [==============================] - 125s 61ms/step - loss: 0.1122 - accuracy: 0.9701 - val_loss: 0.0833 - val_accuracy: 0.9778\n",
            "Epoch 3/20\n",
            "2053/2053 [==============================] - 137s 67ms/step - loss: 0.0913 - accuracy: 0.9748 - val_loss: 0.0753 - val_accuracy: 0.9796\n",
            "Epoch 4/20\n",
            "2053/2053 [==============================] - 132s 64ms/step - loss: 0.0776 - accuracy: 0.9781 - val_loss: 0.0792 - val_accuracy: 0.9772\n",
            "Epoch 5/20\n",
            "2053/2053 [==============================] - 124s 61ms/step - loss: 0.0697 - accuracy: 0.9802 - val_loss: 0.0646 - val_accuracy: 0.9825\n",
            "Epoch 6/20\n",
            "2053/2053 [==============================] - 126s 61ms/step - loss: 0.0633 - accuracy: 0.9816 - val_loss: 0.0584 - val_accuracy: 0.9835\n",
            "Epoch 7/20\n",
            "2053/2053 [==============================] - 123s 60ms/step - loss: 0.0568 - accuracy: 0.9831 - val_loss: 0.0614 - val_accuracy: 0.9833\n",
            "Epoch 8/20\n",
            "2053/2053 [==============================] - 127s 62ms/step - loss: 0.0531 - accuracy: 0.9845 - val_loss: 0.0621 - val_accuracy: 0.9840\n",
            "Epoch 9/20\n",
            "2053/2053 [==============================] - 127s 62ms/step - loss: 0.0499 - accuracy: 0.9851 - val_loss: 0.0586 - val_accuracy: 0.9840\n",
            "Epoch 10/20\n",
            "2053/2053 [==============================] - 124s 60ms/step - loss: 0.0457 - accuracy: 0.9859 - val_loss: 0.0588 - val_accuracy: 0.9845\n",
            "Epoch 11/20\n",
            "2053/2053 [==============================] - 125s 61ms/step - loss: 0.0437 - accuracy: 0.9868 - val_loss: 0.0713 - val_accuracy: 0.9829\n",
            "Epoch 12/20\n",
            "2053/2053 [==============================] - 128s 62ms/step - loss: 0.0414 - accuracy: 0.9875 - val_loss: 0.0654 - val_accuracy: 0.9835\n",
            "Epoch 13/20\n",
            "2053/2053 [==============================] - 125s 61ms/step - loss: 0.0383 - accuracy: 0.9882 - val_loss: 0.0595 - val_accuracy: 0.9846\n",
            "Epoch 14/20\n",
            "2053/2053 [==============================] - 126s 61ms/step - loss: 0.0354 - accuracy: 0.9891 - val_loss: 0.0616 - val_accuracy: 0.9854\n"
          ]
        }
      ],
      "source": [
        "history=cnn.fit(x_train, y_train,epochs=20, callbacks=callbacks, batch_size=32, validation_data=(x_val,y_val))"
      ]
    },
    {
      "cell_type": "code",
      "execution_count": 25,
      "id": "e61cdaea",
      "metadata": {
        "colab": {
          "base_uri": "https://localhost:8080/",
          "height": 297
        },
        "id": "e61cdaea",
        "outputId": "4cdd28fa-85c4-4d8a-8812-547d131d8fe8"
      },
      "outputs": [
        {
          "output_type": "execute_result",
          "data": {
            "text/plain": [
              "<matplotlib.axes._subplots.AxesSubplot at 0x7fa8d7520760>"
            ]
          },
          "metadata": {},
          "execution_count": 25
        },
        {
          "output_type": "display_data",
          "data": {
            "text/plain": [
              "<Figure size 432x288 with 1 Axes>"
            ],
            "image/png": "[encoded data removed]"
          },
          "metadata": {
            "needs_background": "light"
          }
        }
      ],
      "source": [
        "classes = []\n",
        "sns.countplot(x=187, data = test_df)"
      ]
    },
    {
      "cell_type": "code",
      "execution_count": 26,
      "id": "c7b113ce",
      "metadata": {
        "colab": {
          "base_uri": "https://localhost:8080/"
        },
        "id": "c7b113ce",
        "outputId": "4b6ea9f2-41c3-4f8b-9867-4bca457c1dbf"
      },
      "outputs": [
        {
          "output_type": "stream",
          "name": "stdout",
          "text": [
            "0.0    18118\n",
            "4.0     1608\n",
            "2.0     1448\n",
            "1.0      556\n",
            "3.0      162\n",
            "Name: 187, dtype: int64\n"
          ]
        }
      ],
      "source": [
        "print(test_df[187].value_counts())"
      ]
    },
    {
      "cell_type": "code",
      "execution_count": 27,
      "id": "f72acba7",
      "metadata": {
        "id": "f72acba7"
      },
      "outputs": [],
      "source": [
        "class_1 = test_df[test_df[187]==1.0]\n",
        "class_2 = test_df[test_df[187]==2.0]\n",
        "class_3 = test_df[test_df[187]==3.0]\n",
        "class_4 = test_df[test_df[187]==4.0]\n",
        "class_0 = test_df[test_df[187]==0.0].sample(n = 1400)\n",
        "\n",
        "class_1=resample(class_1, replace=True, n_samples=600, random_state=1)\n",
        "#class_2=resample(class_2, replace=True, n_samples=2000, random_state=1)\n",
        "class_3=resample(class_3, replace=True, n_samples=500, random_state=1)\n",
        "#class_4=resample(class_4, replace=True, n_samples=2000, random_state=1)"
      ]
    },
    {
      "cell_type": "code",
      "execution_count": 28,
      "id": "2e5ad5e1",
      "metadata": {
        "id": "2e5ad5e1"
      },
      "outputs": [],
      "source": [
        "new_test_df = pd.concat([class_0, class_1, class_2, class_3, class_4])"
      ]
    },
    {
      "cell_type": "code",
      "execution_count": 29,
      "id": "618bdb19",
      "metadata": {
        "colab": {
          "base_uri": "https://localhost:8080/",
          "height": 297
        },
        "id": "618bdb19",
        "outputId": "bd67e308-b66b-44fc-9b0a-22a87aa2a485"
      },
      "outputs": [
        {
          "output_type": "execute_result",
          "data": {
            "text/plain": [
              "<matplotlib.axes._subplots.AxesSubplot at 0x7fa8d9308190>"
            ]
          },
          "metadata": {},
          "execution_count": 29
        },
        {
          "output_type": "display_data",
          "data": {
            "text/plain": [
              "<Figure size 432x288 with 1 Axes>"
            ],
            "image/png": "[encoded data removed]"
          },
          "metadata": {
            "needs_background": "light"
          }
        }
      ],
      "source": [
        "sns.countplot(x=187, data = new_test_df) "
      ]
    },
    {
      "cell_type": "code",
      "execution_count": 30,
      "id": "93f88243",
      "metadata": {
        "colab": {
          "base_uri": "https://localhost:8080/"
        },
        "id": "93f88243",
        "outputId": "770afb22-70eb-4e7b-8b2f-44d4ade6bea5"
      },
      "outputs": [
        {
          "output_type": "stream",
          "name": "stdout",
          "text": [
            "(5556, 187)\n",
            "(5556,)\n"
          ]
        }
      ],
      "source": [
        "x_test = new_test_df.drop(187,axis=1)\n",
        "y_test = new_test_df[187].astype('int64')\n",
        "print(x_test.shape)\n",
        "print(y_test.shape)"
      ]
    },
    {
      "cell_type": "code",
      "execution_count": 31,
      "id": "ffa2502b",
      "metadata": {
        "id": "ffa2502b"
      },
      "outputs": [],
      "source": [
        "x_test = scaler.transform(x_test)"
      ]
    },
    {
      "cell_type": "code",
      "execution_count": 32,
      "id": "b3e0bc84",
      "metadata": {
        "id": "b3e0bc84"
      },
      "outputs": [],
      "source": [
        "y_test = tf.keras.utils.to_categorical(y_test)"
      ]
    },
    {
      "cell_type": "code",
      "execution_count": 33,
      "id": "65357bfc",
      "metadata": {
        "colab": {
          "base_uri": "https://localhost:8080/"
        },
        "id": "65357bfc",
        "outputId": "9dbde098-42ec-4a7d-a145-c543f5a17e0b"
      },
      "outputs": [
        {
          "output_type": "stream",
          "name": "stdout",
          "text": [
            "The shape of testing data :  (5556, 187, 1) (5556, 5)\n"
          ]
        }
      ],
      "source": [
        "x_test = np.expand_dims(x_test, 2)\n",
        "print(\"The shape of testing data : \",x_test.shape,y_test.shape)"
      ]
    },
    {
      "cell_type": "code",
      "execution_count": 34,
      "id": "3648f102",
      "metadata": {
        "colab": {
          "base_uri": "https://localhost:8080/"
        },
        "id": "3648f102",
        "outputId": "2b5d85b6-9a14-4857-d52f-8cb0bf2a21b0"
      },
      "outputs": [
        {
          "output_type": "stream",
          "name": "stdout",
          "text": [
            "174/174 [==============================] - 3s 14ms/step - loss: 0.2730 - accuracy: 0.9222\n",
            "Test Loss: 0.27301\n",
            "Test Accuracy: 92.22%\n"
          ]
        }
      ],
      "source": [
        "from keras.models import load_model\n",
        "best_model=load_model('best_weights.h5')\n",
        "results = best_model.evaluate(x_test,y_test)\n",
        "\n",
        "print(\"Test Loss: {:.5f}\".format(results[0]))\n",
        "print(\"Test Accuracy: {:.2f}%\".format(results[1] * 100))"
      ]
    },
    {
      "cell_type": "code",
      "execution_count": 35,
      "id": "4bf848e9",
      "metadata": {
        "colab": {
          "base_uri": "https://localhost:8080/"
        },
        "id": "4bf848e9",
        "outputId": "0cde7ec6-6e58-470c-ab9f-2ba524ede398"
      },
      "outputs": [
        {
          "output_type": "stream",
          "name": "stdout",
          "text": [
            "     Test Loss: 0.30442\n",
            " Test Accuracy: 93.23%\n"
          ]
        }
      ],
      "source": [
        "results2 = cnn.evaluate(x_test,y_test, verbose=0)\n",
        "\n",
        "print(\"     Test Loss: {:.5f}\".format(results2[0]))\n",
        "print(\" Test Accuracy: {:.2f}%\".format(results2[1] * 100))"
      ]
    },
    {
      "cell_type": "code",
      "execution_count": 36,
      "id": "7f7ac014",
      "metadata": {
        "colab": {
          "base_uri": "https://localhost:8080/",
          "height": 531
        },
        "id": "7f7ac014",
        "outputId": "c5d3f6f4-4a1d-45e1-8bff-6c4928927c30"
      },
      "outputs": [
        {
          "output_type": "execute_result",
          "data": {
            "text/plain": [
              "<matplotlib.axes._subplots.AxesSubplot at 0x7fa8dac4f760>"
            ]
          },
          "metadata": {},
          "execution_count": 36
        },
        {
          "output_type": "display_data",
          "data": {
            "text/plain": [
              "<Figure size 432x288 with 1 Axes>"
            ],
            "image/png": "[encoded data removed]"
          },
          "metadata": {
            "needs_background": "light"
          }
        },
        {
          "output_type": "display_data",
          "data": {
            "text/plain": [
              "<Figure size 432x288 with 1 Axes>"
            ],
            "image/png": "[encoded data removed]"
          },
          "metadata": {
            "needs_background": "light"
          }
        }
      ],
      "source": [
        "pd.DataFrame(history.history)\n",
        "pd.DataFrame(history.history)[['accuracy', 'val_accuracy']].plot()\n",
        "pd.DataFrame(history.history)[['loss', 'val_loss']].plot()"
      ]
    },
    {
      "cell_type": "code",
      "execution_count": 37,
      "id": "c3b0a624",
      "metadata": {
        "colab": {
          "base_uri": "https://localhost:8080/",
          "height": 531
        },
        "id": "c3b0a624",
        "outputId": "405dd921-cbb9-4f68-853b-f80105868c79"
      },
      "outputs": [
        {
          "output_type": "stream",
          "name": "stdout",
          "text": [
            "174/174 [==============================] - 3s 13ms/step\n"
          ]
        },
        {
          "output_type": "display_data",
          "data": {
            "text/plain": [
              "<Figure size 576x576 with 2 Axes>"
            ],
            "image/png": "[encoded data removed]"
          },
          "metadata": {
            "needs_background": "light"
          }
        }
      ],
      "source": [
        "from sklearn.metrics import confusion_matrix\n",
        "import seaborn as sns\n",
        "\n",
        "Y_pred = cnn.predict(x_test)\n",
        "Y_pred_classes = np.argmax(Y_pred,axis = 1) \n",
        "Y_true = np.argmax(y_test,axis = 1) \n",
        "\n",
        "confusion_mtx = confusion_matrix(Y_true, Y_pred_classes) \n",
        "\n",
        "f,ax = plt.subplots(figsize=(8, 8))\n",
        "sns.heatmap(confusion_mtx, annot=True, linewidths=0.01,cmap=\"Oranges\",linecolor=\"gray\", fmt= '.1f',ax=ax)\n",
        "plt.xlabel(\"Predicted Label\")\n",
        "plt.ylabel(\"True Label\")\n",
        "plt.title(\"Confusion Matrix\")\n",
        "plt.show()"
      ]
    },
    {
      "cell_type": "code",
      "execution_count": 38,
      "id": "79766bf9",
      "metadata": {
        "colab": {
          "base_uri": "https://localhost:8080/"
        },
        "id": "79766bf9",
        "outputId": "093aaf0a-36ed-407c-892a-5df371e162f1"
      },
      "outputs": [
        {
          "output_type": "stream",
          "name": "stdout",
          "text": [
            "              precision    recall  f1-score   support\n",
            "\n",
            "           0       0.84      1.00      0.91      1400\n",
            "           1       0.99      0.74      0.85       600\n",
            "           2       0.95      0.95      0.95      1448\n",
            "           3       0.94      0.78      0.85       500\n",
            "           4       0.99      0.98      0.99      1608\n",
            "\n",
            "    accuracy                           0.93      5556\n",
            "   macro avg       0.94      0.89      0.91      5556\n",
            "weighted avg       0.94      0.93      0.93      5556\n",
            "\n"
          ]
        }
      ],
      "source": [
        "from sklearn.metrics import classification_report\n",
        "print(classification_report(Y_true, Y_pred_classes))"
      ]
    },
    {
      "cell_type": "code",
      "execution_count": 43,
      "id": "b5bb54be",
      "metadata": {
        "colab": {
          "base_uri": "https://localhost:8080/"
        },
        "id": "b5bb54be",
        "outputId": "aab2d22f-3ab6-44d5-e791-c7013eb651c1"
      },
      "outputs": [
        {
          "output_type": "stream",
          "name": "stdout",
          "text": [
            "Model: \"sequential_2\"\n",
            "_________________________________________________________________\n",
            " Layer (type)                Output Shape              Param #   \n",
            "=================================================================\n",
            " conv1d_17 (Conv1D)          (None, 187, 64)           256       \n",
            "                                                                 \n",
            " conv1d_18 (Conv1D)          (None, 187, 64)           12352     \n",
            "                                                                 \n",
            " max_pooling1d_8 (MaxPooling  (None, 94, 64)           0         \n",
            " 1D)                                                             \n",
            "                                                                 \n",
            " conv1d_19 (Conv1D)          (None, 94, 128)           24704     \n",
            "                                                                 \n",
            " conv1d_20 (Conv1D)          (None, 94, 128)           49280     \n",
            "                                                                 \n",
            " max_pooling1d_9 (MaxPooling  (None, 47, 128)          0         \n",
            " 1D)                                                             \n",
            "                                                                 \n",
            " conv1d_21 (Conv1D)          (None, 47, 256)           98560     \n",
            "                                                                 \n",
            " conv1d_22 (Conv1D)          (None, 47, 256)           196864    \n",
            "                                                                 \n",
            " conv1d_23 (Conv1D)          (None, 47, 256)           196864    \n",
            "                                                                 \n",
            " max_pooling1d_10 (MaxPoolin  (None, 24, 256)          0         \n",
            " g1D)                                                            \n",
            "                                                                 \n",
            " conv1d_24 (Conv1D)          (None, 24, 512)           393728    \n",
            "                                                                 \n",
            " conv1d_25 (Conv1D)          (None, 24, 512)           786944    \n",
            "                                                                 \n",
            " conv1d_26 (Conv1D)          (None, 24, 512)           786944    \n",
            "                                                                 \n",
            " max_pooling1d_11 (MaxPoolin  (None, 12, 512)          0         \n",
            " g1D)                                                            \n",
            "                                                                 \n",
            " conv1d_27 (Conv1D)          (None, 12, 512)           786944    \n",
            "                                                                 \n",
            " conv1d_28 (Conv1D)          (None, 12, 512)           786944    \n",
            "                                                                 \n",
            " conv1d_29 (Conv1D)          (None, 12, 512)           786944    \n",
            "                                                                 \n",
            " max_pooling1d_12 (MaxPoolin  (None, 6, 512)           0         \n",
            " g1D)                                                            \n",
            "                                                                 \n",
            " flatten_2 (Flatten)         (None, 3072)              0         \n",
            "                                                                 \n",
            " dense_6 (Dense)             (None, 4096)              12587008  \n",
            "                                                                 \n",
            " dense_7 (Dense)             (None, 4096)              16781312  \n",
            "                                                                 \n",
            " dense_8 (Dense)             (None, 5)                 20485     \n",
            "                                                                 \n",
            "=================================================================\n",
            "Total params: 34,296,133\n",
            "Trainable params: 34,296,133\n",
            "Non-trainable params: 0\n",
            "_________________________________________________________________\n"
          ]
        }
      ],
      "source": [
        "'''def create_vgg16_model():\n",
        "    model = Sequential([\n",
        "    # 1st Conv Block\n",
        "        Conv1D (filters =64, kernel_size =3, padding ='same',input_shape=(x_train.shape[1],1), activation='relu'),\n",
        "        Conv1D (filters =64, kernel_size =3, padding ='same', activation='relu'),\n",
        "        MaxPooling1D(pool_size =2, strides =2, padding ='same'),\n",
        "    \n",
        "    # 2nd Conv Block\n",
        "        Conv1D (filters =128, kernel_size =3, padding ='same', activation='relu'),\n",
        "        Conv1D (filters =128, kernel_size =3, padding ='same', activation='relu'),\n",
        "        MaxPooling1D(pool_size =2, strides =2, padding ='same'),\n",
        "    \n",
        "    # 3rd Conv block  \n",
        "        Conv1D (filters =256, kernel_size =3, padding ='same', activation='relu'),\n",
        "        Conv1D (filters =256, kernel_size =3, padding ='same', activation='relu'),\n",
        "        Conv1D (filters =256, kernel_size =3, padding ='same', activation='relu'),\n",
        "        MaxPooling1D(pool_size =2, strides =2, padding ='same'),\n",
        "    \n",
        "    # 4th Conv block\n",
        "        Conv1D (filters =512, kernel_size =3, padding ='same', activation='relu'),\n",
        "        Conv1D (filters =512, kernel_size =3, padding ='same', activation='relu'),\n",
        "        Conv1D (filters =512, kernel_size =3, padding ='same', activation='relu'),\n",
        "        MaxPooling1D(pool_size =2, strides =2, padding ='same'),\n",
        "\n",
        "    # 5th Conv block\n",
        "        Conv1D (filters =512, kernel_size =3, padding ='same', activation='relu'),\n",
        "        Conv1D (filters =512, kernel_size =3, padding ='same', activation='relu'),\n",
        "        Conv1D (filters =512, kernel_size =3, padding ='same', activation='relu'),\n",
        "        MaxPooling1D(pool_size =2, strides =2, padding ='same'),\n",
        "    \n",
        "    # Fully connected layers  \n",
        "        Flatten(),\n",
        "        Dense(units = 4096, activation ='relu'),\n",
        "        Dense(units = 4096, activation ='relu'), \n",
        "        Dense(units = 5, activation ='softmax')\n",
        "    ])\n",
        "    \n",
        "    return model\n",
        "\n",
        "vgg16_model = create_vgg16_model()\n",
        "vgg16_model.summary()'''"
      ]
    },
    {
      "cell_type": "code",
      "source": [
        "'''callbacks = [EarlyStopping(monitor='val_loss', patience=8), ModelCheckpoint(filepath='best_weights.h5', monitor='val_loss', save_best_only=True)]"
      ],
      "metadata": {
        "id": "2AoS3fxAYoxV"
      },
      "id": "2AoS3fxAYoxV",
      "execution_count": 44,
      "outputs": []
    },
    {
      "cell_type": "code",
      "execution_count": 1,
      "id": "ed31726a",
      "metadata": {
        "colab": {
          "base_uri": "https://localhost:8080/",
          "height": 71
        },
        "id": "ed31726a",
        "outputId": "a3df84d4-1250-4f09-e384-7f5302987ace"
      },
      "outputs": [
        {
          "output_type": "execute_result",
          "data": {
            "text/plain": [
              "\"vgg16_model.compile(optimizer=tf.keras.optimizers.Adam(learning_rate=0.001),\\n              loss='categorical_crossentropy',\\n              metrics=['accuracy'])\\nvgg16_history = vgg16_model.fit(x=x_train,y= y_train,batch_size=32, epochs=30,callbacks=callbacks, verbose=1, validation_data=(x_val, y_val), shuffle=True)\""
            ],
            "application/vnd.google.colaboratory.intrinsic+json": {
              "type": "string"
            }
          },
          "metadata": {},
          "execution_count": 1
        }
      ],
      "source": [
        "'''vgg16_model.compile(optimizer=tf.keras.optimizers.Adam(learning_rate=0.001),\n",
        "              loss='categorical_crossentropy',\n",
        "              metrics=['accuracy'])\n",
        "vgg16_history = vgg16_model.fit(x=x_train,y= y_train,batch_size=32, epochs=30,callbacks=callbacks, verbose=1, validation_data=(x_val, y_val), shuffle=True)'''"
      ]
    },
    {
      "cell_type": "code",
      "execution_count": null,
      "id": "624e00cf",
      "metadata": {
        "id": "624e00cf"
      },
      "outputs": [],
      "source": [
        "'''from keras.models import load_model\n",
        "best_model=load_model('best_weights.h5')\n",
        "results = best_model.evaluate(x_test,y_test)\n",
        "\n",
        "print(\"Test Loss: {:.5f}\".format(results[0]))\n",
        "print(\"Test Accuracy: {:.2f}%\".format(results[1] * 100))'''"
      ]
    },
    {
      "cell_type": "code",
      "execution_count": null,
      "id": "507fd200",
      "metadata": {
        "id": "507fd200"
      },
      "outputs": [],
      "source": [
        "'''results2 = vgg16_model.evaluate(x_test,y_test, verbose=0)\n",
        "\n",
        "print(\"     Test Loss: {:.5f}\".format(results2[0]))\n",
        "print(\" Test Accuracy: {:.2f}%\".format(results2[1] * 100))'''"
      ]
    },
    {
      "cell_type": "code",
      "execution_count": null,
      "id": "ed1b69b8",
      "metadata": {
        "id": "ed1b69b8"
      },
      "outputs": [],
      "source": [
        "'''pd.DataFrame(vgg16_history.history)\n",
        "pd.DataFrame(vgg16_history.history)[['accuracy', 'val_accuracy']].plot()\n",
        "pd.DataFrame(vgg16_history.history)[['loss', 'val_loss']].plot()'''"
      ]
    },
    {
      "cell_type": "code",
      "execution_count": null,
      "id": "acd97c66",
      "metadata": {
        "id": "acd97c66"
      },
      "outputs": [],
      "source": [
        "'''from sklearn.metrics import confusion_matrix\n",
        "import seaborn as sns\n",
        "\n",
        "Y_pred = vgg16_model.predict(x_test)\n",
        "Y_pred_classes = np.argmax(Y_pred,axis = 1) \n",
        "Y_true = np.argmax(y_test,axis = 1) \n",
        "\n",
        "confusion_mtx = confusion_matrix(Y_true, Y_pred_classes) \n",
        "\n",
        "f,ax = plt.subplots(figsize=(8, 8))\n",
        "sns.heatmap(confusion_mtx, annot=True, linewidths=0.01,cmap=\"Oranges\",linecolor=\"gray\", fmt= '.1f',ax=ax)\n",
        "plt.xlabel(\"Predicted Label\")\n",
        "plt.ylabel(\"True Label\")\n",
        "plt.title(\"Confusion Matrix\")\n",
        "plt.show()'''"
      ]
    },
    {
      "cell_type": "code",
      "execution_count": null,
      "id": "fa66beef",
      "metadata": {
        "id": "fa66beef"
      },
      "outputs": [],
      "source": [
        "#print(classification_report(Y_true, Y_pred_classes))"
      ]
    },
    {
      "cell_type": "code",
      "source": [],
      "metadata": {
        "id": "eLbvRzzRZNxa"
      },
      "id": "eLbvRzzRZNxa",
      "execution_count": null,
      "outputs": []
    }
  ],
  "metadata": {
    "kernelspec": {
      "display_name": "Python 3 (ipykernel)",
      "language": "python",
      "name": "python3"
    },
    "language_info": {
      "codemirror_mode": {
        "name": "ipython",
        "version": 3
      },
      "file_extension": ".py",
      "mimetype": "text/x-python",
      "name": "python",
      "nbconvert_exporter": "python",
      "pygments_lexer": "ipython3",
      "version": "3.10.8"
    },
    "colab": {
      "provenance": [],
      "include_colab_link": true
    },
    "accelerator": "GPU",
    "gpuClass": "standard"
  },
  "nbformat": 4,
  "nbformat_minor": 5
}
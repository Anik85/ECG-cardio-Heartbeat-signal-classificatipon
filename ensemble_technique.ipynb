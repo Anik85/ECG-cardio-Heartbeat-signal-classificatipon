{
  "cells": [
    {
      "cell_type": "code",
      "execution_count": null,
      "metadata": {
        "id": "utYMIkmEThSr"
      },
      "outputs": [],
      "source": [
        "!mkdir -p ~/.kaggle\n",
        "!cp kaggle.json ~/.kaggle/"
      ]
    },
    {
      "cell_type": "code",
      "execution_count": null,
      "metadata": {
        "colab": {
          "base_uri": "https://localhost:8080/"
        },
        "id": "DKnsPWyH5A-D",
        "outputId": "6365909a-5943-46e5-db51-f051f5d087de"
      },
      "outputs": [
        {
          "output_type": "stream",
          "name": "stdout",
          "text": [
            "Warning: Your Kaggle API key is readable by other users on this system! To fix this, you can run 'chmod 600 /root/.kaggle/kaggle.json'\n",
            "Downloading heartbeat.zip to /content\n",
            " 94% 93.0M/98.8M [00:00<00:00, 153MB/s]\n",
            "100% 98.8M/98.8M [00:00<00:00, 139MB/s]\n"
          ]
        }
      ],
      "source": [
        "!kaggle datasets download -d shayanfazeli/heartbeat"
      ]
    },
    {
      "cell_type": "code",
      "execution_count": null,
      "metadata": {
        "id": "HmgQHnZw5Z98"
      },
      "outputs": [],
      "source": [
        "import zipfile\n",
        "zip_ref=zipfile.ZipFile('/content/heartbeat.zip','r')\n",
        "zip_ref.extractall('/content')\n",
        "zip_ref.close()"
      ]
    },
    {
      "cell_type": "code",
      "execution_count": null,
      "metadata": {
        "id": "ROTOWE_66g89"
      },
      "outputs": [],
      "source": [
        "import os\n",
        "import numpy as np\n",
        "import pandas as pd\n",
        "import seaborn as sns\n",
        "import tensorflow as tf\n",
        "import matplotlib.pyplot as plt\n",
        "from sklearn.model_selection import train_test_split\n",
        "from keras.utils.np_utils import to_categorical\n",
        "from sklearn.utils import class_weight, resample\n",
        "from keras.layers import Conv1D, MaxPooling1D, Flatten, Dense, Dropout, BatchNormalization\n",
        "from keras.models import Sequential\n",
        "from keras.callbacks import EarlyStopping, ModelCheckpoint\n",
        "from sklearn.model_selection import train_test_split\n",
        "from sklearn.preprocessing import StandardScaler\n",
        "from keras.layers import Input,  Softmax, Add,  AveragePooling1D, ZeroPadding1D,Activation\n",
        "from keras import backend as K\n",
        "from keras.models import Model\n",
        "from keras.initializers import glorot_uniform"
      ]
    },
    {
      "cell_type": "code",
      "execution_count": null,
      "metadata": {
        "id": "rj4Iqr6Nf41t"
      },
      "outputs": [],
      "source": [
        "train_df=pd.read_csv('/content/mitbih_train.csv',header=None)\n",
        "test_df=pd.read_csv('/content/mitbih_test.csv',header=None)"
      ]
    },
    {
      "cell_type": "code",
      "execution_count": null,
      "metadata": {
        "colab": {
          "base_uri": "https://localhost:8080/"
        },
        "id": "42haKTh-W6gA",
        "outputId": "64dd5a2e-8fa5-41ad-a16c-0fee791317e7"
      },
      "outputs": [
        {
          "output_type": "execute_result",
          "data": {
            "text/plain": [
              "(87554, 188)"
            ]
          },
          "metadata": {},
          "execution_count": 12
        }
      ],
      "source": [
        "train_df.shape"
      ]
    },
    {
      "cell_type": "code",
      "execution_count": null,
      "metadata": {
        "colab": {
          "base_uri": "https://localhost:8080/",
          "height": 300
        },
        "id": "YwBpd64ggRDO",
        "outputId": "aef993cc-a1dd-4c67-cdbe-d8b341407f85"
      },
      "outputs": [
        {
          "output_type": "execute_result",
          "data": {
            "text/plain": [
              "        0         1         2         3         4    ...  183  184  185  186  187\n",
              "0  1.000000  0.758264  0.111570  0.000000  0.080579  ...  0.0  0.0  0.0  0.0  0.0\n",
              "1  0.908425  0.783883  0.531136  0.362637  0.366300  ...  0.0  0.0  0.0  0.0  0.0\n",
              "2  0.730088  0.212389  0.000000  0.119469  0.101770  ...  0.0  0.0  0.0  0.0  0.0\n",
              "3  1.000000  0.910417  0.681250  0.472917  0.229167  ...  0.0  0.0  0.0  0.0  0.0\n",
              "4  0.570470  0.399329  0.238255  0.147651  0.000000  ...  0.0  0.0  0.0  0.0  0.0\n",
              "\n",
              "[5 rows x 188 columns]"
            ],
            "text/html": [
              "\n",
              "  <div id=\"df-93e77274-8712-4d1b-a1d0-f014863188bf\">\n",
              "    <div class=\"colab-df-container\">\n",
              "      <div>\n",
              "<style scoped>\n",
              "    .dataframe tbody tr th:only-of-type {\n",
              "        vertical-align: middle;\n",
              "    }\n",
              "\n",
              "    .dataframe tbody tr th {\n",
              "        vertical-align: top;\n",
              "    }\n",
              "\n",
              "    .dataframe thead th {\n",
              "        text-align: right;\n",
              "    }\n",
              "</style>\n",
              "<table border=\"1\" class=\"dataframe\">\n",
              "  <thead>\n",
              "    <tr style=\"text-align: right;\">\n",
              "      <th></th>\n",
              "      <th>0</th>\n",
              "      <th>1</th>\n",
              "      <th>2</th>\n",
              "      <th>3</th>\n",
              "      <th>4</th>\n",
              "      <th>5</th>\n",
              "      <th>6</th>\n",
              "      <th>7</th>\n",
              "      <th>8</th>\n",
              "      <th>9</th>\n",
              "      <th>10</th>\n",
              "      <th>11</th>\n",
              "      <th>12</th>\n",
              "      <th>13</th>\n",
              "      <th>14</th>\n",
              "      <th>15</th>\n",
              "      <th>16</th>\n",
              "      <th>17</th>\n",
              "      <th>18</th>\n",
              "      <th>19</th>\n",
              "      <th>20</th>\n",
              "      <th>21</th>\n",
              "      <th>22</th>\n",
              "      <th>23</th>\n",
              "      <th>24</th>\n",
              "      <th>25</th>\n",
              "      <th>26</th>\n",
              "      <th>27</th>\n",
              "      <th>28</th>\n",
              "      <th>29</th>\n",
              "      <th>30</th>\n",
              "      <th>31</th>\n",
              "      <th>32</th>\n",
              "      <th>33</th>\n",
              "      <th>34</th>\n",
              "      <th>35</th>\n",
              "      <th>36</th>\n",
              "      <th>37</th>\n",
              "      <th>38</th>\n",
              "      <th>39</th>\n",
              "      <th>...</th>\n",
              "      <th>148</th>\n",
              "      <th>149</th>\n",
              "      <th>150</th>\n",
              "      <th>151</th>\n",
              "      <th>152</th>\n",
              "      <th>153</th>\n",
              "      <th>154</th>\n",
              "      <th>155</th>\n",
              "      <th>156</th>\n",
              "      <th>157</th>\n",
              "      <th>158</th>\n",
              "      <th>159</th>\n",
              "      <th>160</th>\n",
              "      <th>161</th>\n",
              "      <th>162</th>\n",
              "      <th>163</th>\n",
              "      <th>164</th>\n",
              "      <th>165</th>\n",
              "      <th>166</th>\n",
              "      <th>167</th>\n",
              "      <th>168</th>\n",
              "      <th>169</th>\n",
              "      <th>170</th>\n",
              "      <th>171</th>\n",
              "      <th>172</th>\n",
              "      <th>173</th>\n",
              "      <th>174</th>\n",
              "      <th>175</th>\n",
              "      <th>176</th>\n",
              "      <th>177</th>\n",
              "      <th>178</th>\n",
              "      <th>179</th>\n",
              "      <th>180</th>\n",
              "      <th>181</th>\n",
              "      <th>182</th>\n",
              "      <th>183</th>\n",
              "      <th>184</th>\n",
              "      <th>185</th>\n",
              "      <th>186</th>\n",
              "      <th>187</th>\n",
              "    </tr>\n",
              "  </thead>\n",
              "  <tbody>\n",
              "    <tr>\n",
              "      <th>0</th>\n",
              "      <td>1.000000</td>\n",
              "      <td>0.758264</td>\n",
              "      <td>0.111570</td>\n",
              "      <td>0.000000</td>\n",
              "      <td>0.080579</td>\n",
              "      <td>0.078512</td>\n",
              "      <td>0.066116</td>\n",
              "      <td>0.049587</td>\n",
              "      <td>0.047521</td>\n",
              "      <td>0.035124</td>\n",
              "      <td>0.030992</td>\n",
              "      <td>0.028926</td>\n",
              "      <td>0.035124</td>\n",
              "      <td>0.026860</td>\n",
              "      <td>0.039256</td>\n",
              "      <td>0.035124</td>\n",
              "      <td>0.043388</td>\n",
              "      <td>0.047521</td>\n",
              "      <td>0.053719</td>\n",
              "      <td>0.053719</td>\n",
              "      <td>0.070248</td>\n",
              "      <td>0.072314</td>\n",
              "      <td>0.084711</td>\n",
              "      <td>0.097107</td>\n",
              "      <td>0.121901</td>\n",
              "      <td>0.132231</td>\n",
              "      <td>0.169421</td>\n",
              "      <td>0.196281</td>\n",
              "      <td>0.214876</td>\n",
              "      <td>0.235537</td>\n",
              "      <td>0.254132</td>\n",
              "      <td>0.264463</td>\n",
              "      <td>0.285124</td>\n",
              "      <td>0.272727</td>\n",
              "      <td>0.266529</td>\n",
              "      <td>0.239669</td>\n",
              "      <td>0.214876</td>\n",
              "      <td>0.173554</td>\n",
              "      <td>0.157025</td>\n",
              "      <td>0.123967</td>\n",
              "      <td>...</td>\n",
              "      <td>0.0</td>\n",
              "      <td>0.0</td>\n",
              "      <td>0.0</td>\n",
              "      <td>0.0</td>\n",
              "      <td>0.0</td>\n",
              "      <td>0.0</td>\n",
              "      <td>0.0</td>\n",
              "      <td>0.0</td>\n",
              "      <td>0.0</td>\n",
              "      <td>0.0</td>\n",
              "      <td>0.0</td>\n",
              "      <td>0.0</td>\n",
              "      <td>0.0</td>\n",
              "      <td>0.0</td>\n",
              "      <td>0.0</td>\n",
              "      <td>0.0</td>\n",
              "      <td>0.0</td>\n",
              "      <td>0.0</td>\n",
              "      <td>0.0</td>\n",
              "      <td>0.0</td>\n",
              "      <td>0.0</td>\n",
              "      <td>0.0</td>\n",
              "      <td>0.0</td>\n",
              "      <td>0.0</td>\n",
              "      <td>0.0</td>\n",
              "      <td>0.0</td>\n",
              "      <td>0.0</td>\n",
              "      <td>0.0</td>\n",
              "      <td>0.0</td>\n",
              "      <td>0.0</td>\n",
              "      <td>0.0</td>\n",
              "      <td>0.0</td>\n",
              "      <td>0.0</td>\n",
              "      <td>0.0</td>\n",
              "      <td>0.0</td>\n",
              "      <td>0.0</td>\n",
              "      <td>0.0</td>\n",
              "      <td>0.0</td>\n",
              "      <td>0.0</td>\n",
              "      <td>0.0</td>\n",
              "    </tr>\n",
              "    <tr>\n",
              "      <th>1</th>\n",
              "      <td>0.908425</td>\n",
              "      <td>0.783883</td>\n",
              "      <td>0.531136</td>\n",
              "      <td>0.362637</td>\n",
              "      <td>0.366300</td>\n",
              "      <td>0.344322</td>\n",
              "      <td>0.333333</td>\n",
              "      <td>0.307692</td>\n",
              "      <td>0.296703</td>\n",
              "      <td>0.300366</td>\n",
              "      <td>0.304029</td>\n",
              "      <td>0.336996</td>\n",
              "      <td>0.377289</td>\n",
              "      <td>0.391941</td>\n",
              "      <td>0.439560</td>\n",
              "      <td>0.446886</td>\n",
              "      <td>0.457875</td>\n",
              "      <td>0.479853</td>\n",
              "      <td>0.512821</td>\n",
              "      <td>0.534799</td>\n",
              "      <td>0.586081</td>\n",
              "      <td>0.586081</td>\n",
              "      <td>0.604396</td>\n",
              "      <td>0.633700</td>\n",
              "      <td>0.615385</td>\n",
              "      <td>0.582418</td>\n",
              "      <td>0.564103</td>\n",
              "      <td>0.520147</td>\n",
              "      <td>0.490842</td>\n",
              "      <td>0.490842</td>\n",
              "      <td>0.468864</td>\n",
              "      <td>0.454212</td>\n",
              "      <td>0.450549</td>\n",
              "      <td>0.465201</td>\n",
              "      <td>0.450549</td>\n",
              "      <td>0.432234</td>\n",
              "      <td>0.424908</td>\n",
              "      <td>0.410256</td>\n",
              "      <td>0.391941</td>\n",
              "      <td>0.369963</td>\n",
              "      <td>...</td>\n",
              "      <td>0.0</td>\n",
              "      <td>0.0</td>\n",
              "      <td>0.0</td>\n",
              "      <td>0.0</td>\n",
              "      <td>0.0</td>\n",
              "      <td>0.0</td>\n",
              "      <td>0.0</td>\n",
              "      <td>0.0</td>\n",
              "      <td>0.0</td>\n",
              "      <td>0.0</td>\n",
              "      <td>0.0</td>\n",
              "      <td>0.0</td>\n",
              "      <td>0.0</td>\n",
              "      <td>0.0</td>\n",
              "      <td>0.0</td>\n",
              "      <td>0.0</td>\n",
              "      <td>0.0</td>\n",
              "      <td>0.0</td>\n",
              "      <td>0.0</td>\n",
              "      <td>0.0</td>\n",
              "      <td>0.0</td>\n",
              "      <td>0.0</td>\n",
              "      <td>0.0</td>\n",
              "      <td>0.0</td>\n",
              "      <td>0.0</td>\n",
              "      <td>0.0</td>\n",
              "      <td>0.0</td>\n",
              "      <td>0.0</td>\n",
              "      <td>0.0</td>\n",
              "      <td>0.0</td>\n",
              "      <td>0.0</td>\n",
              "      <td>0.0</td>\n",
              "      <td>0.0</td>\n",
              "      <td>0.0</td>\n",
              "      <td>0.0</td>\n",
              "      <td>0.0</td>\n",
              "      <td>0.0</td>\n",
              "      <td>0.0</td>\n",
              "      <td>0.0</td>\n",
              "      <td>0.0</td>\n",
              "    </tr>\n",
              "    <tr>\n",
              "      <th>2</th>\n",
              "      <td>0.730088</td>\n",
              "      <td>0.212389</td>\n",
              "      <td>0.000000</td>\n",
              "      <td>0.119469</td>\n",
              "      <td>0.101770</td>\n",
              "      <td>0.101770</td>\n",
              "      <td>0.110619</td>\n",
              "      <td>0.123894</td>\n",
              "      <td>0.115044</td>\n",
              "      <td>0.132743</td>\n",
              "      <td>0.106195</td>\n",
              "      <td>0.141593</td>\n",
              "      <td>0.128319</td>\n",
              "      <td>0.150442</td>\n",
              "      <td>0.132743</td>\n",
              "      <td>0.150442</td>\n",
              "      <td>0.132743</td>\n",
              "      <td>0.150442</td>\n",
              "      <td>0.123894</td>\n",
              "      <td>0.163717</td>\n",
              "      <td>0.137168</td>\n",
              "      <td>0.141593</td>\n",
              "      <td>0.132743</td>\n",
              "      <td>0.150442</td>\n",
              "      <td>0.128319</td>\n",
              "      <td>0.146018</td>\n",
              "      <td>0.119469</td>\n",
              "      <td>0.123894</td>\n",
              "      <td>0.101770</td>\n",
              "      <td>0.092920</td>\n",
              "      <td>0.070796</td>\n",
              "      <td>0.079646</td>\n",
              "      <td>0.066372</td>\n",
              "      <td>0.070796</td>\n",
              "      <td>0.079646</td>\n",
              "      <td>0.092920</td>\n",
              "      <td>0.088496</td>\n",
              "      <td>0.084071</td>\n",
              "      <td>0.079646</td>\n",
              "      <td>0.088496</td>\n",
              "      <td>...</td>\n",
              "      <td>0.0</td>\n",
              "      <td>0.0</td>\n",
              "      <td>0.0</td>\n",
              "      <td>0.0</td>\n",
              "      <td>0.0</td>\n",
              "      <td>0.0</td>\n",
              "      <td>0.0</td>\n",
              "      <td>0.0</td>\n",
              "      <td>0.0</td>\n",
              "      <td>0.0</td>\n",
              "      <td>0.0</td>\n",
              "      <td>0.0</td>\n",
              "      <td>0.0</td>\n",
              "      <td>0.0</td>\n",
              "      <td>0.0</td>\n",
              "      <td>0.0</td>\n",
              "      <td>0.0</td>\n",
              "      <td>0.0</td>\n",
              "      <td>0.0</td>\n",
              "      <td>0.0</td>\n",
              "      <td>0.0</td>\n",
              "      <td>0.0</td>\n",
              "      <td>0.0</td>\n",
              "      <td>0.0</td>\n",
              "      <td>0.0</td>\n",
              "      <td>0.0</td>\n",
              "      <td>0.0</td>\n",
              "      <td>0.0</td>\n",
              "      <td>0.0</td>\n",
              "      <td>0.0</td>\n",
              "      <td>0.0</td>\n",
              "      <td>0.0</td>\n",
              "      <td>0.0</td>\n",
              "      <td>0.0</td>\n",
              "      <td>0.0</td>\n",
              "      <td>0.0</td>\n",
              "      <td>0.0</td>\n",
              "      <td>0.0</td>\n",
              "      <td>0.0</td>\n",
              "      <td>0.0</td>\n",
              "    </tr>\n",
              "    <tr>\n",
              "      <th>3</th>\n",
              "      <td>1.000000</td>\n",
              "      <td>0.910417</td>\n",
              "      <td>0.681250</td>\n",
              "      <td>0.472917</td>\n",
              "      <td>0.229167</td>\n",
              "      <td>0.068750</td>\n",
              "      <td>0.000000</td>\n",
              "      <td>0.004167</td>\n",
              "      <td>0.014583</td>\n",
              "      <td>0.054167</td>\n",
              "      <td>0.102083</td>\n",
              "      <td>0.122917</td>\n",
              "      <td>0.150000</td>\n",
              "      <td>0.168750</td>\n",
              "      <td>0.172917</td>\n",
              "      <td>0.170833</td>\n",
              "      <td>0.168750</td>\n",
              "      <td>0.164583</td>\n",
              "      <td>0.156250</td>\n",
              "      <td>0.152083</td>\n",
              "      <td>0.147917</td>\n",
              "      <td>0.147917</td>\n",
              "      <td>0.145833</td>\n",
              "      <td>0.145833</td>\n",
              "      <td>0.141667</td>\n",
              "      <td>0.141667</td>\n",
              "      <td>0.147917</td>\n",
              "      <td>0.158333</td>\n",
              "      <td>0.168750</td>\n",
              "      <td>0.179167</td>\n",
              "      <td>0.191667</td>\n",
              "      <td>0.206250</td>\n",
              "      <td>0.220833</td>\n",
              "      <td>0.239583</td>\n",
              "      <td>0.258333</td>\n",
              "      <td>0.275000</td>\n",
              "      <td>0.287500</td>\n",
              "      <td>0.308333</td>\n",
              "      <td>0.320833</td>\n",
              "      <td>0.331250</td>\n",
              "      <td>...</td>\n",
              "      <td>0.0</td>\n",
              "      <td>0.0</td>\n",
              "      <td>0.0</td>\n",
              "      <td>0.0</td>\n",
              "      <td>0.0</td>\n",
              "      <td>0.0</td>\n",
              "      <td>0.0</td>\n",
              "      <td>0.0</td>\n",
              "      <td>0.0</td>\n",
              "      <td>0.0</td>\n",
              "      <td>0.0</td>\n",
              "      <td>0.0</td>\n",
              "      <td>0.0</td>\n",
              "      <td>0.0</td>\n",
              "      <td>0.0</td>\n",
              "      <td>0.0</td>\n",
              "      <td>0.0</td>\n",
              "      <td>0.0</td>\n",
              "      <td>0.0</td>\n",
              "      <td>0.0</td>\n",
              "      <td>0.0</td>\n",
              "      <td>0.0</td>\n",
              "      <td>0.0</td>\n",
              "      <td>0.0</td>\n",
              "      <td>0.0</td>\n",
              "      <td>0.0</td>\n",
              "      <td>0.0</td>\n",
              "      <td>0.0</td>\n",
              "      <td>0.0</td>\n",
              "      <td>0.0</td>\n",
              "      <td>0.0</td>\n",
              "      <td>0.0</td>\n",
              "      <td>0.0</td>\n",
              "      <td>0.0</td>\n",
              "      <td>0.0</td>\n",
              "      <td>0.0</td>\n",
              "      <td>0.0</td>\n",
              "      <td>0.0</td>\n",
              "      <td>0.0</td>\n",
              "      <td>0.0</td>\n",
              "    </tr>\n",
              "    <tr>\n",
              "      <th>4</th>\n",
              "      <td>0.570470</td>\n",
              "      <td>0.399329</td>\n",
              "      <td>0.238255</td>\n",
              "      <td>0.147651</td>\n",
              "      <td>0.000000</td>\n",
              "      <td>0.003356</td>\n",
              "      <td>0.040268</td>\n",
              "      <td>0.080537</td>\n",
              "      <td>0.070470</td>\n",
              "      <td>0.090604</td>\n",
              "      <td>0.080537</td>\n",
              "      <td>0.104027</td>\n",
              "      <td>0.093960</td>\n",
              "      <td>0.117450</td>\n",
              "      <td>0.097315</td>\n",
              "      <td>0.134228</td>\n",
              "      <td>0.124161</td>\n",
              "      <td>0.161074</td>\n",
              "      <td>0.171141</td>\n",
              "      <td>0.194631</td>\n",
              "      <td>0.204698</td>\n",
              "      <td>0.261745</td>\n",
              "      <td>0.275168</td>\n",
              "      <td>0.332215</td>\n",
              "      <td>0.345638</td>\n",
              "      <td>0.395973</td>\n",
              "      <td>0.406040</td>\n",
              "      <td>0.456376</td>\n",
              "      <td>0.446309</td>\n",
              "      <td>0.446309</td>\n",
              "      <td>0.399329</td>\n",
              "      <td>0.369128</td>\n",
              "      <td>0.308725</td>\n",
              "      <td>0.295302</td>\n",
              "      <td>0.265101</td>\n",
              "      <td>0.271812</td>\n",
              "      <td>0.258389</td>\n",
              "      <td>0.268456</td>\n",
              "      <td>0.261745</td>\n",
              "      <td>0.281879</td>\n",
              "      <td>...</td>\n",
              "      <td>0.0</td>\n",
              "      <td>0.0</td>\n",
              "      <td>0.0</td>\n",
              "      <td>0.0</td>\n",
              "      <td>0.0</td>\n",
              "      <td>0.0</td>\n",
              "      <td>0.0</td>\n",
              "      <td>0.0</td>\n",
              "      <td>0.0</td>\n",
              "      <td>0.0</td>\n",
              "      <td>0.0</td>\n",
              "      <td>0.0</td>\n",
              "      <td>0.0</td>\n",
              "      <td>0.0</td>\n",
              "      <td>0.0</td>\n",
              "      <td>0.0</td>\n",
              "      <td>0.0</td>\n",
              "      <td>0.0</td>\n",
              "      <td>0.0</td>\n",
              "      <td>0.0</td>\n",
              "      <td>0.0</td>\n",
              "      <td>0.0</td>\n",
              "      <td>0.0</td>\n",
              "      <td>0.0</td>\n",
              "      <td>0.0</td>\n",
              "      <td>0.0</td>\n",
              "      <td>0.0</td>\n",
              "      <td>0.0</td>\n",
              "      <td>0.0</td>\n",
              "      <td>0.0</td>\n",
              "      <td>0.0</td>\n",
              "      <td>0.0</td>\n",
              "      <td>0.0</td>\n",
              "      <td>0.0</td>\n",
              "      <td>0.0</td>\n",
              "      <td>0.0</td>\n",
              "      <td>0.0</td>\n",
              "      <td>0.0</td>\n",
              "      <td>0.0</td>\n",
              "      <td>0.0</td>\n",
              "    </tr>\n",
              "  </tbody>\n",
              "</table>\n",
              "<p>5 rows × 188 columns</p>\n",
              "</div>\n",
              "      <button class=\"colab-df-convert\" onclick=\"convertToInteractive('df-93e77274-8712-4d1b-a1d0-f014863188bf')\"\n",
              "              title=\"Convert this dataframe to an interactive table.\"\n",
              "              style=\"display:none;\">\n",
              "        \n",
              "  <svg xmlns=\"http://www.w3.org/2000/svg\" height=\"24px\"viewBox=\"0 0 24 24\"\n",
              "       width=\"24px\">\n",
              "    <path d=\"M0 0h24v24H0V0z\" fill=\"none\"/>\n",
              "    <path d=\"M18.56 5.44l.94 2.06.94-2.06 2.06-.94-2.06-.94-.94-2.06-.94 2.06-2.06.94zm-11 1L8.5 8.5l.94-2.06 2.06-.94-2.06-.94L8.5 2.5l-.94 2.06-2.06.94zm10 10l.94 2.06.94-2.06 2.06-.94-2.06-.94-.94-2.06-.94 2.06-2.06.94z\"/><path d=\"M17.41 7.96l-1.37-1.37c-.4-.4-.92-.59-1.43-.59-.52 0-1.04.2-1.43.59L10.3 9.45l-7.72 7.72c-.78.78-.78 2.05 0 2.83L4 21.41c.39.39.9.59 1.41.59.51 0 1.02-.2 1.41-.59l7.78-7.78 2.81-2.81c.8-.78.8-2.07 0-2.86zM5.41 20L4 18.59l7.72-7.72 1.47 1.35L5.41 20z\"/>\n",
              "  </svg>\n",
              "      </button>\n",
              "      \n",
              "  <style>\n",
              "    .colab-df-container {\n",
              "      display:flex;\n",
              "      flex-wrap:wrap;\n",
              "      gap: 12px;\n",
              "    }\n",
              "\n",
              "    .colab-df-convert {\n",
              "      background-color: #E8F0FE;\n",
              "      border: none;\n",
              "      border-radius: 50%;\n",
              "      cursor: pointer;\n",
              "      display: none;\n",
              "      fill: #1967D2;\n",
              "      height: 32px;\n",
              "      padding: 0 0 0 0;\n",
              "      width: 32px;\n",
              "    }\n",
              "\n",
              "    .colab-df-convert:hover {\n",
              "      background-color: #E2EBFA;\n",
              "      box-shadow: 0px 1px 2px rgba(60, 64, 67, 0.3), 0px 1px 3px 1px rgba(60, 64, 67, 0.15);\n",
              "      fill: #174EA6;\n",
              "    }\n",
              "\n",
              "    [theme=dark] .colab-df-convert {\n",
              "      background-color: #3B4455;\n",
              "      fill: #D2E3FC;\n",
              "    }\n",
              "\n",
              "    [theme=dark] .colab-df-convert:hover {\n",
              "      background-color: #434B5C;\n",
              "      box-shadow: 0px 1px 3px 1px rgba(0, 0, 0, 0.15);\n",
              "      filter: drop-shadow(0px 1px 2px rgba(0, 0, 0, 0.3));\n",
              "      fill: #FFFFFF;\n",
              "    }\n",
              "  </style>\n",
              "\n",
              "      <script>\n",
              "        const buttonEl =\n",
              "          document.querySelector('#df-93e77274-8712-4d1b-a1d0-f014863188bf button.colab-df-convert');\n",
              "        buttonEl.style.display =\n",
              "          google.colab.kernel.accessAllowed ? 'block' : 'none';\n",
              "\n",
              "        async function convertToInteractive(key) {\n",
              "          const element = document.querySelector('#df-93e77274-8712-4d1b-a1d0-f014863188bf');\n",
              "          const dataTable =\n",
              "            await google.colab.kernel.invokeFunction('convertToInteractive',\n",
              "                                                     [key], {});\n",
              "          if (!dataTable) return;\n",
              "\n",
              "          const docLinkHtml = 'Like what you see? Visit the ' +\n",
              "            '<a target=\"_blank\" href=https://colab.research.google.com/notebooks/data_table.ipynb>data table notebook</a>'\n",
              "            + ' to learn more about interactive tables.';\n",
              "          element.innerHTML = '';\n",
              "          dataTable['output_type'] = 'display_data';\n",
              "          await google.colab.output.renderOutput(dataTable, element);\n",
              "          const docLink = document.createElement('div');\n",
              "          docLink.innerHTML = docLinkHtml;\n",
              "          element.appendChild(docLink);\n",
              "        }\n",
              "      </script>\n",
              "    </div>\n",
              "  </div>\n",
              "  "
            ]
          },
          "metadata": {},
          "execution_count": 13
        }
      ],
      "source": [
        "test_df.head()"
      ]
    },
    {
      "cell_type": "code",
      "execution_count": null,
      "metadata": {
        "colab": {
          "base_uri": "https://localhost:8080/"
        },
        "id": "yXSpQh4JgSmB",
        "outputId": "c7c17296-ae9c-40ec-822d-e2328cba4f2c"
      },
      "outputs": [
        {
          "output_type": "execute_result",
          "data": {
            "text/plain": [
              "(21892, 188)"
            ]
          },
          "metadata": {},
          "execution_count": 14
        }
      ],
      "source": [
        "test_df.shape"
      ]
    },
    {
      "cell_type": "code",
      "execution_count": null,
      "metadata": {
        "colab": {
          "base_uri": "https://localhost:8080/"
        },
        "id": "4ieba6lZ7-mR",
        "outputId": "340dbe9b-0e22-419c-ec2f-d13ff7eb72ef"
      },
      "outputs": [
        {
          "output_type": "execute_result",
          "data": {
            "text/plain": [
              "0      0\n",
              "1      0\n",
              "2      0\n",
              "3      0\n",
              "4      0\n",
              "      ..\n",
              "183    0\n",
              "184    0\n",
              "185    0\n",
              "186    0\n",
              "187    0\n",
              "Length: 188, dtype: int64"
            ]
          },
          "metadata": {},
          "execution_count": 15
        }
      ],
      "source": [
        "train_df.isnull().sum()"
      ]
    },
    {
      "cell_type": "code",
      "execution_count": null,
      "metadata": {
        "colab": {
          "base_uri": "https://localhost:8080/"
        },
        "id": "tnUioK2Vg69E",
        "outputId": "8bafd281-9d4b-4460-e905-b1c5bd21051a"
      },
      "outputs": [
        {
          "output_type": "stream",
          "name": "stdout",
          "text": [
            "0.0    72471\n",
            "4.0     6431\n",
            "2.0     5788\n",
            "1.0     2223\n",
            "3.0      641\n",
            "Name: 187, dtype: int64\n"
          ]
        }
      ],
      "source": [
        "print(train_df[187].value_counts())"
      ]
    },
    {
      "cell_type": "code",
      "execution_count": null,
      "metadata": {
        "colab": {
          "base_uri": "https://localhost:8080/",
          "height": 297
        },
        "id": "3s12Vs9x9gXg",
        "outputId": "af0405e7-cdf3-4dbb-c9b6-bc602b3a8acf"
      },
      "outputs": [
        {
          "output_type": "execute_result",
          "data": {
            "text/plain": [
              "<matplotlib.axes._subplots.AxesSubplot at 0x7fe98e63abb0>"
            ]
          },
          "metadata": {},
          "execution_count": 17
        },
        {
          "output_type": "display_data",
          "data": {
            "text/plain": [
              "<Figure size 432x288 with 1 Axes>"
            ],
            "image/png": "[encoded data removed]"
          },
          "metadata": {
            "needs_background": "light"
          }
        }
      ],
      "source": [
        "sns.countplot(x=187, data = train_df) "
      ]
    },
    {
      "cell_type": "code",
      "execution_count": null,
      "metadata": {
        "colab": {
          "base_uri": "https://localhost:8080/",
          "height": 411
        },
        "id": "vnSD56cr-YE3",
        "outputId": "67f1e75b-832e-437d-bdc7-f2f555508b92"
      },
      "outputs": [
        {
          "output_type": "display_data",
          "data": {
            "text/plain": [
              "<Figure size 504x504 with 1 Axes>"
            ],
            "image/png": "[encoded data removed]"
          },
          "metadata": {}
        }
      ],
      "source": [
        "plt.figure(figsize=(7,7))\n",
        "explode = (0, 0.2,0.2,0.2,0.2)\n",
        "plt.pie(train_df[187].value_counts(), labels=['N','Q','V','S','F'], autopct='%1.1f%%', explode=explode)\n",
        "plt.show()"
      ]
    },
    {
      "cell_type": "code",
      "execution_count": null,
      "metadata": {
        "colab": {
          "base_uri": "https://localhost:8080/"
        },
        "id": "cynusO-SALlr",
        "outputId": "5d8165a2-14ec-4ea2-f8a3-3ae7a4745391"
      },
      "outputs": [
        {
          "output_type": "stream",
          "name": "stdout",
          "text": [
            "(87554, 187)\n",
            "(87554,)\n"
          ]
        }
      ],
      "source": [
        "x = train_df.drop(187,axis=1)\n",
        "y = train_df[187].astype('int64')\n",
        "print(x.shape)\n",
        "print(y.shape)\n",
        "\n",
        "#x_test = test_df.drop(187,axis=1)\n",
        "#y_test = test_df[187].astype('int64')\n",
        "#print(x_test.shape)\n",
        "#print(y_test.shape)"
      ]
    },
    {
      "cell_type": "code",
      "execution_count": null,
      "metadata": {
        "id": "v8fxirDIAT8k"
      },
      "outputs": [],
      "source": [
        "x_train,x_val,y_train,y_val = train_test_split(x,y.values,random_state=42,stratify=y.values,shuffle=True,train_size=0.75)"
      ]
    },
    {
      "cell_type": "code",
      "execution_count": null,
      "metadata": {
        "colab": {
          "base_uri": "https://localhost:8080/"
        },
        "id": "wnWwGLcER6zf",
        "outputId": "1b8b4223-86a9-4fe6-8a4d-9a4b40cbc841"
      },
      "outputs": [
        {
          "output_type": "stream",
          "name": "stdout",
          "text": [
            "The shape of training data :  (65665, 187) (65665,)\n",
            "The shape of validation data :  (21889, 187) (21889,)\n"
          ]
        }
      ],
      "source": [
        "print(\"The shape of training data : \",x_train.shape,y_train.shape)\n",
        "print(\"The shape of validation data : \",x_val.shape,y_val.shape)"
      ]
    },
    {
      "cell_type": "code",
      "execution_count": null,
      "metadata": {
        "id": "q2dEUy-wwzEH"
      },
      "outputs": [],
      "source": [
        "scaler = StandardScaler().fit(x_train)\n",
        "x_train = scaler.transform(x_train)\n",
        "#x_test = scaler.transform(x_test)\n",
        "x_val = scaler.transform(x_val)"
      ]
    },
    {
      "cell_type": "code",
      "execution_count": null,
      "metadata": {
        "id": "5onl0y5HXMAF"
      },
      "outputs": [],
      "source": [
        "y_train = tf.keras.utils.to_categorical(y_train)\n",
        "y_val = tf.keras.utils.to_categorical(y_val)\n",
        "#y_test = tf.keras.utils.to_categorical(y_test)"
      ]
    },
    {
      "cell_type": "code",
      "execution_count": null,
      "metadata": {
        "colab": {
          "base_uri": "https://localhost:8080/"
        },
        "id": "UxVRx4XaXLu2",
        "outputId": "8cc274f8-c88c-4a21-95aa-add9e5910aef"
      },
      "outputs": [
        {
          "output_type": "stream",
          "name": "stdout",
          "text": [
            "The shape of training data :  (65665, 187, 1) (65665, 5)\n",
            "The shape of validation data :  (21889, 187, 1) (21889, 5)\n"
          ]
        }
      ],
      "source": [
        "x_train = np.expand_dims(x_train, 2)\n",
        "x_val = np.expand_dims(x_val, 2)\n",
        "#x_test = np.expand_dims(x_test, 2)\n",
        "print(\"The shape of training data : \",x_train.shape,y_train.shape)\n",
        "print(\"The shape of validation data : \",x_val.shape,y_val.shape)\n",
        "#print(\"The shape of testing data : \",x_test.shape,y_test.shape)"
      ]
    },
    {
      "cell_type": "code",
      "source": [
        "Classes_index = {\n",
        "    'N': 0, \n",
        "    'S': 1, \n",
        "    'V': 2, \n",
        "    'F': 3, \n",
        "    'Q': 4\n",
        "}"
      ],
      "metadata": {
        "id": "aoWkfLciloqU"
      },
      "execution_count": null,
      "outputs": []
    },
    {
      "cell_type": "code",
      "execution_count": null,
      "metadata": {
        "id": "5Lz9AYPuXLTQ"
      },
      "outputs": [],
      "source": [
        "import keras\n",
        "class Classifier_INCEPTION:\n",
        "    def __init__(self, weights_directory, input_shape, nb_classes, verbose=False, build=True, batch_size=64,\n",
        "                 nb_filters=32, use_residual=True, use_bottleneck=True, depth=10, kernel_size=41, nb_epochs=20):\n",
        "        self.weights_directory = weights_directory\n",
        "        self.nb_filters = nb_filters\n",
        "        self.use_residual = use_residual\n",
        "        self.use_bottleneck = use_bottleneck\n",
        "        self.depth = depth\n",
        "        self.kernel_size = kernel_size - 1\n",
        "        self.callbacks = None\n",
        "        self.batch_size = batch_size\n",
        "        self.bottleneck_size = 32\n",
        "        self.nb_epochs = nb_epochs\n",
        "\n",
        "        if build == True:\n",
        "            self.model = self.build_model(input_shape, nb_classes)\n",
        "            if (verbose == True):\n",
        "                self.model.summary()\n",
        "            self.verbose = verbose\n",
        "\n",
        "    def _inception_module(self, input_tensor, stride=1, activation='linear'):\n",
        "\n",
        "        if self.use_bottleneck and int(input_tensor.shape[-1]) > 1:\n",
        "            input_inception = Conv1D(filters=self.bottleneck_size, kernel_size=1,\n",
        "                                     padding='same', activation=activation, use_bias=False)(input_tensor)\n",
        "        else:\n",
        "            input_inception = input_tensor\n",
        "\n",
        "        kernel_size_s = [self.kernel_size // (2 ** i) for i in range(3)]\n",
        "\n",
        "        conv_list = []\n",
        "\n",
        "        for i in range(len(kernel_size_s)):\n",
        "            conv_list.append(Conv1D(filters=self.nb_filters, kernel_size=kernel_size_s[i],\n",
        "                                    strides=stride, padding='same', activation=activation, use_bias=False)(\n",
        "                input_inception))\n",
        "\n",
        "        max_pool_1 = MaxPool1D(pool_size=3, strides=stride, padding='same')(input_tensor)\n",
        "\n",
        "        conv_6 = Conv1D(filters=self.nb_filters, kernel_size=1,\n",
        "                        padding='same', activation=activation, use_bias=False)(max_pool_1)\n",
        "\n",
        "        conv_list.append(conv_6)\n",
        "\n",
        "        x = Concatenate(axis=2)(conv_list)\n",
        "        x = BatchNormalization()(x)\n",
        "        x = Activation(activation='relu')(x)\n",
        "        return x\n",
        "\n",
        "    def _shortcut_layer(self, input_tensor, out_tensor):\n",
        "        shortcut_y = Conv1D(filters=int(out_tensor.shape[-1]), kernel_size=1,\n",
        "                            padding='same', use_bias=False)(input_tensor)\n",
        "        shortcut_y = BatchNormalization()(shortcut_y)\n",
        "\n",
        "        x = Add()([shortcut_y, out_tensor])\n",
        "        x = Activation('relu')(x)\n",
        "        return x\n",
        "\n",
        "    def build_model(self, input_shape, nb_classes):\n",
        "        input_layer = Input(input_shape)\n",
        "\n",
        "        x = input_layer\n",
        "        input_res = input_layer\n",
        "\n",
        "        for d in range(self.depth):\n",
        "\n",
        "            x = self._inception_module(x)\n",
        "\n",
        "            if self.use_residual and d % 3 == 2:\n",
        "                x = self._shortcut_layer(input_res, x)\n",
        "                input_res = x\n",
        "\n",
        "        gap_layer = GlobalAveragePooling1D()(x)\n",
        "\n",
        "        output_layer = Dense(nb_classes, activation='softmax')(gap_layer)\n",
        "\n",
        "        model = Model(inputs=input_layer, outputs=output_layer)\n",
        "\n",
        "        model.compile(loss='categorical_crossentropy', \n",
        "                      optimizer=Adam(),\n",
        "                      metrics=['accuracy', Precision(), Recall()])\n",
        "\n",
        "        reduce_lr = ReduceLROnPlateau(monitor='val_accuracy', \n",
        "                                      factor=0.5, \n",
        "                                      patience=int(self.nb_epochs/20),\n",
        "                                      min_lr=0.0001)\n",
        "        \n",
        "        file_path = os.path.join(self.weights_directory,\"best_weights.h5\")\n",
        "        model_checkpoint = ModelCheckpoint(filepath=file_path, \n",
        "                                           monitor='val_accuracy',\n",
        "                                           mode=\"max\",\n",
        "                                           save_best_only=True)\n",
        "        \n",
        "        early_stopping = EarlyStopping(monitor=\"val_accuracy\", \n",
        "                                       mode=\"max\", \n",
        "                                       verbose=1, \n",
        "                                       patience=int(self.nb_epochs/10))\n",
        "        plotlosses = PlotLossesKeras()\n",
        "        self.callbacks = [reduce_lr, model_checkpoint, early_stopping,plotlosses]\n",
        "        return model\n",
        "\n",
        "    def fit(self, x_train, y_train, x_val, y_val, class_weights=None):       \n",
        "        if self.batch_size is None:\n",
        "            mini_batch_size = int(min(x_train.shape[0] / 10, 16))\n",
        "        else:\n",
        "            mini_batch_size = self.batch_size\n",
        "\n",
        "        start_time = time.time()\n",
        "        hist = self.model.fit(x_train, y_train, \n",
        "                              batch_size=mini_batch_size, \n",
        "                              epochs=self.nb_epochs,\n",
        "                              verbose=self.verbose, \n",
        "                              validation_data=(x_val, y_val), \n",
        "                              callbacks=self.callbacks)\n",
        "        \n",
        "        duration = time.time() - start_time\n",
        "        keras.backend.clear_session()\n",
        "        print(\"Model take {} S to train \".format(duration))\n",
        "        return hist "
      ]
    },
    {
      "cell_type": "code",
      "source": [
        "!pip install livelossplot"
      ],
      "metadata": {
        "colab": {
          "base_uri": "https://localhost:8080/"
        },
        "id": "vPsXmjgHmwuP",
        "outputId": "1a13d47c-8319-4a5f-87c5-74ee09a27024"
      },
      "execution_count": null,
      "outputs": [
        {
          "output_type": "stream",
          "name": "stdout",
          "text": [
            "Looking in indexes: https://pypi.org/simple, https://us-python.pkg.dev/colab-wheels/public/simple/\n",
            "Collecting livelossplot\n",
            "  Downloading livelossplot-0.5.5-py3-none-any.whl (22 kB)\n",
            "Requirement already satisfied: bokeh in /usr/local/lib/python3.8/dist-packages (from livelossplot) (2.3.3)\n",
            "Requirement already satisfied: matplotlib in /usr/local/lib/python3.8/dist-packages (from livelossplot) (3.2.2)\n",
            "Requirement already satisfied: numpy>=1.11.3 in /usr/local/lib/python3.8/dist-packages (from bokeh->livelossplot) (1.21.6)\n",
            "Requirement already satisfied: typing-extensions>=3.7.4 in /usr/local/lib/python3.8/dist-packages (from bokeh->livelossplot) (4.5.0)\n",
            "Requirement already satisfied: pillow>=7.1.0 in /usr/local/lib/python3.8/dist-packages (from bokeh->livelossplot) (7.1.2)\n",
            "Requirement already satisfied: packaging>=16.8 in /usr/local/lib/python3.8/dist-packages (from bokeh->livelossplot) (23.0)\n",
            "Requirement already satisfied: python-dateutil>=2.1 in /usr/local/lib/python3.8/dist-packages (from bokeh->livelossplot) (2.8.2)\n",
            "Requirement already satisfied: tornado>=5.1 in /usr/local/lib/python3.8/dist-packages (from bokeh->livelossplot) (6.2)\n",
            "Requirement already satisfied: PyYAML>=3.10 in /usr/local/lib/python3.8/dist-packages (from bokeh->livelossplot) (6.0)\n",
            "Requirement already satisfied: Jinja2>=2.9 in /usr/local/lib/python3.8/dist-packages (from bokeh->livelossplot) (2.11.3)\n",
            "Requirement already satisfied: cycler>=0.10 in /usr/local/lib/python3.8/dist-packages (from matplotlib->livelossplot) (0.11.0)\n",
            "Requirement already satisfied: pyparsing!=2.0.4,!=2.1.2,!=2.1.6,>=2.0.1 in /usr/local/lib/python3.8/dist-packages (from matplotlib->livelossplot) (3.0.9)\n",
            "Requirement already satisfied: kiwisolver>=1.0.1 in /usr/local/lib/python3.8/dist-packages (from matplotlib->livelossplot) (1.4.4)\n",
            "Requirement already satisfied: MarkupSafe>=0.23 in /usr/local/lib/python3.8/dist-packages (from Jinja2>=2.9->bokeh->livelossplot) (2.0.1)\n",
            "Requirement already satisfied: six>=1.5 in /usr/local/lib/python3.8/dist-packages (from python-dateutil>=2.1->bokeh->livelossplot) (1.15.0)\n",
            "Installing collected packages: livelossplot\n",
            "Successfully installed livelossplot-0.5.5\n"
          ]
        }
      ]
    },
    {
      "cell_type": "code",
      "source": [
        "from keras.layers import Activation,Input,Concatenate, Add, \\\n",
        "                         GlobalAveragePooling1D,MaxPool1D\n",
        "from keras.models import Model\n",
        "from tensorflow.keras.optimizers import Adam\n",
        "from tensorflow.keras.metrics import Recall, Precision\n",
        "from keras.callbacks import ModelCheckpoint, ReduceLROnPlateau\n",
        "from livelossplot import PlotLossesKeras\n",
        "\n",
        "weights_directory = \"./\"\n",
        "inception = Classifier_INCEPTION(weights_directory, x_train.shape[1:], len(Classes_index.keys()), 1, \n",
        "                                 batch_size=256, build=True)\n",
        "\n"
      ],
      "metadata": {
        "colab": {
          "base_uri": "https://localhost:8080/"
        },
        "id": "StE3M8pAltOu",
        "outputId": "19bbe3d5-ea2d-47c1-a611-53eb4ed89bb4"
      },
      "execution_count": null,
      "outputs": [
        {
          "output_type": "stream",
          "name": "stdout",
          "text": [
            "Model: \"model\"\n",
            "__________________________________________________________________________________________________\n",
            " Layer (type)                   Output Shape         Param #     Connected to                     \n",
            "==================================================================================================\n",
            " input_1 (InputLayer)           [(None, 187, 1)]     0           []                               \n",
            "                                                                                                  \n",
            " max_pooling1d_3 (MaxPooling1D)  (None, 187, 1)      0           ['input_1[0][0]']                \n",
            "                                                                                                  \n",
            " conv1d_4 (Conv1D)              (None, 187, 32)      1280        ['input_1[0][0]']                \n",
            "                                                                                                  \n",
            " conv1d_5 (Conv1D)              (None, 187, 32)      640         ['input_1[0][0]']                \n",
            "                                                                                                  \n",
            " conv1d_6 (Conv1D)              (None, 187, 32)      320         ['input_1[0][0]']                \n",
            "                                                                                                  \n",
            " conv1d_7 (Conv1D)              (None, 187, 32)      32          ['max_pooling1d_3[0][0]']        \n",
            "                                                                                                  \n",
            " concatenate (Concatenate)      (None, 187, 128)     0           ['conv1d_4[0][0]',               \n",
            "                                                                  'conv1d_5[0][0]',               \n",
            "                                                                  'conv1d_6[0][0]',               \n",
            "                                                                  'conv1d_7[0][0]']               \n",
            "                                                                                                  \n",
            " batch_normalization_3 (BatchNo  (None, 187, 128)    512         ['concatenate[0][0]']            \n",
            " rmalization)                                                                                     \n",
            "                                                                                                  \n",
            " activation (Activation)        (None, 187, 128)     0           ['batch_normalization_3[0][0]']  \n",
            "                                                                                                  \n",
            " conv1d_8 (Conv1D)              (None, 187, 32)      4096        ['activation[0][0]']             \n",
            "                                                                                                  \n",
            " max_pooling1d_4 (MaxPooling1D)  (None, 187, 128)    0           ['activation[0][0]']             \n",
            "                                                                                                  \n",
            " conv1d_9 (Conv1D)              (None, 187, 32)      40960       ['conv1d_8[0][0]']               \n",
            "                                                                                                  \n",
            " conv1d_10 (Conv1D)             (None, 187, 32)      20480       ['conv1d_8[0][0]']               \n",
            "                                                                                                  \n",
            " conv1d_11 (Conv1D)             (None, 187, 32)      10240       ['conv1d_8[0][0]']               \n",
            "                                                                                                  \n",
            " conv1d_12 (Conv1D)             (None, 187, 32)      4096        ['max_pooling1d_4[0][0]']        \n",
            "                                                                                                  \n",
            " concatenate_1 (Concatenate)    (None, 187, 128)     0           ['conv1d_9[0][0]',               \n",
            "                                                                  'conv1d_10[0][0]',              \n",
            "                                                                  'conv1d_11[0][0]',              \n",
            "                                                                  'conv1d_12[0][0]']              \n",
            "                                                                                                  \n",
            " batch_normalization_4 (BatchNo  (None, 187, 128)    512         ['concatenate_1[0][0]']          \n",
            " rmalization)                                                                                     \n",
            "                                                                                                  \n",
            " activation_1 (Activation)      (None, 187, 128)     0           ['batch_normalization_4[0][0]']  \n",
            "                                                                                                  \n",
            " conv1d_13 (Conv1D)             (None, 187, 32)      4096        ['activation_1[0][0]']           \n",
            "                                                                                                  \n",
            " max_pooling1d_5 (MaxPooling1D)  (None, 187, 128)    0           ['activation_1[0][0]']           \n",
            "                                                                                                  \n",
            " conv1d_14 (Conv1D)             (None, 187, 32)      40960       ['conv1d_13[0][0]']              \n",
            "                                                                                                  \n",
            " conv1d_15 (Conv1D)             (None, 187, 32)      20480       ['conv1d_13[0][0]']              \n",
            "                                                                                                  \n",
            " conv1d_16 (Conv1D)             (None, 187, 32)      10240       ['conv1d_13[0][0]']              \n",
            "                                                                                                  \n",
            " conv1d_17 (Conv1D)             (None, 187, 32)      4096        ['max_pooling1d_5[0][0]']        \n",
            "                                                                                                  \n",
            " concatenate_2 (Concatenate)    (None, 187, 128)     0           ['conv1d_14[0][0]',              \n",
            "                                                                  'conv1d_15[0][0]',              \n",
            "                                                                  'conv1d_16[0][0]',              \n",
            "                                                                  'conv1d_17[0][0]']              \n",
            "                                                                                                  \n",
            " conv1d_18 (Conv1D)             (None, 187, 128)     128         ['input_1[0][0]']                \n",
            "                                                                                                  \n",
            " batch_normalization_5 (BatchNo  (None, 187, 128)    512         ['concatenate_2[0][0]']          \n",
            " rmalization)                                                                                     \n",
            "                                                                                                  \n",
            " batch_normalization_6 (BatchNo  (None, 187, 128)    512         ['conv1d_18[0][0]']              \n",
            " rmalization)                                                                                     \n",
            "                                                                                                  \n",
            " activation_2 (Activation)      (None, 187, 128)     0           ['batch_normalization_5[0][0]']  \n",
            "                                                                                                  \n",
            " add (Add)                      (None, 187, 128)     0           ['batch_normalization_6[0][0]',  \n",
            "                                                                  'activation_2[0][0]']           \n",
            "                                                                                                  \n",
            " activation_3 (Activation)      (None, 187, 128)     0           ['add[0][0]']                    \n",
            "                                                                                                  \n",
            " conv1d_19 (Conv1D)             (None, 187, 32)      4096        ['activation_3[0][0]']           \n",
            "                                                                                                  \n",
            " max_pooling1d_6 (MaxPooling1D)  (None, 187, 128)    0           ['activation_3[0][0]']           \n",
            "                                                                                                  \n",
            " conv1d_20 (Conv1D)             (None, 187, 32)      40960       ['conv1d_19[0][0]']              \n",
            "                                                                                                  \n",
            " conv1d_21 (Conv1D)             (None, 187, 32)      20480       ['conv1d_19[0][0]']              \n",
            "                                                                                                  \n",
            " conv1d_22 (Conv1D)             (None, 187, 32)      10240       ['conv1d_19[0][0]']              \n",
            "                                                                                                  \n",
            " conv1d_23 (Conv1D)             (None, 187, 32)      4096        ['max_pooling1d_6[0][0]']        \n",
            "                                                                                                  \n",
            " concatenate_3 (Concatenate)    (None, 187, 128)     0           ['conv1d_20[0][0]',              \n",
            "                                                                  'conv1d_21[0][0]',              \n",
            "                                                                  'conv1d_22[0][0]',              \n",
            "                                                                  'conv1d_23[0][0]']              \n",
            "                                                                                                  \n",
            " batch_normalization_7 (BatchNo  (None, 187, 128)    512         ['concatenate_3[0][0]']          \n",
            " rmalization)                                                                                     \n",
            "                                                                                                  \n",
            " activation_4 (Activation)      (None, 187, 128)     0           ['batch_normalization_7[0][0]']  \n",
            "                                                                                                  \n",
            " conv1d_24 (Conv1D)             (None, 187, 32)      4096        ['activation_4[0][0]']           \n",
            "                                                                                                  \n",
            " max_pooling1d_7 (MaxPooling1D)  (None, 187, 128)    0           ['activation_4[0][0]']           \n",
            "                                                                                                  \n",
            " conv1d_25 (Conv1D)             (None, 187, 32)      40960       ['conv1d_24[0][0]']              \n",
            "                                                                                                  \n",
            " conv1d_26 (Conv1D)             (None, 187, 32)      20480       ['conv1d_24[0][0]']              \n",
            "                                                                                                  \n",
            " conv1d_27 (Conv1D)             (None, 187, 32)      10240       ['conv1d_24[0][0]']              \n",
            "                                                                                                  \n",
            " conv1d_28 (Conv1D)             (None, 187, 32)      4096        ['max_pooling1d_7[0][0]']        \n",
            "                                                                                                  \n",
            " concatenate_4 (Concatenate)    (None, 187, 128)     0           ['conv1d_25[0][0]',              \n",
            "                                                                  'conv1d_26[0][0]',              \n",
            "                                                                  'conv1d_27[0][0]',              \n",
            "                                                                  'conv1d_28[0][0]']              \n",
            "                                                                                                  \n",
            " batch_normalization_8 (BatchNo  (None, 187, 128)    512         ['concatenate_4[0][0]']          \n",
            " rmalization)                                                                                     \n",
            "                                                                                                  \n",
            " activation_5 (Activation)      (None, 187, 128)     0           ['batch_normalization_8[0][0]']  \n",
            "                                                                                                  \n",
            " conv1d_29 (Conv1D)             (None, 187, 32)      4096        ['activation_5[0][0]']           \n",
            "                                                                                                  \n",
            " max_pooling1d_8 (MaxPooling1D)  (None, 187, 128)    0           ['activation_5[0][0]']           \n",
            "                                                                                                  \n",
            " conv1d_30 (Conv1D)             (None, 187, 32)      40960       ['conv1d_29[0][0]']              \n",
            "                                                                                                  \n",
            " conv1d_31 (Conv1D)             (None, 187, 32)      20480       ['conv1d_29[0][0]']              \n",
            "                                                                                                  \n",
            " conv1d_32 (Conv1D)             (None, 187, 32)      10240       ['conv1d_29[0][0]']              \n",
            "                                                                                                  \n",
            " conv1d_33 (Conv1D)             (None, 187, 32)      4096        ['max_pooling1d_8[0][0]']        \n",
            "                                                                                                  \n",
            " concatenate_5 (Concatenate)    (None, 187, 128)     0           ['conv1d_30[0][0]',              \n",
            "                                                                  'conv1d_31[0][0]',              \n",
            "                                                                  'conv1d_32[0][0]',              \n",
            "                                                                  'conv1d_33[0][0]']              \n",
            "                                                                                                  \n",
            " conv1d_34 (Conv1D)             (None, 187, 128)     16384       ['activation_3[0][0]']           \n",
            "                                                                                                  \n",
            " batch_normalization_9 (BatchNo  (None, 187, 128)    512         ['concatenate_5[0][0]']          \n",
            " rmalization)                                                                                     \n",
            "                                                                                                  \n",
            " batch_normalization_10 (BatchN  (None, 187, 128)    512         ['conv1d_34[0][0]']              \n",
            " ormalization)                                                                                    \n",
            "                                                                                                  \n",
            " activation_6 (Activation)      (None, 187, 128)     0           ['batch_normalization_9[0][0]']  \n",
            "                                                                                                  \n",
            " add_1 (Add)                    (None, 187, 128)     0           ['batch_normalization_10[0][0]', \n",
            "                                                                  'activation_6[0][0]']           \n",
            "                                                                                                  \n",
            " activation_7 (Activation)      (None, 187, 128)     0           ['add_1[0][0]']                  \n",
            "                                                                                                  \n",
            " conv1d_35 (Conv1D)             (None, 187, 32)      4096        ['activation_7[0][0]']           \n",
            "                                                                                                  \n",
            " max_pooling1d_9 (MaxPooling1D)  (None, 187, 128)    0           ['activation_7[0][0]']           \n",
            "                                                                                                  \n",
            " conv1d_36 (Conv1D)             (None, 187, 32)      40960       ['conv1d_35[0][0]']              \n",
            "                                                                                                  \n",
            " conv1d_37 (Conv1D)             (None, 187, 32)      20480       ['conv1d_35[0][0]']              \n",
            "                                                                                                  \n",
            " conv1d_38 (Conv1D)             (None, 187, 32)      10240       ['conv1d_35[0][0]']              \n",
            "                                                                                                  \n",
            " conv1d_39 (Conv1D)             (None, 187, 32)      4096        ['max_pooling1d_9[0][0]']        \n",
            "                                                                                                  \n",
            " concatenate_6 (Concatenate)    (None, 187, 128)     0           ['conv1d_36[0][0]',              \n",
            "                                                                  'conv1d_37[0][0]',              \n",
            "                                                                  'conv1d_38[0][0]',              \n",
            "                                                                  'conv1d_39[0][0]']              \n",
            "                                                                                                  \n",
            " batch_normalization_11 (BatchN  (None, 187, 128)    512         ['concatenate_6[0][0]']          \n",
            " ormalization)                                                                                    \n",
            "                                                                                                  \n",
            " activation_8 (Activation)      (None, 187, 128)     0           ['batch_normalization_11[0][0]'] \n",
            "                                                                                                  \n",
            " conv1d_40 (Conv1D)             (None, 187, 32)      4096        ['activation_8[0][0]']           \n",
            "                                                                                                  \n",
            " max_pooling1d_10 (MaxPooling1D  (None, 187, 128)    0           ['activation_8[0][0]']           \n",
            " )                                                                                                \n",
            "                                                                                                  \n",
            " conv1d_41 (Conv1D)             (None, 187, 32)      40960       ['conv1d_40[0][0]']              \n",
            "                                                                                                  \n",
            " conv1d_42 (Conv1D)             (None, 187, 32)      20480       ['conv1d_40[0][0]']              \n",
            "                                                                                                  \n",
            " conv1d_43 (Conv1D)             (None, 187, 32)      10240       ['conv1d_40[0][0]']              \n",
            "                                                                                                  \n",
            " conv1d_44 (Conv1D)             (None, 187, 32)      4096        ['max_pooling1d_10[0][0]']       \n",
            "                                                                                                  \n",
            " concatenate_7 (Concatenate)    (None, 187, 128)     0           ['conv1d_41[0][0]',              \n",
            "                                                                  'conv1d_42[0][0]',              \n",
            "                                                                  'conv1d_43[0][0]',              \n",
            "                                                                  'conv1d_44[0][0]']              \n",
            "                                                                                                  \n",
            " batch_normalization_12 (BatchN  (None, 187, 128)    512         ['concatenate_7[0][0]']          \n",
            " ormalization)                                                                                    \n",
            "                                                                                                  \n",
            " activation_9 (Activation)      (None, 187, 128)     0           ['batch_normalization_12[0][0]'] \n",
            "                                                                                                  \n",
            " conv1d_45 (Conv1D)             (None, 187, 32)      4096        ['activation_9[0][0]']           \n",
            "                                                                                                  \n",
            " max_pooling1d_11 (MaxPooling1D  (None, 187, 128)    0           ['activation_9[0][0]']           \n",
            " )                                                                                                \n",
            "                                                                                                  \n",
            " conv1d_46 (Conv1D)             (None, 187, 32)      40960       ['conv1d_45[0][0]']              \n",
            "                                                                                                  \n",
            " conv1d_47 (Conv1D)             (None, 187, 32)      20480       ['conv1d_45[0][0]']              \n",
            "                                                                                                  \n",
            " conv1d_48 (Conv1D)             (None, 187, 32)      10240       ['conv1d_45[0][0]']              \n",
            "                                                                                                  \n",
            " conv1d_49 (Conv1D)             (None, 187, 32)      4096        ['max_pooling1d_11[0][0]']       \n",
            "                                                                                                  \n",
            " concatenate_8 (Concatenate)    (None, 187, 128)     0           ['conv1d_46[0][0]',              \n",
            "                                                                  'conv1d_47[0][0]',              \n",
            "                                                                  'conv1d_48[0][0]',              \n",
            "                                                                  'conv1d_49[0][0]']              \n",
            "                                                                                                  \n",
            " conv1d_50 (Conv1D)             (None, 187, 128)     16384       ['activation_7[0][0]']           \n",
            "                                                                                                  \n",
            " batch_normalization_13 (BatchN  (None, 187, 128)    512         ['concatenate_8[0][0]']          \n",
            " ormalization)                                                                                    \n",
            "                                                                                                  \n",
            " batch_normalization_14 (BatchN  (None, 187, 128)    512         ['conv1d_50[0][0]']              \n",
            " ormalization)                                                                                    \n",
            "                                                                                                  \n",
            " activation_10 (Activation)     (None, 187, 128)     0           ['batch_normalization_13[0][0]'] \n",
            "                                                                                                  \n",
            " add_2 (Add)                    (None, 187, 128)     0           ['batch_normalization_14[0][0]', \n",
            "                                                                  'activation_10[0][0]']          \n",
            "                                                                                                  \n",
            " activation_11 (Activation)     (None, 187, 128)     0           ['add_2[0][0]']                  \n",
            "                                                                                                  \n",
            " conv1d_51 (Conv1D)             (None, 187, 32)      4096        ['activation_11[0][0]']          \n",
            "                                                                                                  \n",
            " max_pooling1d_12 (MaxPooling1D  (None, 187, 128)    0           ['activation_11[0][0]']          \n",
            " )                                                                                                \n",
            "                                                                                                  \n",
            " conv1d_52 (Conv1D)             (None, 187, 32)      40960       ['conv1d_51[0][0]']              \n",
            "                                                                                                  \n",
            " conv1d_53 (Conv1D)             (None, 187, 32)      20480       ['conv1d_51[0][0]']              \n",
            "                                                                                                  \n",
            " conv1d_54 (Conv1D)             (None, 187, 32)      10240       ['conv1d_51[0][0]']              \n",
            "                                                                                                  \n",
            " conv1d_55 (Conv1D)             (None, 187, 32)      4096        ['max_pooling1d_12[0][0]']       \n",
            "                                                                                                  \n",
            " concatenate_9 (Concatenate)    (None, 187, 128)     0           ['conv1d_52[0][0]',              \n",
            "                                                                  'conv1d_53[0][0]',              \n",
            "                                                                  'conv1d_54[0][0]',              \n",
            "                                                                  'conv1d_55[0][0]']              \n",
            "                                                                                                  \n",
            " batch_normalization_15 (BatchN  (None, 187, 128)    512         ['concatenate_9[0][0]']          \n",
            " ormalization)                                                                                    \n",
            "                                                                                                  \n",
            " activation_12 (Activation)     (None, 187, 128)     0           ['batch_normalization_15[0][0]'] \n",
            "                                                                                                  \n",
            " global_average_pooling1d (Glob  (None, 128)         0           ['activation_12[0][0]']          \n",
            " alAveragePooling1D)                                                                              \n",
            "                                                                                                  \n",
            " dense_3 (Dense)                (None, 5)            645         ['global_average_pooling1d[0][0]'\n",
            "                                                                 ]                                \n",
            "                                                                                                  \n",
            "==================================================================================================\n",
            "Total params: 761,317\n",
            "Trainable params: 757,989\n",
            "Non-trainable params: 3,328\n",
            "__________________________________________________________________________________________________\n"
          ]
        }
      ]
    },
    {
      "cell_type": "code",
      "source": [
        "import time\n",
        "history = inception.fit(x_train, y_train, x_val, y_val)"
      ],
      "metadata": {
        "id": "u6xrgXAspa06",
        "colab": {
          "base_uri": "https://localhost:8080/",
          "height": 1000
        },
        "outputId": "298306eb-a8bf-435c-9864-893c693d652b"
      },
      "execution_count": null,
      "outputs": [
        {
          "output_type": "display_data",
          "data": {
            "text/plain": [
              "<Figure size 864x1152 with 6 Axes>"
            ],
            "image/png": "[encoded data removed]"
          },
          "metadata": {
            "needs_background": "light"
          }
        },
        {
          "output_type": "stream",
          "name": "stdout",
          "text": [
            "accuracy\n",
            "\ttraining         \t (min:    0.950, max:    0.996, cur:    0.996)\n",
            "\tvalidation       \t (min:    0.941, max:    0.989, cur:    0.988)\n",
            "Loss\n",
            "\ttraining         \t (min:    0.012, max:    0.187, cur:    0.012)\n",
            "\tvalidation       \t (min:    0.042, max:    0.237, cur:    0.045)\n",
            "lr\n",
            "\tlr               \t (min:    0.000, max:    0.001, cur:    0.000)\n",
            "precision\n",
            "\ttraining         \t (min:    0.961, max:    0.996, cur:    0.996)\n",
            "\tvalidation       \t (min:    0.952, max:    0.990, cur:    0.989)\n",
            "recall\n",
            "\ttraining         \t (min:    0.937, max:    0.996, cur:    0.996)\n",
            "\tvalidation       \t (min:    0.931, max:    0.988, cur:    0.987)\n",
            "\b\b\b\b\b\b\b\b\b\b\b\b\b\b\b\b\b\b\b\b\b\b\b\b\b\b\b\b\b\b\b\b\b\b\b\b\b\b\b\b\b\b\b\b\b\b\b\b\b\b\b\b\b\b\b\b\b\b\b\b\b\b\b\b\b\b\b\b\b\b\b\b\b\b\b\b\b\b\b\b\b\b\b\b\b\b\b\b\b\b\b\b\b\b\b\b\b\b\b\b\b\b\b\b\b\b\b\b\b\b\b\b\b\b\b\b\b\b\b\b\b\r257/257 [==============================] - 50s 195ms/step - loss: 0.0116 - accuracy: 0.9962 - precision: 0.9965 - recall: 0.9960 - val_loss: 0.0446 - val_accuracy: 0.9881 - val_precision: 0.9887 - val_recall: 0.9874 - lr: 1.2500e-04\n",
            "Epoch 11: early stopping\n",
            "Model take 580.6757438182831 S to train \n"
          ]
        }
      ]
    },
    {
      "cell_type": "code",
      "source": [
        "inception.model.load_weights(\"./best_weights.h5\")"
      ],
      "metadata": {
        "id": "ONI7QXGsoSk9"
      },
      "execution_count": null,
      "outputs": []
    },
    {
      "cell_type": "code",
      "source": [
        "classes = []\n",
        "sns.countplot(x=187, data = test_df)"
      ],
      "metadata": {
        "colab": {
          "base_uri": "https://localhost:8080/",
          "height": 297
        },
        "id": "-uynxSXatSty",
        "outputId": "48dbe8f0-41d1-48f0-c464-d1e03e5caf82"
      },
      "execution_count": null,
      "outputs": [
        {
          "output_type": "execute_result",
          "data": {
            "text/plain": [
              "<matplotlib.axes._subplots.AxesSubplot at 0x7fe8dd821dc0>"
            ]
          },
          "metadata": {},
          "execution_count": 54
        },
        {
          "output_type": "display_data",
          "data": {
            "text/plain": [
              "<Figure size 432x288 with 1 Axes>"
            ],
            "image/png": "[encoded data removed]"
          },
          "metadata": {
            "needs_background": "light"
          }
        }
      ]
    },
    {
      "cell_type": "code",
      "source": [
        "print(test_df[187].value_counts())"
      ],
      "metadata": {
        "colab": {
          "base_uri": "https://localhost:8080/"
        },
        "id": "QHRxijnAtSmj",
        "outputId": "c7960cbd-c663-4026-a4c7-04f9b77a3fb0"
      },
      "execution_count": null,
      "outputs": [
        {
          "output_type": "stream",
          "name": "stdout",
          "text": [
            "0.0    18118\n",
            "4.0     1608\n",
            "2.0     1448\n",
            "1.0      556\n",
            "3.0      162\n",
            "Name: 187, dtype: int64\n"
          ]
        }
      ]
    },
    {
      "cell_type": "code",
      "source": [
        "class_1 = test_df[test_df[187]==1.0]\n",
        "class_2 = test_df[test_df[187]==2.0]\n",
        "class_3 = test_df[test_df[187]==3.0]\n",
        "class_4 = test_df[test_df[187]==4.0]\n",
        "class_0 = test_df[test_df[187]==0.0].sample(n = 1400)\n",
        "\n",
        "class_1=resample(class_1, replace=True, n_samples=600, random_state=1)\n",
        "#class_2=resample(class_2, replace=True, n_samples=2000, random_state=1)\n",
        "class_3=resample(class_3, replace=True, n_samples=500, random_state=1)\n",
        "#class_4=resample(class_4, replace=True, n_samples=2000, random_state=1)"
      ],
      "metadata": {
        "id": "6CyF9B7AtSDB"
      },
      "execution_count": null,
      "outputs": []
    },
    {
      "cell_type": "code",
      "source": [
        "new_test_df = pd.concat([class_0, class_1, class_2, class_3, class_4])"
      ],
      "metadata": {
        "id": "CCoUMdIptXI1"
      },
      "execution_count": null,
      "outputs": []
    },
    {
      "cell_type": "code",
      "source": [
        "sns.countplot(x=187, data = new_test_df) "
      ],
      "metadata": {
        "colab": {
          "base_uri": "https://localhost:8080/",
          "height": 297
        },
        "id": "IqM391tUtXFh",
        "outputId": "cb7a09ae-67eb-4d72-9d3b-71bdf8d0fe20"
      },
      "execution_count": null,
      "outputs": [
        {
          "output_type": "execute_result",
          "data": {
            "text/plain": [
              "<matplotlib.axes._subplots.AxesSubplot at 0x7fe8c869de50>"
            ]
          },
          "metadata": {},
          "execution_count": 58
        },
        {
          "output_type": "display_data",
          "data": {
            "text/plain": [
              "<Figure size 432x288 with 1 Axes>"
            ],
            "image/png": "[encoded data removed]"
          },
          "metadata": {
            "needs_background": "light"
          }
        }
      ]
    },
    {
      "cell_type": "code",
      "source": [
        "x_test = new_test_df.drop(187,axis=1)\n",
        "y_test = new_test_df[187].astype('int64')\n",
        "print(x_test.shape)\n",
        "print(y_test.shape)"
      ],
      "metadata": {
        "colab": {
          "base_uri": "https://localhost:8080/"
        },
        "id": "kpn_wEqWoi4Q",
        "outputId": "384a936d-9a68-4f34-e5a3-46aaed49516f"
      },
      "execution_count": null,
      "outputs": [
        {
          "output_type": "stream",
          "name": "stdout",
          "text": [
            "(5556, 187)\n",
            "(5556,)\n"
          ]
        }
      ]
    },
    {
      "cell_type": "code",
      "source": [
        "x_test = scaler.transform(x_test)"
      ],
      "metadata": {
        "id": "18o0EUaooiwI"
      },
      "execution_count": null,
      "outputs": []
    },
    {
      "cell_type": "code",
      "source": [
        "y_test = tf.keras.utils.to_categorical(y_test)"
      ],
      "metadata": {
        "id": "Dt_uizNtoitS"
      },
      "execution_count": null,
      "outputs": []
    },
    {
      "cell_type": "code",
      "source": [
        "x_test = np.expand_dims(x_test, 2)\n",
        "print(\"The shape of testing data : \",x_test.shape,y_test.shape)"
      ],
      "metadata": {
        "colab": {
          "base_uri": "https://localhost:8080/"
        },
        "id": "AS7O4ue1oiqI",
        "outputId": "99bb33bf-c2fa-4f72-d3d9-42f88e392b6c"
      },
      "execution_count": null,
      "outputs": [
        {
          "output_type": "stream",
          "name": "stdout",
          "text": [
            "The shape of testing data :  (5556, 187, 1) (5556, 5)\n"
          ]
        }
      ]
    },
    {
      "cell_type": "code",
      "execution_count": null,
      "metadata": {
        "id": "o1La0K0WXK6R",
        "colab": {
          "base_uri": "https://localhost:8080/"
        },
        "outputId": "2bbc002a-7be3-42f3-9b83-278f05bfb0f9"
      },
      "outputs": [
        {
          "output_type": "stream",
          "name": "stdout",
          "text": [
            "174/174 [==============================] - 3s 13ms/step - loss: 0.1681 - accuracy: 0.9507 - precision: 0.9546 - recall: 0.9491\n"
          ]
        },
        {
          "output_type": "execute_result",
          "data": {
            "text/plain": [
              "[0.16808071732521057,\n",
              " 0.9506839513778687,\n",
              " 0.9545618891716003,\n",
              " 0.9490640759468079]"
            ]
          },
          "metadata": {},
          "execution_count": 63
        }
      ],
      "source": [
        "inception.model.evaluate(x_test, y_test)"
      ]
    },
    {
      "cell_type": "code",
      "source": [
        "from keras.models import load_model\n",
        "best_model=load_model('/content/best_weights.h5')\n",
        "results = best_model.evaluate(x_test,y_test, verbose=0)\n",
        "\n",
        "print(\"    Test Loss: {:.5f}\".format(results[0]))\n",
        "print(\"Test Accuracy: {:.2f}%\".format(results[1] * 100))"
      ],
      "metadata": {
        "colab": {
          "base_uri": "https://localhost:8080/"
        },
        "id": "jHLtgVNU-ulP",
        "outputId": "fca2bf16-fefc-42fb-a0a5-36aee11088ae"
      },
      "execution_count": null,
      "outputs": [
        {
          "output_type": "stream",
          "name": "stdout",
          "text": [
            "    Test Loss: 0.16808\n",
            "Test Accuracy: 95.07%\n"
          ]
        }
      ]
    },
    {
      "cell_type": "code",
      "source": [
        "plt.plot(history.history['accuracy'])\n",
        "plt.plot(history.history['val_accuracy'])\n",
        "plt.legend(['Training', 'Validation'])\n",
        "plt.title('Training and Validation accuracy')\n",
        "plt.xlabel('epoch')\n",
        "plt.ylabel('accuracy')"
      ],
      "metadata": {
        "colab": {
          "base_uri": "https://localhost:8080/",
          "height": 313
        },
        "id": "e9WFgBlAocas",
        "outputId": "01c733b5-8c8f-46b8-bd32-faa4b5858c56"
      },
      "execution_count": null,
      "outputs": [
        {
          "output_type": "execute_result",
          "data": {
            "text/plain": [
              "Text(0, 0.5, 'accuracy')"
            ]
          },
          "metadata": {},
          "execution_count": 65
        },
        {
          "output_type": "display_data",
          "data": {
            "text/plain": [
              "<Figure size 432x288 with 1 Axes>"
            ],
            "image/png": "[encoded data removed]"
          },
          "metadata": {
            "needs_background": "light"
          }
        }
      ]
    },
    {
      "cell_type": "code",
      "source": [
        "plt.plot(history.history['loss'])\n",
        "plt.plot(history.history['val_loss'])\n",
        "plt.legend(['Training', 'Validation'])\n",
        "plt.title('Training and Validation losses')\n",
        "plt.xlabel('epoch')\n",
        "plt.ylabel('loss')"
      ],
      "metadata": {
        "colab": {
          "base_uri": "https://localhost:8080/",
          "height": 313
        },
        "id": "6ts3lduT3_FG",
        "outputId": "8c954226-499e-4669-e8ce-d3f0a07065ad"
      },
      "execution_count": null,
      "outputs": [
        {
          "output_type": "execute_result",
          "data": {
            "text/plain": [
              "Text(0, 0.5, 'loss')"
            ]
          },
          "metadata": {},
          "execution_count": 66
        },
        {
          "output_type": "display_data",
          "data": {
            "text/plain": [
              "<Figure size 432x288 with 1 Axes>"
            ],
            "image/png": "[encoded data removed]"
          },
          "metadata": {
            "needs_background": "light"
          }
        }
      ]
    },
    {
      "cell_type": "code",
      "source": [
        "from sklearn.metrics import confusion_matrix,classification_report\n",
        "import seaborn as sns\n",
        "\n",
        "Y_pred = inception.model.predict(x_test)\n",
        "Y_pred_classes = np.argmax(Y_pred,axis = 1) \n",
        "Y_true = np.argmax(y_test,axis = 1) \n",
        "\n",
        "confusion_mtx = confusion_matrix(Y_true, Y_pred_classes) \n",
        "\n",
        "f,ax = plt.subplots(figsize=(8, 8))\n",
        "sns.heatmap(confusion_mtx, annot=True, linewidths=0.01,cmap=\"Oranges\",linecolor=\"gray\", fmt= '.1f',ax=ax)\n",
        "plt.xlabel(\"Predicted Label\")\n",
        "plt.ylabel(\"True Label\")\n",
        "plt.title(\"Confusion Matrix\")\n",
        "plt.show()"
      ],
      "metadata": {
        "colab": {
          "base_uri": "https://localhost:8080/",
          "height": 531
        },
        "id": "P0NBOowM4Ysz",
        "outputId": "db1532d2-4df7-4742-ece4-a2c19ffda860"
      },
      "execution_count": null,
      "outputs": [
        {
          "output_type": "stream",
          "name": "stdout",
          "text": [
            "174/174 [==============================] - 2s 10ms/step\n"
          ]
        },
        {
          "output_type": "display_data",
          "data": {
            "text/plain": [
              "<Figure size 576x576 with 2 Axes>"
            ],
            "image/png": "[encoded data removed]"
          },
          "metadata": {
            "needs_background": "light"
          }
        }
      ]
    },
    {
      "cell_type": "code",
      "source": [
        "print(classification_report(Y_true, Y_pred_classes))"
      ],
      "metadata": {
        "id": "1201RStv4oM_",
        "colab": {
          "base_uri": "https://localhost:8080/"
        },
        "outputId": "3f0dc144-2232-433e-ab22-838ac5a413b5"
      },
      "execution_count": null,
      "outputs": [
        {
          "output_type": "stream",
          "name": "stdout",
          "text": [
            "              precision    recall  f1-score   support\n",
            "\n",
            "           0       0.89      1.00      0.94      1400\n",
            "           1       0.99      0.81      0.89       600\n",
            "           2       0.95      0.97      0.96      1448\n",
            "           3       0.96      0.80      0.87       500\n",
            "           4       1.00      1.00      1.00      1608\n",
            "\n",
            "    accuracy                           0.95      5556\n",
            "   macro avg       0.96      0.91      0.93      5556\n",
            "weighted avg       0.95      0.95      0.95      5556\n",
            "\n"
          ]
        }
      ]
    },
    {
      "cell_type": "code",
      "source": [
        "cnn = Sequential()\n",
        "cnn.add(Conv1D(128,3,input_shape=(x_train.shape[1],1), activation='relu'))\n",
        "cnn.add(BatchNormalization())\n",
        "cnn.add(MaxPooling1D(pool_size=2))\n",
        "cnn.add(Conv1D(64,3, activation='relu'))\n",
        "cnn.add(BatchNormalization())\n",
        "cnn.add(MaxPooling1D(pool_size=2))\n",
        "cnn.add(Conv1D(64,2, activation='relu'))\n",
        "cnn.add(BatchNormalization())\n",
        "cnn.add(MaxPooling1D(pool_size=2))\n",
        "cnn.add(Conv1D(64,2, activation='relu'))\n",
        "cnn.add(Flatten())\n",
        "cnn.add(Dense(128, activation='relu'))\n",
        "cnn.add(Dropout(0.5))\n",
        "cnn.add(Dense(64, activation='relu'))\n",
        "cnn.add(Dense(5, activation='softmax'))"
      ],
      "metadata": {
        "id": "m8yivVPwcqoH"
      },
      "execution_count": null,
      "outputs": []
    },
    {
      "cell_type": "code",
      "source": [
        "cnn.summary()"
      ],
      "metadata": {
        "colab": {
          "base_uri": "https://localhost:8080/"
        },
        "id": "v_Cnov77cqk9",
        "outputId": "a7ef8b2a-3f9b-4c92-ac8e-86b76dcf629a"
      },
      "execution_count": null,
      "outputs": [
        {
          "output_type": "stream",
          "name": "stdout",
          "text": [
            "Model: \"sequential\"\n",
            "_________________________________________________________________\n",
            " Layer (type)                Output Shape              Param #   \n",
            "=================================================================\n",
            " conv1d (Conv1D)             (None, 185, 128)          512       \n",
            "                                                                 \n",
            " batch_normalization (BatchN  (None, 185, 128)         512       \n",
            " ormalization)                                                   \n",
            "                                                                 \n",
            " max_pooling1d (MaxPooling1D  (None, 92, 128)          0         \n",
            " )                                                               \n",
            "                                                                 \n",
            " conv1d_1 (Conv1D)           (None, 90, 64)            24640     \n",
            "                                                                 \n",
            " batch_normalization_1 (Batc  (None, 90, 64)           256       \n",
            " hNormalization)                                                 \n",
            "                                                                 \n",
            " max_pooling1d_1 (MaxPooling  (None, 45, 64)           0         \n",
            " 1D)                                                             \n",
            "                                                                 \n",
            " conv1d_2 (Conv1D)           (None, 44, 64)            8256      \n",
            "                                                                 \n",
            " batch_normalization_2 (Batc  (None, 44, 64)           256       \n",
            " hNormalization)                                                 \n",
            "                                                                 \n",
            " max_pooling1d_2 (MaxPooling  (None, 22, 64)           0         \n",
            " 1D)                                                             \n",
            "                                                                 \n",
            " conv1d_3 (Conv1D)           (None, 21, 64)            8256      \n",
            "                                                                 \n",
            " flatten (Flatten)           (None, 1344)              0         \n",
            "                                                                 \n",
            " dense (Dense)               (None, 128)               172160    \n",
            "                                                                 \n",
            " dropout (Dropout)           (None, 128)               0         \n",
            "                                                                 \n",
            " dense_1 (Dense)             (None, 64)                8256      \n",
            "                                                                 \n",
            " dense_2 (Dense)             (None, 5)                 325       \n",
            "                                                                 \n",
            "=================================================================\n",
            "Total params: 223,429\n",
            "Trainable params: 222,917\n",
            "Non-trainable params: 512\n",
            "_________________________________________________________________\n"
          ]
        }
      ]
    },
    {
      "cell_type": "code",
      "source": [
        "callbacks = [EarlyStopping(monitor='val_loss', patience=8), ModelCheckpoint(filepath='best_weights1.h5', monitor='val_loss', save_best_only=True)]"
      ],
      "metadata": {
        "id": "J8KxyFzjcqiY"
      },
      "execution_count": null,
      "outputs": []
    },
    {
      "cell_type": "code",
      "source": [
        "cnn.compile(loss='categorical_crossentropy',optimizer='adam',metrics=['accuracy'])"
      ],
      "metadata": {
        "id": "VJ1MaRdqcqgG"
      },
      "execution_count": null,
      "outputs": []
    },
    {
      "cell_type": "code",
      "source": [
        "history=cnn.fit(x_train, y_train,epochs=20, callbacks=callbacks, batch_size=32, validation_data=(x_val,y_val))"
      ],
      "metadata": {
        "colab": {
          "base_uri": "https://localhost:8080/"
        },
        "id": "lLeEBsXUcqd9",
        "outputId": "83100f6d-8e77-4f4f-87b6-b8989fdbe9ce"
      },
      "execution_count": null,
      "outputs": [
        {
          "output_type": "stream",
          "name": "stdout",
          "text": [
            "Epoch 1/20\n",
            "2053/2053 [==============================] - 26s 11ms/step - loss: 0.1888 - accuracy: 0.9491 - val_loss: 0.1359 - val_accuracy: 0.9638\n",
            "Epoch 2/20\n",
            "2053/2053 [==============================] - 21s 10ms/step - loss: 0.1109 - accuracy: 0.9705 - val_loss: 0.0854 - val_accuracy: 0.9765\n",
            "Epoch 3/20\n",
            "2053/2053 [==============================] - 20s 10ms/step - loss: 0.0918 - accuracy: 0.9743 - val_loss: 0.0833 - val_accuracy: 0.9762\n",
            "Epoch 4/20\n",
            "2053/2053 [==============================] - 19s 9ms/step - loss: 0.0792 - accuracy: 0.9777 - val_loss: 0.0699 - val_accuracy: 0.9804\n",
            "Epoch 5/20\n",
            "2053/2053 [==============================] - 20s 10ms/step - loss: 0.0712 - accuracy: 0.9796 - val_loss: 0.0667 - val_accuracy: 0.9814\n",
            "Epoch 6/20\n",
            "2053/2053 [==============================] - 20s 10ms/step - loss: 0.0625 - accuracy: 0.9820 - val_loss: 0.0726 - val_accuracy: 0.9810\n",
            "Epoch 7/20\n",
            "2053/2053 [==============================] - 19s 9ms/step - loss: 0.0589 - accuracy: 0.9825 - val_loss: 0.0626 - val_accuracy: 0.9830\n",
            "Epoch 8/20\n",
            "2053/2053 [==============================] - 19s 9ms/step - loss: 0.0523 - accuracy: 0.9846 - val_loss: 0.0608 - val_accuracy: 0.9843\n",
            "Epoch 9/20\n",
            "2053/2053 [==============================] - 22s 11ms/step - loss: 0.0506 - accuracy: 0.9852 - val_loss: 0.0516 - val_accuracy: 0.9851\n",
            "Epoch 10/20\n",
            "2053/2053 [==============================] - 18s 9ms/step - loss: 0.0447 - accuracy: 0.9862 - val_loss: 0.0570 - val_accuracy: 0.9851\n",
            "Epoch 11/20\n",
            "2053/2053 [==============================] - 19s 9ms/step - loss: 0.0432 - accuracy: 0.9872 - val_loss: 0.0561 - val_accuracy: 0.9860\n",
            "Epoch 12/20\n",
            "2053/2053 [==============================] - 18s 9ms/step - loss: 0.0399 - accuracy: 0.9876 - val_loss: 0.0580 - val_accuracy: 0.9852\n",
            "Epoch 13/20\n",
            "2053/2053 [==============================] - 19s 9ms/step - loss: 0.0388 - accuracy: 0.9880 - val_loss: 0.0588 - val_accuracy: 0.9852\n",
            "Epoch 14/20\n",
            "2053/2053 [==============================] - 21s 10ms/step - loss: 0.0372 - accuracy: 0.9883 - val_loss: 0.0605 - val_accuracy: 0.9853\n",
            "Epoch 15/20\n",
            "2053/2053 [==============================] - 19s 9ms/step - loss: 0.0358 - accuracy: 0.9888 - val_loss: 0.0622 - val_accuracy: 0.9854\n",
            "Epoch 16/20\n",
            "2053/2053 [==============================] - 19s 9ms/step - loss: 0.0324 - accuracy: 0.9893 - val_loss: 0.0684 - val_accuracy: 0.9844\n",
            "Epoch 17/20\n",
            "2053/2053 [==============================] - 19s 9ms/step - loss: 0.0318 - accuracy: 0.9901 - val_loss: 0.0614 - val_accuracy: 0.9867\n"
          ]
        }
      ]
    },
    {
      "cell_type": "code",
      "source": [
        "from keras.models import load_model\n",
        "best_model=load_model('best_weights1.h5')\n",
        "results = best_model.evaluate(x_test,y_test)\n",
        "\n",
        "print(\"Test Loss: {:.5f}\".format(results[0]))\n",
        "print(\"Test Accuracy: {:.2f}%\".format(results[1] * 100))"
      ],
      "metadata": {
        "colab": {
          "base_uri": "https://localhost:8080/"
        },
        "id": "65IIYB-rcqb2",
        "outputId": "f415a104-6149-45c9-91c1-39a251ac92f2"
      },
      "execution_count": null,
      "outputs": [
        {
          "output_type": "stream",
          "name": "stdout",
          "text": [
            "174/174 [==============================] - 1s 5ms/step - loss: 0.2682 - accuracy: 0.9307\n",
            "Test Loss: 0.26824\n",
            "Test Accuracy: 93.07%\n"
          ]
        }
      ]
    },
    {
      "cell_type": "code",
      "source": [
        "results2 = cnn.evaluate(x_test,y_test, verbose=0)\n",
        "\n",
        "print(\"     Test Loss: {:.5f}\".format(results2[0]))\n",
        "print(\" Test Accuracy: {:.2f}%\".format(results2[1] * 100))"
      ],
      "metadata": {
        "colab": {
          "base_uri": "https://localhost:8080/"
        },
        "id": "-8gyMb2gcqZl",
        "outputId": "d0e1e70b-6033-4385-ba72-b1481a5ae3ec"
      },
      "execution_count": null,
      "outputs": [
        {
          "output_type": "stream",
          "name": "stdout",
          "text": [
            "     Test Loss: 0.32611\n",
            " Test Accuracy: 93.45%\n"
          ]
        }
      ]
    },
    {
      "cell_type": "code",
      "source": [
        "pd.DataFrame(history.history)\n",
        "pd.DataFrame(history.history)[['accuracy', 'val_accuracy']].plot()\n",
        "pd.DataFrame(history.history)[['loss', 'val_loss']].plot()"
      ],
      "metadata": {
        "colab": {
          "base_uri": "https://localhost:8080/",
          "height": 531
        },
        "id": "sSLwhZgRcqWv",
        "outputId": "b57d5c7a-75a6-4bb1-8bf4-0afad515a1ee"
      },
      "execution_count": null,
      "outputs": [
        {
          "output_type": "execute_result",
          "data": {
            "text/plain": [
              "<matplotlib.axes._subplots.AxesSubplot at 0x7fe8def3fd90>"
            ]
          },
          "metadata": {},
          "execution_count": 76
        },
        {
          "output_type": "display_data",
          "data": {
            "text/plain": [
              "<Figure size 432x288 with 1 Axes>"
            ],
            "image/png": "[encoded data removed]"
          },
          "metadata": {
            "needs_background": "light"
          }
        },
        {
          "output_type": "display_data",
          "data": {
            "text/plain": [
              "<Figure size 432x288 with 1 Axes>"
            ],
            "image/png": "[encoded data removed]"
          },
          "metadata": {
            "needs_background": "light"
          }
        }
      ]
    },
    {
      "cell_type": "code",
      "source": [
        "from sklearn.metrics import confusion_matrix\n",
        "import seaborn as sns\n",
        "\n",
        "Y_pred = cnn.predict(x_test)\n",
        "Y_pred_classes = np.argmax(Y_pred,axis = 1) \n",
        "Y_true = np.argmax(y_test,axis = 1) \n",
        "\n",
        "confusion_mtx = confusion_matrix(Y_true, Y_pred_classes) \n",
        "\n",
        "f,ax = plt.subplots(figsize=(8, 8))\n",
        "sns.heatmap(confusion_mtx, annot=True, linewidths=0.01,cmap=\"Oranges\",linecolor=\"gray\", fmt= '.1f',ax=ax)\n",
        "plt.xlabel(\"Predicted Label\")\n",
        "plt.ylabel(\"True Label\")\n",
        "plt.title(\"Confusion Matrix\")\n",
        "plt.show()"
      ],
      "metadata": {
        "colab": {
          "base_uri": "https://localhost:8080/",
          "height": 531
        },
        "id": "E3HP_kwudzm1",
        "outputId": "53513891-ca10-4e89-b984-08e4b07bc5fa"
      },
      "execution_count": null,
      "outputs": [
        {
          "output_type": "stream",
          "name": "stdout",
          "text": [
            "174/174 [==============================] - 1s 4ms/step\n"
          ]
        },
        {
          "output_type": "display_data",
          "data": {
            "text/plain": [
              "<Figure size 576x576 with 2 Axes>"
            ],
            "image/png": "[encoded data removed]"
          },
          "metadata": {
            "needs_background": "light"
          }
        }
      ]
    },
    {
      "cell_type": "code",
      "source": [
        "from sklearn.metrics import classification_report\n",
        "print(classification_report(Y_true, Y_pred_classes))"
      ],
      "metadata": {
        "colab": {
          "base_uri": "https://localhost:8080/"
        },
        "id": "JE12yf1AdzkK",
        "outputId": "d0e1cb21-a940-4ffc-b71c-4516f4024272"
      },
      "execution_count": null,
      "outputs": [
        {
          "output_type": "stream",
          "name": "stdout",
          "text": [
            "              precision    recall  f1-score   support\n",
            "\n",
            "           0       0.85      1.00      0.92      1400\n",
            "           1       0.98      0.78      0.87       600\n",
            "           2       0.94      0.96      0.95      1448\n",
            "           3       0.98      0.70      0.82       500\n",
            "           4       1.00      0.99      0.99      1608\n",
            "\n",
            "    accuracy                           0.93      5556\n",
            "   macro avg       0.95      0.89      0.91      5556\n",
            "weighted avg       0.94      0.93      0.93      5556\n",
            "\n"
          ]
        }
      ]
    },
    {
      "cell_type": "code",
      "source": [
        "from sklearn.metrics import accuracy_score\n",
        "model1=load_model('/content/best_weights.h5')\n",
        "model2=load_model('/content/best_weights1.h5')"
      ],
      "metadata": {
        "id": "G1DXEkB6dzhT"
      },
      "execution_count": null,
      "outputs": []
    },
    {
      "cell_type": "code",
      "source": [
        "models=[model1,model2]"
      ],
      "metadata": {
        "id": "S70htYVt4uGW"
      },
      "execution_count": null,
      "outputs": []
    },
    {
      "cell_type": "code",
      "source": [
        "preds=[model.predict(x_test) for model in models]"
      ],
      "metadata": {
        "colab": {
          "base_uri": "https://localhost:8080/"
        },
        "id": "ecD9ssVSdzeq",
        "outputId": "da2e0615-a499-4cf6-fedb-82ad8a41b60d"
      },
      "execution_count": null,
      "outputs": [
        {
          "output_type": "stream",
          "name": "stdout",
          "text": [
            "174/174 [==============================] - 2s 9ms/step\n",
            "174/174 [==============================] - 1s 3ms/step\n"
          ]
        }
      ]
    },
    {
      "cell_type": "code",
      "source": [
        "preds=np.array(preds)"
      ],
      "metadata": {
        "id": "bOZncjcifVud"
      },
      "execution_count": null,
      "outputs": []
    },
    {
      "cell_type": "code",
      "source": [
        "summed=np.sum(preds,axis=0)"
      ],
      "metadata": {
        "id": "JGbmxRn7fVrh"
      },
      "execution_count": null,
      "outputs": []
    },
    {
      "cell_type": "code",
      "source": [
        "ensemble_prediction=np.argmax(summed,axis=1)"
      ],
      "metadata": {
        "id": "8TZzGVZCfVpa"
      },
      "execution_count": null,
      "outputs": []
    },
    {
      "cell_type": "code",
      "source": [
        "ensemble_accuracy=accuracy_score(Y_true,ensemble_prediction)"
      ],
      "metadata": {
        "id": "2erCaT-eAV9i"
      },
      "execution_count": null,
      "outputs": []
    },
    {
      "cell_type": "code",
      "source": [
        "print(ensemble_accuracy)"
      ],
      "metadata": {
        "colab": {
          "base_uri": "https://localhost:8080/"
        },
        "id": "tX-MqXnjAV2b",
        "outputId": "7ab1b3f3-9df7-4c29-dbab-4c11a8216bc1"
      },
      "execution_count": null,
      "outputs": [
        {
          "output_type": "stream",
          "name": "stdout",
          "text": [
            "0.9463642908567315\n"
          ]
        }
      ]
    },
    {
      "cell_type": "code",
      "source": [
        "print(classification_report(Y_true,ensemble_prediction))"
      ],
      "metadata": {
        "colab": {
          "base_uri": "https://localhost:8080/"
        },
        "id": "kKvby42HHEM6",
        "outputId": "f12f3295-38a6-41b4-9a47-2174c1305087"
      },
      "execution_count": null,
      "outputs": [
        {
          "output_type": "stream",
          "name": "stdout",
          "text": [
            "              precision    recall  f1-score   support\n",
            "\n",
            "           0       0.87      1.00      0.93      1400\n",
            "           1       0.99      0.80      0.89       600\n",
            "           2       0.96      0.96      0.96      1448\n",
            "           3       0.98      0.77      0.86       500\n",
            "           4       1.00      0.99      0.99      1608\n",
            "\n",
            "    accuracy                           0.95      5556\n",
            "   macro avg       0.96      0.91      0.93      5556\n",
            "weighted avg       0.95      0.95      0.95      5556\n",
            "\n"
          ]
        }
      ]
    },
    {
      "cell_type": "code",
      "source": [],
      "metadata": {
        "id": "m08uF8ddSJLf"
      },
      "execution_count": null,
      "outputs": []
    }
  ],
  "metadata": {
    "accelerator": "GPU",
    "colab": {
      "provenance": []
    },
    "gpuClass": "standard",
    "kernelspec": {
      "display_name": "Python 3",
      "name": "python3"
    },
    "language_info": {
      "name": "python"
    }
  },
  "nbformat": 4,
  "nbformat_minor": 0
}